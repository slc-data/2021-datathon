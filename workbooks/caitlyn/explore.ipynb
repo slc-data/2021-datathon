{
 "cells": [
  {
   "cell_type": "code",
   "execution_count": 1,
   "metadata": {},
   "outputs": [],
   "source": [
    "import pandas as pd\n",
    "import numpy as np\n",
    "\n",
    "import matplotlib.pyplot as plt\n",
    "import seaborn as sns\n",
    "import statsmodels.api as sm\n",
    "\n",
    "import wrangle"
   ]
  },
  {
   "cell_type": "markdown",
   "metadata": {},
   "source": [
    "___\n",
    "## Call the data sets"
   ]
  },
  {
   "cell_type": "code",
   "execution_count": 2,
   "metadata": {},
   "outputs": [
    {
     "data": {
      "text/html": [
       "<div>\n",
       "<style scoped>\n",
       "    .dataframe tbody tr th:only-of-type {\n",
       "        vertical-align: middle;\n",
       "    }\n",
       "\n",
       "    .dataframe tbody tr th {\n",
       "        vertical-align: top;\n",
       "    }\n",
       "\n",
       "    .dataframe thead th {\n",
       "        text-align: right;\n",
       "    }\n",
       "</style>\n",
       "<table border=\"1\" class=\"dataframe\">\n",
       "  <thead>\n",
       "    <tr style=\"text-align: right;\">\n",
       "      <th></th>\n",
       "      <th>datetime</th>\n",
       "      <th>Pm1_0</th>\n",
       "      <th>Pm2_5</th>\n",
       "      <th>Pm10</th>\n",
       "      <th>SO2</th>\n",
       "      <th>O3</th>\n",
       "      <th>CO</th>\n",
       "      <th>NO2</th>\n",
       "      <th>alert_triggered</th>\n",
       "      <th>dates</th>\n",
       "      <th>...</th>\n",
       "      <th>weekday</th>\n",
       "      <th>AQI_CO</th>\n",
       "      <th>CO_24hr</th>\n",
       "      <th>AQI_CO_24hr</th>\n",
       "      <th>AQI_pm2_5</th>\n",
       "      <th>Pm_25_24hr</th>\n",
       "      <th>AQI_pm_25_24hr</th>\n",
       "      <th>AQI_pm10</th>\n",
       "      <th>Pm_10_24hr</th>\n",
       "      <th>AQI_pm10_24hr</th>\n",
       "    </tr>\n",
       "  </thead>\n",
       "  <tbody>\n",
       "    <tr>\n",
       "      <th>0</th>\n",
       "      <td>2021-05-16 00:01:26</td>\n",
       "      <td>8</td>\n",
       "      <td>7</td>\n",
       "      <td>8</td>\n",
       "      <td>0</td>\n",
       "      <td>0</td>\n",
       "      <td>0</td>\n",
       "      <td>0</td>\n",
       "      <td>None</td>\n",
       "      <td>2021-05-16</td>\n",
       "      <td>...</td>\n",
       "      <td>6</td>\n",
       "      <td>Good</td>\n",
       "      <td>-165.666667</td>\n",
       "      <td>NaN</td>\n",
       "      <td>Good</td>\n",
       "      <td>6.246528</td>\n",
       "      <td>Good</td>\n",
       "      <td>Good</td>\n",
       "      <td>-159.733796</td>\n",
       "      <td>NaN</td>\n",
       "    </tr>\n",
       "  </tbody>\n",
       "</table>\n",
       "<p>1 rows × 22 columns</p>\n",
       "</div>"
      ],
      "text/plain": [
       "             datetime  Pm1_0  Pm2_5  Pm10  SO2  O3  CO  NO2 alert_triggered  \\\n",
       "0 2021-05-16 00:01:26      8      7     8    0   0   0    0            None   \n",
       "\n",
       "        dates  ... weekday  AQI_CO     CO_24hr AQI_CO_24hr  AQI_pm2_5  \\\n",
       "0  2021-05-16  ...       6    Good -165.666667         NaN       Good   \n",
       "\n",
       "  Pm_25_24hr AQI_pm_25_24hr  AQI_pm10  Pm_10_24hr AQI_pm10_24hr  \n",
       "0   6.246528           Good      Good -159.733796           NaN  \n",
       "\n",
       "[1 rows x 22 columns]"
      ]
     },
     "execution_count": 2,
     "metadata": {},
     "output_type": "execute_result"
    }
   ],
   "source": [
    "air = wrangle.clean_air()\n",
    "air.head(1)"
   ]
  },
  {
   "cell_type": "code",
   "execution_count": 3,
   "metadata": {},
   "outputs": [],
   "source": [
    "air = air.replace(to_replace=-999, value=0)"
   ]
  },
  {
   "cell_type": "markdown",
   "metadata": {},
   "source": [
    "More info on air quality (idea is to make a level of air quality)\n",
    "- https://forum.airnowtech.org/t/the-aqi-equation/169\n",
    "- https://forum.airnowtech.org/t/aqi-calculations-overview-ozone-pm2-5-and-pm10/168\n",
    "- https://www.airnow.gov/aqi/aqi-basics/\n",
    "- https://fit.thequint.com/health-news/explaining-air-quality-index#read-more\n",
    "- https://www.airnow.gov/sites/default/files/2020-05/aqi-technical-assistance-document-sept2018.pdf\n",
    "- https://www.epa.gov/sites/production/files/2014-05/documents/zell-aqi.pdf\n",
    "- "
   ]
  },
  {
   "cell_type": "code",
   "execution_count": 4,
   "metadata": {},
   "outputs": [],
   "source": [
    "#air['dates'] = pd.to_datetime(air['datetime']).dt.date\n",
    "#air['time'] = pd.to_datetime(air['datetime']).dt.time\n",
    "#air['hour'] = pd.to_datetime(air['datetime']).dt.hour\n",
    "#air['weekday'] = pd.to_datetime(air['datetime']).dt.weekday"
   ]
  },
  {
   "cell_type": "code",
   "execution_count": 5,
   "metadata": {},
   "outputs": [],
   "source": [
    "#pm_25_24hr = air.groupby('dates', as_index=False)['Pm2_5'].mean()\n",
    "#pm_25_24hr.sample()"
   ]
  },
  {
   "cell_type": "code",
   "execution_count": 6,
   "metadata": {},
   "outputs": [],
   "source": [
    "#pm_25_24hr= pm_25_24hr.rename(columns={'Pm2_5':'Pm_25_24hr'})\n",
    "#pm_25_24hr.sample()"
   ]
  },
  {
   "cell_type": "code",
   "execution_count": 7,
   "metadata": {},
   "outputs": [],
   "source": [
    "#air = air.merge(pm_25_24hr, on = 'dates', how ='left')\n",
    "#air.sample()"
   ]
  },
  {
   "cell_type": "code",
   "execution_count": 8,
   "metadata": {},
   "outputs": [],
   "source": [
    "#air['AQI_pm_25_24hr'] = pd.cut(air.CO, \n",
    "                            #bins = [-1,12.1,35.5,55.5,150.5,250.5,4000],\n",
    "                            #labels = ['Good', 'Moderate', \n",
    "                                      #'Unhealthy for Sensitive Groups', \"Unhealthy\", \n",
    "                                      #\"Very Unhealthy\", 'Hazardous'])\n",
    "#air.sample()"
   ]
  },
  {
   "cell_type": "code",
   "execution_count": null,
   "metadata": {},
   "outputs": [],
   "source": []
  },
  {
   "cell_type": "code",
   "execution_count": 9,
   "metadata": {},
   "outputs": [],
   "source": [
    "#df = air[air.CO == -999]\n",
    "#df"
   ]
  },
  {
   "cell_type": "code",
   "execution_count": 10,
   "metadata": {},
   "outputs": [
    {
     "ename": "AttributeError",
     "evalue": "module 'wrangle' has no attribute 'split_data'",
     "output_type": "error",
     "traceback": [
      "\u001b[0;31m--------------------\u001b[0m",
      "\u001b[0;31mAttributeError\u001b[0mTraceback (most recent call last)",
      "\u001b[0;32m<ipython-input-10-98de4d23acea>\u001b[0m in \u001b[0;36m<module>\u001b[0;34m\u001b[0m\n\u001b[0;32m----> 1\u001b[0;31m \u001b[0mair_train\u001b[0m\u001b[0;34m,\u001b[0m \u001b[0mair_validate\u001b[0m\u001b[0;34m,\u001b[0m \u001b[0mair_test\u001b[0m \u001b[0;34m=\u001b[0m \u001b[0mwrangle\u001b[0m\u001b[0;34m.\u001b[0m\u001b[0msplit_data\u001b[0m\u001b[0;34m(\u001b[0m\u001b[0mair\u001b[0m\u001b[0;34m)\u001b[0m\u001b[0;34m\u001b[0m\u001b[0;34m\u001b[0m\u001b[0m\n\u001b[0m",
      "\u001b[0;31mAttributeError\u001b[0m: module 'wrangle' has no attribute 'split_data'"
     ]
    }
   ],
   "source": [
    "air_train, air_validate, air_test = wrangle.split_data(air)"
   ]
  },
  {
   "cell_type": "code",
   "execution_count": null,
   "metadata": {},
   "outputs": [],
   "source": [
    "flood = wrangle.clean_flood()\n",
    "flood.head(1)"
   ]
  },
  {
   "cell_type": "code",
   "execution_count": null,
   "metadata": {},
   "outputs": [],
   "source": [
    "flood_train, flood_validate, flood_test = wrangle.split_data(flood)"
   ]
  },
  {
   "cell_type": "code",
   "execution_count": null,
   "metadata": {},
   "outputs": [],
   "source": [
    "weather = wrangle.wrangle_weather()\n",
    "weather.head(1)"
   ]
  },
  {
   "cell_type": "code",
   "execution_count": null,
   "metadata": {},
   "outputs": [],
   "source": [
    "weather_train, weather_validate, weather_test = wrangle.split_data(weather)"
   ]
  },
  {
   "cell_type": "code",
   "execution_count": null,
   "metadata": {},
   "outputs": [],
   "source": [
    "sound = wrangle.wrangle_sound()\n",
    "sound.head(1)"
   ]
  },
  {
   "cell_type": "code",
   "execution_count": null,
   "metadata": {},
   "outputs": [],
   "source": [
    "sound_train, sound_validate, sound_test = wrangle.split_data(sound)"
   ]
  },
  {
   "cell_type": "code",
   "execution_count": null,
   "metadata": {},
   "outputs": [],
   "source": [
    "saws = wrangle.wrangle_saws()\n",
    "saws.head(1)"
   ]
  },
  {
   "cell_type": "code",
   "execution_count": null,
   "metadata": {},
   "outputs": [],
   "source": [
    "saws_train, saws_validate, saws_test = wrangle.split_data(saws)"
   ]
  },
  {
   "cell_type": "markdown",
   "metadata": {},
   "source": [
    "___\n",
    "# Explore Air Quality\n",
    "\n",
    "### Questions we asked about air quality\n",
    "- Are there spikes in air quality at certain times or days?\n",
    "- Is air quality and water consumption worse on the weekends?\n",
    "- How is the air quality after it floods?\n",
    "- What type of weather has the best air quality?\n",
    "- As air quality gets worse water consumption goes up.\n",
    "- Does air quality influence water consumption?"
   ]
  },
  {
   "cell_type": "code",
   "execution_count": null,
   "metadata": {},
   "outputs": [],
   "source": [
    "air.head(1)"
   ]
  },
  {
   "cell_type": "markdown",
   "metadata": {},
   "source": [
    "\n",
    "## Univariate Exploration"
   ]
  },
  {
   "cell_type": "code",
   "execution_count": null,
   "metadata": {},
   "outputs": [],
   "source": [
    "plt.figure(figsize=(16,8))\n",
    "sns.countplot(data=air, x='Pm1_0')\n",
    "plt.title('Count of Particles < than 1 Micron')\n",
    "plt.xlabel('Number of Particles Inhaled')\n",
    "plt.ylabel('Count of Times Sensed')\n",
    "plt.show()"
   ]
  },
  {
   "cell_type": "code",
   "execution_count": null,
   "metadata": {},
   "outputs": [],
   "source": [
    "plt.figure(figsize=(30,8))\n",
    "plot = sns.countplot(data=air, x='Pm1_0')\n",
    "plot.set(xlim=(0.5, 65))\n",
    "plot.set(ylim=(0, 2100))\n",
    "plt.xticks(rotation=45)\n",
    "plt.title('Count of Particles < than 1 Micron Minus 0')\n",
    "plt.xlabel('Number of Particles Inhaled')\n",
    "plt.ylabel('Count of Times Sensed')\n",
    "plt.show()"
   ]
  },
  {
   "cell_type": "code",
   "execution_count": null,
   "metadata": {},
   "outputs": [],
   "source": [
    "plt.figure(figsize=(30,8))\n",
    "plot = sns.countplot(data=air, x='Pm1_0')\n",
    "plot.set(xlim=(19.5, 65))\n",
    "plot.set(ylim=(0, 400))\n",
    "plt.xticks(rotation=45)\n",
    "plt.title('Count of Larger Quantities of Particles < than 1 Micron')\n",
    "plt.xlabel('Number of Particles Inhaled')\n",
    "plt.ylabel('Count of Times Sensed')\n",
    "plt.show()"
   ]
  },
  {
   "cell_type": "code",
   "execution_count": null,
   "metadata": {},
   "outputs": [],
   "source": [
    "air.Pm1_0.value_counts()"
   ]
  },
  {
   "cell_type": "markdown",
   "metadata": {},
   "source": [
    "### Takeaways:\n",
    "- Top 5 readings are at 0, 3, 6, 10, and 8\n",
    "- The higher the reading the less often it is being read\n",
    "- when looking closer at the higher reading you can see small spikes at 50, 43, and 53\n",
    "    - keep in mind these are only being considered \"spikes\" when also looking at the surrounding reading totals.\n",
    "___"
   ]
  },
  {
   "cell_type": "code",
   "execution_count": null,
   "metadata": {},
   "outputs": [],
   "source": [
    "plt.figure(figsize=(16,8))\n",
    "sns.countplot(data=air, x='Pm2_5')\n",
    "plt.xticks(rotation=45)\n",
    "plt.title('Count of Quantities of Particles < than 2.5 Micron')\n",
    "plt.xlabel('Number of Particles Inhaled')\n",
    "plt.ylabel('Count of Times Sensed')\n",
    "plt.show()"
   ]
  },
  {
   "cell_type": "code",
   "execution_count": null,
   "metadata": {},
   "outputs": [],
   "source": [
    "plt.figure(figsize=(16,8))\n",
    "plot = sns.countplot(data=air, x='Pm2_5')\n",
    "plot.set(xlim=(19.5, 76))\n",
    "plot.set(ylim=(0, 400))\n",
    "plt.xticks(rotation=45)\n",
    "plt.title('Count Larger Quantities of Particles < than 2.5 Micron')\n",
    "plt.xlabel('Number of Particles Inhaled')\n",
    "plt.ylabel('Count of Times Sensed')\n",
    "plt.show()"
   ]
  },
  {
   "cell_type": "code",
   "execution_count": null,
   "metadata": {},
   "outputs": [],
   "source": [
    "air.Pm2_5.value_counts()"
   ]
  },
  {
   "cell_type": "markdown",
   "metadata": {},
   "source": [
    "### Takeaways:\n",
    "- Top 5 readings are at 5, 4, 6, 3, and 8\n",
    "- The higher the reading the less often it is being read\n",
    "- when looking closer at the higher reading you can see small spikes at 21,29, 37, and 49\n",
    "    - keep in mind these are only being considered \"spikes\" when also looking at the surrounding reading totals.\n",
    "\n",
    "___"
   ]
  },
  {
   "cell_type": "code",
   "execution_count": null,
   "metadata": {},
   "outputs": [],
   "source": [
    "plt.figure(figsize=(16,8))\n",
    "sns.countplot(data=air, x='Pm10')\n",
    "plt.title('Count Quantities of Particles < than 2.5 Micron')\n",
    "plt.xlabel('Number of Particles Inhaled')\n",
    "plt.ylabel('Count of Times Sensed')\n",
    "plt.show()"
   ]
  },
  {
   "cell_type": "code",
   "execution_count": null,
   "metadata": {},
   "outputs": [],
   "source": [
    "plt.figure(figsize=(30,8))\n",
    "plot = sns.countplot(data=air, x='Pm10')\n",
    "plot.set(xlim=(0.5, 85))\n",
    "plot.set(ylim=(0, 1100))\n",
    "plt.xticks(rotation=45)\n",
    "plt.title('Count Quantities of Particles < than 2.5 Micron (Minus 0)')\n",
    "plt.xlabel('Number of Particles Inhaled')\n",
    "plt.ylabel('Count of Times Sensed')\n",
    "plt.show()"
   ]
  },
  {
   "cell_type": "code",
   "execution_count": null,
   "metadata": {},
   "outputs": [],
   "source": [
    "plt.figure(figsize=(30,14))\n",
    "plot = sns.countplot(data=air, x='Pm10')\n",
    "plot.set(xlim=(19.5, 85))\n",
    "plot.set(ylim=(0, 300))\n",
    "plt.xticks(rotation=45)\n",
    "plt.title('Count Larger Quantities of Particles < than 2.5 Micron')\n",
    "plt.xlabel('Number of Particles Inhaled')\n",
    "plt.ylabel('Count of Times Sensed')\n",
    "plt.show()"
   ]
  },
  {
   "cell_type": "code",
   "execution_count": null,
   "metadata": {},
   "outputs": [],
   "source": [
    "air.Pm10.value_counts()"
   ]
  },
  {
   "cell_type": "markdown",
   "metadata": {},
   "source": [
    "### Takeaways:\n",
    "- Top 5 readings are at 0, 4, 5, 9, and 6\n",
    "- The higher the reading the less often it is being read\n",
    "- when looking closer at the higher reading you can see small spikes at 29, 35, 39, and 56\n",
    "    - keep in mind these are only being considered \"spikes\" when also looking at the surrounding reading totals.\n",
    "___"
   ]
  },
  {
   "cell_type": "code",
   "execution_count": null,
   "metadata": {},
   "outputs": [],
   "source": [
    "plt.figure(figsize=(16,8))\n",
    "sns.countplot(data=air, x='SO2')\n",
    "plt.title('Sulfuric Dioxide Concentration')\n",
    "plt.xlabel('Concentration PPM (parts per million)')\n",
    "plt.ylabel('Count of Times Sensed')\n",
    "plt.show()"
   ]
  },
  {
   "cell_type": "code",
   "execution_count": null,
   "metadata": {},
   "outputs": [],
   "source": [
    "plt.figure(figsize=(16,8))\n",
    "plot = sns.countplot(data=air, x='SO2')\n",
    "plot.set(xlim=(0.5, 4.5))\n",
    "plot.set(ylim=(0, 6))\n",
    "plt.title('Sulfuric Dioxide Concentration (Minus 0)')\n",
    "plt.xlabel('Concentration PPM (parts per million)')\n",
    "plt.ylabel('Count of Times Sensed')\n",
    "plt.show()"
   ]
  },
  {
   "cell_type": "code",
   "execution_count": null,
   "metadata": {},
   "outputs": [],
   "source": [
    "air.SO2.value_counts()"
   ]
  },
  {
   "cell_type": "markdown",
   "metadata": {},
   "source": [
    "### Takeaways:\n",
    "- There are barley and readings outside of no reading for SO2\n",
    "\n",
    "___"
   ]
  },
  {
   "cell_type": "code",
   "execution_count": null,
   "metadata": {},
   "outputs": [],
   "source": [
    "plt.figure(figsize=(16,8))\n",
    "sns.countplot(data=air, x='O3')\n",
    "plt.title('Ozone concentration Concentration')\n",
    "plt.xlabel('Concentration PPM (parts per million)')\n",
    "plt.ylabel('Count of Times Sensed')"
   ]
  },
  {
   "cell_type": "code",
   "execution_count": null,
   "metadata": {},
   "outputs": [],
   "source": [
    "plt.figure(figsize=(30,8))\n",
    "plot = sns.countplot(data=air, x='O3')\n",
    "plot.set(xlim=(0.5, 72))\n",
    "plot.set(ylim=(0, 300))\n",
    "plt.xticks(rotation=45)\n",
    "plt.title('Ozone concentration Concentration (Minus 0)')\n",
    "plt.xlabel('Concentration PPM (parts per million)')\n",
    "plt.ylabel('Count of Times Sensed')\n",
    "plt.show()"
   ]
  },
  {
   "cell_type": "code",
   "execution_count": null,
   "metadata": {},
   "outputs": [],
   "source": [
    "air.O3.value_counts()"
   ]
  },
  {
   "cell_type": "markdown",
   "metadata": {},
   "source": [
    "### Takeaways:\n",
    "- Top 5 readings are at 0, 32, 36, 26, and 23\n",
    "- There is no obvious trends\n",
    "- There are large spikes throughout all levels of concentration.\n",
    "___ "
   ]
  },
  {
   "cell_type": "code",
   "execution_count": null,
   "metadata": {},
   "outputs": [],
   "source": [
    "plt.figure(figsize=(16,8))\n",
    "sns.countplot(data=air, x='CO')\n",
    "plt.title('Carbone Monoxide  Concentration')\n",
    "plt.xlabel('Concentration PPM (parts per million)')\n",
    "plt.ylabel('Count of Times Sensed')"
   ]
  },
  {
   "cell_type": "code",
   "execution_count": null,
   "metadata": {},
   "outputs": [],
   "source": [
    "plt.figure(figsize=(16,8))\n",
    "plot = sns.countplot(data=air, x='CO')\n",
    "plot.set(xlim=(0.5, 10.5))\n",
    "plot.set(ylim=(0, 2100))\n",
    "plt.title('Carbone Monoxide  Concentration (Minus 0)')\n",
    "plt.xlabel('Concentration PPM (parts per million)')\n",
    "plt.ylabel('Count of Times Sensed')\n",
    "plt.show()"
   ]
  },
  {
   "cell_type": "code",
   "execution_count": null,
   "metadata": {},
   "outputs": [],
   "source": [
    "air.CO.value_counts()"
   ]
  },
  {
   "cell_type": "markdown",
   "metadata": {},
   "source": [
    "### Takeaways:\n",
    "- The higher the concentration the lower the amount of times it has been recorded.\n",
    "- spike at 63\n",
    "    - concentration of 63 was read 21 times but everything after 4 has only been picked up 1 time each.\n",
    "\n",
    "___"
   ]
  },
  {
   "cell_type": "code",
   "execution_count": null,
   "metadata": {},
   "outputs": [],
   "source": [
    "plt.figure(figsize=(16,8))\n",
    "sns.countplot(data=air, x='NO2')\n",
    "plt.title('Nitrogen Dioxide Concentration')\n",
    "plt.xlabel('Concentration PPM (parts per million)')\n",
    "plt.ylabel('Count of Times Sensed')"
   ]
  },
  {
   "cell_type": "code",
   "execution_count": null,
   "metadata": {},
   "outputs": [],
   "source": [
    "plt.figure(figsize=(16,8))\n",
    "plot = sns.countplot(data=air, x='NO2')\n",
    "plot.set(xlim=(0.5, 19.5))\n",
    "plot.set(ylim=(0, 4400))\n",
    "plt.title('Nitrogen Dioxide Concentration (Minus 0)')\n",
    "plt.xlabel('Concentration PPM (parts per million)')\n",
    "plt.ylabel('Count of Times Sensed')\n",
    "plt.show()"
   ]
  },
  {
   "cell_type": "code",
   "execution_count": null,
   "metadata": {},
   "outputs": [],
   "source": [
    "air.NO2.value_counts()"
   ]
  },
  {
   "cell_type": "markdown",
   "metadata": {},
   "source": [
    "### Takeaways:\n",
    "- Top 5 readings are at 0, 1, 7, 8, and 6\n",
    "- Barely and readings between 2-5 and 13-19\n",
    "\n",
    "___"
   ]
  },
  {
   "cell_type": "code",
   "execution_count": null,
   "metadata": {},
   "outputs": [],
   "source": [
    "plt.figure(figsize=(16,8))\n",
    "sns.countplot(data=air, x='alert_triggered')\n",
    "plt.title('Measurements that Triggered an Alert.')\n",
    "plt.xlabel('Which Measurment Triggered and Alert')\n",
    "plt.ylabel('Number of Times it Tiggered an Alert')"
   ]
  },
  {
   "cell_type": "code",
   "execution_count": null,
   "metadata": {},
   "outputs": [],
   "source": [
    "plt.figure(figsize=(16,8))\n",
    "plot = sns.countplot(data=air, x='alert_triggered')\n",
    "plot.set(xlim=(0.5, 6.5))\n",
    "plot.set(ylim=(0, 7000))\n",
    "plt.title('Measurements that Triggered an Alert (Minus No Trigger)')\n",
    "plt.xlabel('Which Measurment Triggered and Alert')\n",
    "plt.ylabel('Number of Times it Tiggered an Alert')"
   ]
  },
  {
   "cell_type": "code",
   "execution_count": null,
   "metadata": {},
   "outputs": [],
   "source": [
    "air.alert_triggered.value_counts()"
   ]
  },
  {
   "cell_type": "markdown",
   "metadata": {},
   "source": [
    "### Takeaways:\n",
    "- Nitrogen Dioxide mostly contributes to being a trigger.\n",
    "___"
   ]
  },
  {
   "cell_type": "markdown",
   "metadata": {},
   "source": [
    "## Bivariate"
   ]
  },
  {
   "cell_type": "markdown",
   "metadata": {},
   "source": [
    "### Questions we asked about air quality\n",
    "- Are there spikes in air quality at certain times or days?\n",
    "- Is air quality and water consumption worse on the weekends?\n",
    "- How is the air quality after it floods?\n",
    "- What type of weather has the best air quality?\n",
    "- As air quality gets worse water consumption goes up.\n",
    "- Does air quality influence water consumption?"
   ]
  },
  {
   "cell_type": "code",
   "execution_count": null,
   "metadata": {},
   "outputs": [],
   "source": [
    "air_train.head(1)"
   ]
  },
  {
   "cell_type": "code",
   "execution_count": null,
   "metadata": {},
   "outputs": [],
   "source": [
    "plt.subplots(2, 2, figsize=(17,12), sharey=True)\n",
    "sns.set(style=\"darkgrid\")\n",
    "\n",
    "plt.subplot(2,2,1)\n",
    "plot = sns.countplot(data = air_train, hue='weekday', x = 'Pm1_0', palette='rainbow')\n",
    "plot.set(xlim=(-1, 20.5))\n",
    "plot.set(ylim=(0, 600))\n",
    "plt.title('Sales Amount by Weekday', size=20, color='black')\n",
    "\n",
    "plt.subplot(2,2,2)\n",
    "plot = sns.countplot(data = air_train, hue='weekday', x = 'Pm1_0', palette='rainbow')\n",
    "plot.set(xlim=(20.5, 40.5))\n",
    "plot.set(ylim=(0, 100))\n",
    "plt.title('Sales Amount by Weekday', size=20, color='black')\n",
    "\n",
    "plt.subplot(2,2,3)\n",
    "plot = sns.countplot(data = air_train, hue='weekday', x = 'Pm1_0', palette='rainbow')\n",
    "plot.set(xlim=(40.5, 60.5))\n",
    "plot.set(ylim=(0, 10))\n",
    "plt.title('Sales Amount by Weekday', size=20, color='black')\n",
    "\n",
    "plt.subplot(2,2,4)\n",
    "plot = sns.countplot(data = air_train, hue='weekday', x = 'Pm1_0', palette='rainbow')\n",
    "plot.set(xlim=(60.5, 80.5))\n",
    "plot.set(ylim=(0, 5))\n",
    "plt.title('Sales Amount by Weekday', size=20, color='black')"
   ]
  },
  {
   "cell_type": "code",
   "execution_count": null,
   "metadata": {},
   "outputs": [],
   "source": []
  },
  {
   "cell_type": "code",
   "execution_count": null,
   "metadata": {},
   "outputs": [],
   "source": [
    "plt.figure(figsize=(16,8))\n",
    "plot = sns.countplot(data=air_train, x='alert_triggered', hue='NO2', edgecolor='black')\n",
    "plot.set(xlim=(0.5, 1.5))\n",
    "plot.set(ylim=(0, 2500))\n",
    "plt.title('NO2 Measurements that Triggered an Alert (Minus No Trigger)')\n",
    "plt.xlabel('Which Measurment Triggered and Alert')\n",
    "plt.ylabel('Number of Times it Tiggered an Alert')"
   ]
  },
  {
   "cell_type": "code",
   "execution_count": null,
   "metadata": {},
   "outputs": [],
   "source": [
    "plt.figure(figsize=(16,8))\n",
    "plot = sns.countplot(data=air_train, x='alert_triggered', hue='Pm2_5', palette='magma',edgecolor='black')\n",
    "plot.set(xlim=(1.5, 2.5))\n",
    "plot.set(ylim=(0, 30))\n",
    "plt.title('NO2 Measurements that Triggered an Alert (Minus No Trigger)')\n",
    "plt.xlabel('Which Measurment Triggered and Alert')\n",
    "plt.ylabel('Number of Times it Tiggered an Alert')\n",
    "plt.legend(bbox_to_anchor=(1.05, 1.0), loc='upper left', \n",
    "           ncol=5,handleheight=2.4, labelspacing=0.05)\n"
   ]
  },
  {
   "cell_type": "code",
   "execution_count": null,
   "metadata": {},
   "outputs": [],
   "source": [
    "plt.figure(figsize=(12,4))\n",
    "plot = sns.countplot(data=air_train, x='alert_triggered', hue='SO2', palette='magma',edgecolor='black')\n",
    "plot.set(xlim=(2.5, 3.5))\n",
    "plot.set(ylim=(0, 10))\n",
    "plt.title('SO2 Measurements that Triggered an Alert (Minus No Trigger)')\n",
    "plt.xlabel('Which Measurment Triggered and Alert')\n",
    "plt.ylabel('Number of Times it Tiggered an Alert')\n",
    "plt.legend(bbox_to_anchor=(1.05, 1.0), loc='upper left', \n",
    "           ncol=5,handleheight=2.4, labelspacing=0.05)\n"
   ]
  },
  {
   "cell_type": "code",
   "execution_count": null,
   "metadata": {},
   "outputs": [],
   "source": [
    "plt.figure(figsize=(12,4))\n",
    "plot = sns.countplot(data=air_train, x='alert_triggered', hue='Pm10', palette='magma',edgecolor='black')\n",
    "plot.set(xlim=(3.5, 4.5))\n",
    "plot.set(ylim=(0, 5))\n",
    "plt.title('SO2 Measurements that Triggered an Alert (Minus No Trigger)')\n",
    "plt.xlabel('Which Measurment Triggered and Alert')\n",
    "plt.ylabel('Number of Times it Tiggered an Alert')\n",
    "plt.legend(bbox_to_anchor=(1.05, 1.0), loc='upper left', \n",
    "           ncol=7,handleheight=2.4, labelspacing=0.05)\n"
   ]
  },
  {
   "cell_type": "code",
   "execution_count": null,
   "metadata": {},
   "outputs": [],
   "source": [
    "plt.figure(figsize=(12,4))\n",
    "plot = sns.countplot(data=air_train, x='alert_triggered', hue='O3', palette='magma',edgecolor='black')\n",
    "plot.set(xlim=(4.5, 5.5))\n",
    "plot.set(ylim=(0, 5))\n",
    "plt.title('SO2 Measurements that Triggered an Alert (Minus No Trigger)')\n",
    "plt.xlabel('Which Measurment Triggered and Alert')\n",
    "plt.ylabel('Number of Times it Tiggered an Alert')\n",
    "plt.legend(bbox_to_anchor=(1.05, 1.0), loc='upper left', \n",
    "           ncol=7,handleheight=2.4, labelspacing=0.05)\n"
   ]
  },
  {
   "cell_type": "code",
   "execution_count": null,
   "metadata": {},
   "outputs": [],
   "source": [
    "plt.figure(figsize=(12,4))\n",
    "plot = sns.countplot(data=air_train, x='alert_triggered', hue='CO', palette='magma',edgecolor='black')\n",
    "plot.set(xlim=(5.5, 6.5))\n",
    "plot.set(ylim=(0, 15))\n",
    "plt.title('SO2 Measurements that Triggered an Alert (Minus No Trigger)')\n",
    "plt.xlabel('Which Measurment Triggered and Alert')\n",
    "plt.ylabel('Number of Times it Tiggered an Alert')\n",
    "plt.legend(bbox_to_anchor=(1.05, 1.0), loc='upper left', \n",
    "           ncol=1,handleheight=2.4, labelspacing=0.05)"
   ]
  },
  {
   "cell_type": "code",
   "execution_count": null,
   "metadata": {},
   "outputs": [],
   "source": [
    "air_train"
   ]
  },
  {
   "cell_type": "code",
   "execution_count": null,
   "metadata": {},
   "outputs": [],
   "source": [
    "plt.figure(figsize=(16,8))\n",
    "plot = air_train.groupby('weekday').mean().plot.bar(width=.9, ec='black')\n",
    "plt.xticks(rotation=0)\n",
    "plot.set(title='Average Temperature by Month', xlabel='Day of the Week', ylabel='Average')\n",
    "plt.legend(bbox_to_anchor=(1.05, 1.0), loc='upper left', \n",
    "           ncol=1,handleheight=2.4, labelspacing=0.05)"
   ]
  },
  {
   "cell_type": "code",
   "execution_count": null,
   "metadata": {},
   "outputs": [],
   "source": []
  },
  {
   "cell_type": "code",
   "execution_count": null,
   "metadata": {},
   "outputs": [],
   "source": []
  },
  {
   "cell_type": "code",
   "execution_count": null,
   "metadata": {},
   "outputs": [],
   "source": []
  },
  {
   "cell_type": "code",
   "execution_count": null,
   "metadata": {},
   "outputs": [],
   "source": []
  },
  {
   "cell_type": "code",
   "execution_count": null,
   "metadata": {},
   "outputs": [],
   "source": []
  }
 ],
 "metadata": {
  "kernelspec": {
   "display_name": "Python 3",
   "language": "python",
   "name": "python3"
  },
  "language_info": {
   "codemirror_mode": {
    "name": "ipython",
    "version": 3
   },
   "file_extension": ".py",
   "mimetype": "text/x-python",
   "name": "python",
   "nbconvert_exporter": "python",
   "pygments_lexer": "ipython3",
   "version": "3.8.5"
  }
 },
 "nbformat": 4,
 "nbformat_minor": 4
}
