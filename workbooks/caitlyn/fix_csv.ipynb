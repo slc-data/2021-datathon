{
 "cells": [
  {
   "cell_type": "code",
   "execution_count": 1,
   "metadata": {},
   "outputs": [],
   "source": [
    "import pandas as pd"
   ]
  },
  {
   "cell_type": "code",
   "execution_count": 4,
   "metadata": {},
   "outputs": [],
   "source": [
    "df = pd.read_excel('SAWS External 2 of 3 Final Data.xlsx')"
   ]
  },
  {
   "cell_type": "code",
   "execution_count": 5,
   "metadata": {},
   "outputs": [
    {
     "name": "stdout",
     "output_type": "stream",
     "text": [
      "<class 'pandas.core.frame.DataFrame'>\n",
      "RangeIndex: 274034 entries, 0 to 274033\n",
      "Data columns (total 53 columns):\n",
      " #   Column            Non-Null Count   Dtype \n",
      "---  ------            --------------   ----- \n",
      " 0   Record #          274034 non-null  int64 \n",
      " 1   Prefix            10642 non-null   object\n",
      " 2   Service Location  274034 non-null  object\n",
      " 3   Suffix            118798 non-null  object\n",
      " 4   ZIP Code          274034 non-null  int64 \n",
      " 5   17-JAN            160552 non-null  object\n",
      " 6   17-FEB            160654 non-null  object\n",
      " 7   17-MAR            161052 non-null  object\n",
      " 8   17-APR            161166 non-null  object\n",
      " 9   17-MAY            161494 non-null  object\n",
      " 10  17-JUN            161667 non-null  object\n",
      " 11  17-JUL            161806 non-null  object\n",
      " 12  17-AUG            161813 non-null  object\n",
      " 13  17-SEP            161844 non-null  object\n",
      " 14  17-OCT            161971 non-null  object\n",
      " 15  17-NOV            162170 non-null  object\n",
      " 16  17-DEC            162177 non-null  object\n",
      " 17  18-JAN            162300 non-null  object\n",
      " 18  18-FEB            162261 non-null  object\n",
      " 19  18-MAR            162735 non-null  object\n",
      " 20  18-APR            162910 non-null  object\n",
      " 21  18-MAY            163297 non-null  object\n",
      " 22  18-JUN            163557 non-null  object\n",
      " 23  18-JUL            163637 non-null  object\n",
      " 24  18-AUG            163677 non-null  object\n",
      " 25  18-SEP            164155 non-null  object\n",
      " 26  18-OCT            164071 non-null  object\n",
      " 27  18-NOV            164109 non-null  object\n",
      " 28  18-DEC            164258 non-null  object\n",
      " 29  19-JAN            164143 non-null  object\n",
      " 30  19-FEB            164219 non-null  object\n",
      " 31  19-MAR            164534 non-null  object\n",
      " 32  19-APR            164819 non-null  object\n",
      " 33  19-MAY            165015 non-null  object\n",
      " 34  19-JUN            165279 non-null  object\n",
      " 35  19-JUL            165658 non-null  object\n",
      " 36  19-AUG            165910 non-null  object\n",
      " 37  19-SEP            166085 non-null  object\n",
      " 38  19-OCT            166302 non-null  object\n",
      " 39  19-NOV            166404 non-null  object\n",
      " 40  19-DEC            166407 non-null  object\n",
      " 41  20-JAN            166167 non-null  object\n",
      " 42  20-FEB            167651 non-null  object\n",
      " 43  20-MAR            167356 non-null  object\n",
      " 44  20-APR            167572 non-null  object\n",
      " 45  20-MAY            167731 non-null  object\n",
      " 46  20-JUN            168166 non-null  object\n",
      " 47  20-JUL            168636 non-null  object\n",
      " 48  20-AUG            168661 non-null  object\n",
      " 49  20-SEP            168868 non-null  object\n",
      " 50  20-OCT            169129 non-null  object\n",
      " 51  20-NOV            169399 non-null  object\n",
      " 52  20-DEC            169496 non-null  object\n",
      "dtypes: int64(2), object(51)\n",
      "memory usage: 110.8+ MB\n"
     ]
    }
   ],
   "source": [
    "df.info()"
   ]
  },
  {
   "cell_type": "code",
   "execution_count": 6,
   "metadata": {},
   "outputs": [
    {
     "data": {
      "text/plain": [
       "(274034, 53)"
      ]
     },
     "execution_count": 6,
     "metadata": {},
     "output_type": "execute_result"
    }
   ],
   "source": [
    "df.shape"
   ]
  },
  {
   "cell_type": "code",
   "execution_count": 7,
   "metadata": {},
   "outputs": [],
   "source": [
    "df = df[df['ZIP Code'] == 78229]"
   ]
  },
  {
   "cell_type": "code",
   "execution_count": 8,
   "metadata": {},
   "outputs": [
    {
     "data": {
      "text/plain": [
       "(3037, 53)"
      ]
     },
     "execution_count": 8,
     "metadata": {},
     "output_type": "execute_result"
    }
   ],
   "source": [
    "df.shape"
   ]
  },
  {
   "cell_type": "code",
   "execution_count": 10,
   "metadata": {},
   "outputs": [
    {
     "data": {
      "text/plain": [
       "78229    3037\n",
       "Name: ZIP Code, dtype: int64"
      ]
     },
     "execution_count": 10,
     "metadata": {},
     "output_type": "execute_result"
    }
   ],
   "source": [
    "df['ZIP Code'].value_counts()"
   ]
  },
  {
   "cell_type": "code",
   "execution_count": 12,
   "metadata": {},
   "outputs": [],
   "source": [
    "df.to_csv('med_center_saws.csv')"
   ]
  },
  {
   "cell_type": "code",
   "execution_count": null,
   "metadata": {},
   "outputs": [],
   "source": []
  }
 ],
 "metadata": {
  "kernelspec": {
   "display_name": "Python 3",
   "language": "python",
   "name": "python3"
  },
  "language_info": {
   "codemirror_mode": {
    "name": "ipython",
    "version": 3
   },
   "file_extension": ".py",
   "mimetype": "text/x-python",
   "name": "python",
   "nbconvert_exporter": "python",
   "pygments_lexer": "ipython3",
   "version": "3.8.5"
  }
 },
 "nbformat": 4,
 "nbformat_minor": 4
}
