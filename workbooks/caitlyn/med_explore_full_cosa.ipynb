{
 "cells": [
  {
   "cell_type": "code",
   "execution_count": 1,
   "metadata": {},
   "outputs": [],
   "source": [
    "import pandas as pd\n",
    "import numpy as np\n",
    "\n",
    "import matplotlib.pyplot as plt\n",
    "import seaborn as sns\n",
    "import statsmodels.api as sm\n",
    "\n",
    "import wrangle"
   ]
  },
  {
   "cell_type": "code",
   "execution_count": 5,
   "metadata": {},
   "outputs": [],
   "source": [
    "def full_daily_COSA_dataframe():\n",
    "    '''\n",
    "    This function takes in all COSA dataframes,\n",
    "    averages them by day, then joins them all together\n",
    "    using the day as a primary key\n",
    "    '''\n",
    "    # Pulls sound CSV and sets datetime as index, then orders it\n",
    "    sound_df = pd.read_csv('med_center_sound.csv')\n",
    "    sound_df = wrangle_sound(sound_df)\n",
    "    sound_df = sound_df.set_index('DateTime')\n",
    "    sound_df = sound_df.sort_index()\n",
    "    # Pulls flood CSV and sets datetime as index\\\n",
    "    flood_df = pd.read_csv('med_center_flood.csv')\n",
    "    flood_df = clean_flood(flood_df)\n",
    "    flood_df = flood_df.set_index('datetime')\n",
    "    # Pulls weather CSV\n",
    "    weather_df = pd.read_csv('med_center_weather.csv')\n",
    "    weather_df = wrangle_weather(weather_df)\n",
    "    # Pulls air CSV, sets datetime column to datetime object, sets it as an index, then sorts it\n",
    "    air_df = pd.read_csv('med_center_air.csv')\n",
    "    air_df = clean_air(air_df)\n",
    "    air_df.datetime = pd.to_datetime(air_df.datetime)\n",
    "    air_df = air_df.set_index('datetime')\n",
    "    air_df = air_df.sort_index()\n",
    "    # Resamples each dataframe by the day using mean, and drops unnecessary columns from air_df\n",
    "    weather_day_df = weather_df.resample('D', on='datetime').mean()\n",
    "    flood_day_df = flood_df.resample('D').mean()\n",
    "    sound_day_df = sound_df.resample('D').mean()\n",
    "    air_day_df = air_df.resample('D').mean().drop(columns = ['hour', 'weekday', 'CO_24hr', 'Pm_25_24hr', 'Pm_10_24hr', 'SO2', 'O3', 'NO2'])\n",
    "    # Creating series for each pollutant\n",
    "    air2_5 = air_df.drop(air_df.columns.difference(['Pm2_5', 'AQI_pm2_5']), 1)\n",
    "    air10 = air_df.drop(air_df.columns.difference(['Pm10', 'AQI_pm10']), 1)\n",
    "    airCO = air_df.drop(air_df.columns.difference(['CO', 'AQI_CO']), 1)\n",
    "    # Pull most hazardous levels of pollution for each day\n",
    "    series2_5 = air2_5.resample('D').max().rename(columns = {'AQI_pm2_5': 'most_hazardous_pm2.5_level'})['most_hazardous_pm2.5_level']\n",
    "    series10 = air10.resample('D').max().rename(columns = {'AQI_pm10': 'most_hazardous_pm10_level'})['most_hazardous_pm10_level']\n",
    "    seriesCO = airCO.resample('D').max().rename(columns = {'AQI_CO': 'most_hazardous_CO_level'})['most_hazardous_CO_level']\n",
    "    # Joins the series together in a dataframe\n",
    "    hazards = pd.DataFrame(series2_5).join(series10).join(seriesCO)\n",
    "    # Joins the resampled dataframes together\n",
    "    df = weather_day_df.join(air_day_df).join(hazards).join(sound_day_df).join(flood_day_df)\n",
    "    # Rounds numbers in specific columns\n",
    "    df = df.round({'celsius': 2, 'farenheit': 2, 'humidity': 2, 'dewpoint_celsius': 2, 'dewpoint_farenheit': 2,\n",
    "          'pressure': 2, 'NoiseLevel_db': 2, 'sensor_to_water_feet': 2, 'sensor_to_water_meters': 2,\n",
    "          'sensor_to_ground_feet': 2, 'sensor_to_ground_meters': 2, 'flood_depth_feet': 2,\n",
    "          'flood_depth_meters': 2})\n",
    "    return df "
   ]
  },
  {
   "cell_type": "code",
   "execution_count": 6,
   "metadata": {},
   "outputs": [],
   "source": [
    "cosa = full_daily_COSA_dataframe()"
   ]
  },
  {
   "cell_type": "code",
   "execution_count": null,
   "metadata": {},
   "outputs": [],
   "source": [
    "cosa_train, cosa_validate, cosa_test = wrangle.split_data(cosa)"
   ]
  },
  {
   "cell_type": "code",
   "execution_count": null,
   "metadata": {},
   "outputs": [],
   "source": [
    "cosa.head()"
   ]
  },
  {
   "cell_type": "code",
   "execution_count": null,
   "metadata": {},
   "outputs": [],
   "source": [
    "cosa['noise_alert'] = pd.cut(cosa.NoiseLevel_db, \n",
    "                            bins = [-1,46,66,81,101,4000],\n",
    "                            labels = ['Normal', 'Moderate', \n",
    "                                      'Loud', \"Very Loud\", \n",
    "                                      \"Extremely Loud\"])"
   ]
  },
  {
   "cell_type": "markdown",
   "metadata": {},
   "source": [
    "___\n",
    "# Explore Flood"
   ]
  },
  {
   "cell_type": "code",
   "execution_count": null,
   "metadata": {},
   "outputs": [],
   "source": [
    "plt.figure(figsize=(30,7))\n",
    "sns.countplot(data=cosa, x='AQI_CO')\n",
    "plt.legend(bbox_to_anchor=(1.05, 1.0), loc='upper left', \n",
    "           ncol=1,handleheight=2.4, labelspacing=0.05)"
   ]
  },
  {
   "cell_type": "code",
   "execution_count": null,
   "metadata": {},
   "outputs": [],
   "source": [
    "plt.figure(figsize=(30,7))\n",
    "sns.countplot(data=cosa, x='AQI_pm2_5')\n",
    "plt.legend(bbox_to_anchor=(1.05, 1.0), loc='upper left', \n",
    "           ncol=1,handleheight=2.4, labelspacing=0.05)"
   ]
  },
  {
   "cell_type": "code",
   "execution_count": null,
   "metadata": {},
   "outputs": [],
   "source": [
    "plt.figure(figsize=(30,7))\n",
    "sns.countplot(data=cosa, x='AQI_pm10')\n",
    "plt.legend(bbox_to_anchor=(1.05, 1.0), loc='upper left', \n",
    "           ncol=1,handleheight=2.4, labelspacing=0.05)"
   ]
  },
  {
   "cell_type": "markdown",
   "metadata": {},
   "source": [
    "### Takeaways:\n",
    "- \n",
    "\n",
    "___"
   ]
  },
  {
   "cell_type": "code",
   "execution_count": null,
   "metadata": {},
   "outputs": [],
   "source": [
    "plt.figure(figsize=(30,7))\n",
    "sns.countplot(data=cosa, x='noise_level', hue='AQI_CO')\n",
    "plt.legend(bbox_to_anchor=(1.05, 1.0), loc='upper left', \n",
    "           ncol=1,handleheight=2.4, labelspacing=0.05)"
   ]
  },
  {
   "cell_type": "code",
   "execution_count": null,
   "metadata": {},
   "outputs": [],
   "source": [
    "plt.figure(figsize=(30,7))\n",
    "sns.countplot(data=cosa, x='noise_level', hue='AQI_pm2_5')\n",
    "plt.legend(bbox_to_anchor=(1.05, 1.0), loc='upper left', \n",
    "           ncol=1,handleheight=2.4, labelspacing=0.05)"
   ]
  },
  {
   "cell_type": "code",
   "execution_count": null,
   "metadata": {},
   "outputs": [],
   "source": [
    "plt.figure(figsize=(30,7))\n",
    "sns.countplot(data=cosa, x='noise_level', hue='AQI_pm10')\n",
    "plt.legend(bbox_to_anchor=(1.05, 1.0), loc='upper left', \n",
    "           ncol=1,handleheight=2.4, labelspacing=0.05)"
   ]
  },
  {
   "cell_type": "markdown",
   "metadata": {},
   "source": [
    "### Takeaways:\n",
    "- \n",
    "\n",
    "___"
   ]
  },
  {
   "cell_type": "code",
   "execution_count": null,
   "metadata": {},
   "outputs": [],
   "source": [
    "cosa.info()"
   ]
  },
  {
   "cell_type": "code",
   "execution_count": null,
   "metadata": {},
   "outputs": [],
   "source": []
  },
  {
   "cell_type": "code",
   "execution_count": null,
   "metadata": {},
   "outputs": [],
   "source": []
  },
  {
   "cell_type": "code",
   "execution_count": null,
   "metadata": {},
   "outputs": [],
   "source": []
  }
 ],
 "metadata": {
  "kernelspec": {
   "display_name": "Python 3",
   "language": "python",
   "name": "python3"
  },
  "language_info": {
   "codemirror_mode": {
    "name": "ipython",
    "version": 3
   },
   "file_extension": ".py",
   "mimetype": "text/x-python",
   "name": "python",
   "nbconvert_exporter": "python",
   "pygments_lexer": "ipython3",
   "version": "3.8.5"
  }
 },
 "nbformat": 4,
 "nbformat_minor": 4
}
