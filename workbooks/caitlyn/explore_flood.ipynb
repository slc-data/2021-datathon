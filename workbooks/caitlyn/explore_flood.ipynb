{
 "cells": [
  {
   "cell_type": "code",
   "execution_count": 1,
   "metadata": {},
   "outputs": [],
   "source": [
    "import pandas as pd\n",
    "import numpy as np\n",
    "\n",
    "import matplotlib.pyplot as plt\n",
    "import seaborn as sns\n",
    "import statsmodels.api as sm\n",
    "\n",
    "import wrangle"
   ]
  },
  {
   "cell_type": "code",
   "execution_count": 2,
   "metadata": {},
   "outputs": [
    {
     "data": {
      "text/html": [
       "<div>\n",
       "<style scoped>\n",
       "    .dataframe tbody tr th:only-of-type {\n",
       "        vertical-align: middle;\n",
       "    }\n",
       "\n",
       "    .dataframe tbody tr th {\n",
       "        vertical-align: top;\n",
       "    }\n",
       "\n",
       "    .dataframe thead th {\n",
       "        text-align: right;\n",
       "    }\n",
       "</style>\n",
       "<table border=\"1\" class=\"dataframe\">\n",
       "  <thead>\n",
       "    <tr style=\"text-align: right;\">\n",
       "      <th></th>\n",
       "      <th>datetime</th>\n",
       "      <th>sensor_to_water_feet</th>\n",
       "      <th>sensor_to_water_meters</th>\n",
       "      <th>sensor_to_ground_feet</th>\n",
       "      <th>sensor_to_ground_meters</th>\n",
       "      <th>flood_depth_feet</th>\n",
       "      <th>flood_depth_meters</th>\n",
       "      <th>flood_alert</th>\n",
       "    </tr>\n",
       "  </thead>\n",
       "  <tbody>\n",
       "    <tr>\n",
       "      <th>20386</th>\n",
       "      <td>2021-06-19 09:30:00</td>\n",
       "      <td>0.2417</td>\n",
       "      <td>0.0737</td>\n",
       "      <td>13.500656</td>\n",
       "      <td>4.115</td>\n",
       "      <td>13.258956</td>\n",
       "      <td>4.0413</td>\n",
       "      <td>No Risk</td>\n",
       "    </tr>\n",
       "  </tbody>\n",
       "</table>\n",
       "</div>"
      ],
      "text/plain": [
       "                 datetime  sensor_to_water_feet  sensor_to_water_meters  \\\n",
       "20386 2021-06-19 09:30:00                0.2417                  0.0737   \n",
       "\n",
       "       sensor_to_ground_feet  sensor_to_ground_meters  flood_depth_feet  \\\n",
       "20386              13.500656                    4.115         13.258956   \n",
       "\n",
       "       flood_depth_meters flood_alert  \n",
       "20386              4.0413     No Risk  "
      ]
     },
     "execution_count": 2,
     "metadata": {},
     "output_type": "execute_result"
    }
   ],
   "source": [
    "flood = wrangle.clean_flood()\n",
    "flood.sample(1)"
   ]
  },
  {
   "cell_type": "code",
   "execution_count": 3,
   "metadata": {},
   "outputs": [],
   "source": [
    "#flood.sensor_to_ground_feet.replace(to_replace=-999, value=13.500656)"
   ]
  },
  {
   "cell_type": "code",
   "execution_count": 4,
   "metadata": {},
   "outputs": [],
   "source": [
    "flood_train, flood_validate, flood_test = wrangle.split_data(flood)"
   ]
  },
  {
   "cell_type": "code",
   "execution_count": 5,
   "metadata": {},
   "outputs": [
    {
     "data": {
      "text/plain": [
       "13.500656    19995\n",
       "13.500656     7559\n",
       "Name: sensor_to_ground_feet, dtype: int64"
      ]
     },
     "execution_count": 5,
     "metadata": {},
     "output_type": "execute_result"
    }
   ],
   "source": [
    "flood.sensor_to_ground_feet.value_counts()"
   ]
  },
  {
   "cell_type": "code",
   "execution_count": 6,
   "metadata": {},
   "outputs": [
    {
     "data": {
      "text/plain": [
       "4.115    27554\n",
       "Name: sensor_to_ground_meters, dtype: int64"
      ]
     },
     "execution_count": 6,
     "metadata": {},
     "output_type": "execute_result"
    }
   ],
   "source": [
    "flood.sensor_to_ground_meters.value_counts()"
   ]
  },
  {
   "cell_type": "markdown",
   "metadata": {},
   "source": [
    "___\n",
    "# Explore Flood"
   ]
  },
  {
   "cell_type": "markdown",
   "metadata": {},
   "source": [
    "____"
   ]
  },
  {
   "cell_type": "markdown",
   "metadata": {},
   "source": [
    "def flood_alert(c):\n",
    "    if 0 < c['flood_depth_meters'] < 10:\n",
    "        return 'No Risk'\n",
    "    elif 10 < c['flood_depth_meters'] < 11:\n",
    "        return 'Minor Risk'\n",
    "    elif 11 < c['flood_depth_meters'] < 12:\n",
    "        return 'Moderate Risk'\n",
    "    elif 12 < c['flood_depth_meters']:\n",
    "        return 'Major Risk Risk'\n",
    "    else:\n",
    "        return 'No Alert'\n",
    "flood['flood_alert'] = flood.apply(flood_alert, axis=1)"
   ]
  },
  {
   "cell_type": "code",
   "execution_count": 7,
   "metadata": {},
   "outputs": [
    {
     "data": {
      "text/html": [
       "<div>\n",
       "<style scoped>\n",
       "    .dataframe tbody tr th:only-of-type {\n",
       "        vertical-align: middle;\n",
       "    }\n",
       "\n",
       "    .dataframe tbody tr th {\n",
       "        vertical-align: top;\n",
       "    }\n",
       "\n",
       "    .dataframe thead th {\n",
       "        text-align: right;\n",
       "    }\n",
       "</style>\n",
       "<table border=\"1\" class=\"dataframe\">\n",
       "  <thead>\n",
       "    <tr style=\"text-align: right;\">\n",
       "      <th></th>\n",
       "      <th>datetime</th>\n",
       "      <th>sensor_to_water_feet</th>\n",
       "      <th>sensor_to_water_meters</th>\n",
       "      <th>sensor_to_ground_feet</th>\n",
       "      <th>sensor_to_ground_meters</th>\n",
       "      <th>flood_depth_feet</th>\n",
       "      <th>flood_depth_meters</th>\n",
       "      <th>flood_alert</th>\n",
       "    </tr>\n",
       "  </thead>\n",
       "  <tbody>\n",
       "    <tr>\n",
       "      <th>0</th>\n",
       "      <td>2021-05-20 00:11:55</td>\n",
       "      <td>13.188976</td>\n",
       "      <td>4.02</td>\n",
       "      <td>13.500656</td>\n",
       "      <td>4.115</td>\n",
       "      <td>0.311680</td>\n",
       "      <td>0.095</td>\n",
       "      <td>No Risk</td>\n",
       "    </tr>\n",
       "    <tr>\n",
       "      <th>1</th>\n",
       "      <td>2021-05-20 00:26:55</td>\n",
       "      <td>13.254593</td>\n",
       "      <td>4.04</td>\n",
       "      <td>13.500656</td>\n",
       "      <td>4.115</td>\n",
       "      <td>0.246063</td>\n",
       "      <td>0.075</td>\n",
       "      <td>No Risk</td>\n",
       "    </tr>\n",
       "    <tr>\n",
       "      <th>2</th>\n",
       "      <td>2021-05-20 00:41:55</td>\n",
       "      <td>13.221785</td>\n",
       "      <td>4.03</td>\n",
       "      <td>13.500656</td>\n",
       "      <td>4.115</td>\n",
       "      <td>0.278871</td>\n",
       "      <td>0.085</td>\n",
       "      <td>No Risk</td>\n",
       "    </tr>\n",
       "    <tr>\n",
       "      <th>3</th>\n",
       "      <td>2021-05-20 00:56:55</td>\n",
       "      <td>13.221785</td>\n",
       "      <td>4.03</td>\n",
       "      <td>13.500656</td>\n",
       "      <td>4.115</td>\n",
       "      <td>0.278871</td>\n",
       "      <td>0.085</td>\n",
       "      <td>No Risk</td>\n",
       "    </tr>\n",
       "    <tr>\n",
       "      <th>4</th>\n",
       "      <td>2021-05-20 01:11:55</td>\n",
       "      <td>13.221785</td>\n",
       "      <td>4.03</td>\n",
       "      <td>13.500656</td>\n",
       "      <td>4.115</td>\n",
       "      <td>0.278871</td>\n",
       "      <td>0.085</td>\n",
       "      <td>No Risk</td>\n",
       "    </tr>\n",
       "  </tbody>\n",
       "</table>\n",
       "</div>"
      ],
      "text/plain": [
       "             datetime  sensor_to_water_feet  sensor_to_water_meters  \\\n",
       "0 2021-05-20 00:11:55             13.188976                    4.02   \n",
       "1 2021-05-20 00:26:55             13.254593                    4.04   \n",
       "2 2021-05-20 00:41:55             13.221785                    4.03   \n",
       "3 2021-05-20 00:56:55             13.221785                    4.03   \n",
       "4 2021-05-20 01:11:55             13.221785                    4.03   \n",
       "\n",
       "   sensor_to_ground_feet  sensor_to_ground_meters  flood_depth_feet  \\\n",
       "0              13.500656                    4.115          0.311680   \n",
       "1              13.500656                    4.115          0.246063   \n",
       "2              13.500656                    4.115          0.278871   \n",
       "3              13.500656                    4.115          0.278871   \n",
       "4              13.500656                    4.115          0.278871   \n",
       "\n",
       "   flood_depth_meters flood_alert  \n",
       "0               0.095     No Risk  \n",
       "1               0.075     No Risk  \n",
       "2               0.085     No Risk  \n",
       "3               0.085     No Risk  \n",
       "4               0.085     No Risk  "
      ]
     },
     "execution_count": 7,
     "metadata": {},
     "output_type": "execute_result"
    }
   ],
   "source": [
    "flood.head()"
   ]
  },
  {
   "cell_type": "code",
   "execution_count": 8,
   "metadata": {},
   "outputs": [
    {
     "data": {
      "text/plain": [
       "No Risk    27554\n",
       "Name: flood_alert, dtype: int64"
      ]
     },
     "execution_count": 8,
     "metadata": {},
     "output_type": "execute_result"
    }
   ],
   "source": [
    "flood.flood_alert.value_counts()"
   ]
  },
  {
   "cell_type": "code",
   "execution_count": null,
   "metadata": {},
   "outputs": [],
   "source": []
  }
 ],
 "metadata": {
  "kernelspec": {
   "display_name": "Python 3",
   "language": "python",
   "name": "python3"
  },
  "language_info": {
   "codemirror_mode": {
    "name": "ipython",
    "version": 3
   },
   "file_extension": ".py",
   "mimetype": "text/x-python",
   "name": "python",
   "nbconvert_exporter": "python",
   "pygments_lexer": "ipython3",
   "version": "3.8.5"
  }
 },
 "nbformat": 4,
 "nbformat_minor": 4
}
