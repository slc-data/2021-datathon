{
 "cells": [
  {
   "cell_type": "markdown",
   "metadata": {},
   "source": [
    "# Concatenating COSA Datasets LOL"
   ]
  },
  {
   "cell_type": "markdown",
   "metadata": {},
   "source": [
    "## Imports"
   ]
  },
  {
   "cell_type": "code",
   "execution_count": 1,
   "metadata": {},
   "outputs": [],
   "source": [
    "import pandas as pd"
   ]
  },
  {
   "cell_type": "code",
   "execution_count": null,
   "metadata": {},
   "outputs": [],
   "source": [
    "#initial dataset \n",
    "#air1 = pd.read_csv('med_center_air1.csv')"
   ]
  },
  {
   "cell_type": "code",
   "execution_count": null,
   "metadata": {},
   "outputs": [],
   "source": [
    "#additional dataset\n",
    "#air2 = pd.read_csv('med_center_air.csv')"
   ]
  },
  {
   "cell_type": "code",
   "execution_count": null,
   "metadata": {},
   "outputs": [],
   "source": [
    "#check out datatypes and nulls\n",
    "#air1.info()"
   ]
  },
  {
   "cell_type": "code",
   "execution_count": null,
   "metadata": {},
   "outputs": [],
   "source": [
    "#checkout datatypes and nulls\n",
    "#air2.info()"
   ]
  },
  {
   "cell_type": "markdown",
   "metadata": {},
   "source": [
    "- O3 is a float in air 2, need to make them both floats"
   ]
  },
  {
   "cell_type": "code",
   "execution_count": null,
   "metadata": {},
   "outputs": [],
   "source": [
    "#air1.astype({'O3': 'float64'}).dtypes"
   ]
  },
  {
   "cell_type": "code",
   "execution_count": null,
   "metadata": {},
   "outputs": [],
   "source": [
    "#air1.astype({'O3': 'float64'})"
   ]
  },
  {
   "cell_type": "code",
   "execution_count": null,
   "metadata": {},
   "outputs": [],
   "source": [
    "#air1.info()"
   ]
  },
  {
   "cell_type": "code",
   "execution_count": null,
   "metadata": {},
   "outputs": [],
   "source": [
    "#air1.O3 = air1.O3.astype('float64')"
   ]
  },
  {
   "cell_type": "code",
   "execution_count": null,
   "metadata": {},
   "outputs": [],
   "source": [
    "#air1.info()"
   ]
  },
  {
   "cell_type": "code",
   "execution_count": null,
   "metadata": {},
   "outputs": [],
   "source": [
    "#air1.info()"
   ]
  },
  {
   "cell_type": "markdown",
   "metadata": {},
   "source": [
    "## Full cosa dataset"
   ]
  },
  {
   "cell_type": "code",
   "execution_count": 2,
   "metadata": {},
   "outputs": [],
   "source": [
    "import wrangle"
   ]
  },
  {
   "cell_type": "code",
   "execution_count": 3,
   "metadata": {},
   "outputs": [],
   "source": [
    "def full_daily_COSA_dataframe():\n",
    "    sound_df = wrangle.wrangle_sound()\n",
    "    sound_df = sound_df.set_index('DateTime')\n",
    "    sound_df = sound_df.sort_index()\n",
    "    flood_df = wrangle.clean_flood()\n",
    "    flood_df = flood_df.set_index('datetime')\n",
    "    weather_df = wrangle.wrangle_weather()\n",
    "    air_df = wrangle.clean_air()\n",
    "    air_df.datetime = pd.to_datetime(air_df.datetime)\n",
    "    air_df = air_df.set_index('datetime')\n",
    "    air_df = air_df.sort_index()\n",
    "    weather_day_df = weather_df.resample('D', on='datetime').mean()\n",
    "    flood_day_df = flood_df.resample('D').mean()\n",
    "    sound_day_df = sound_df.resample('D').mean()\n",
    "    air_day_df = air_df.resample('D').mean().drop(columns = ['hour', 'weekday', 'CO_24hr', 'Pm_25_24hr', 'Pm_10_24hr', 'SO2', 'O3', 'NO2'])\n",
    "    air2_5 = air_df.drop(air_df.columns.difference(['Pm2_5', 'AQI_pm2_5']), 1)\n",
    "    air10 = air_df.drop(air_df.columns.difference(['Pm10', 'AQI_pm10']), 1)\n",
    "    airCO = air_df.drop(air_df.columns.difference(['CO', 'AQI_CO']), 1)\n",
    "    series2_5 = air2_5.resample('D').max().rename(columns = {'AQI_pm2_5': 'most_hazardous_pm2.5_level'})['most_hazardous_pm2.5_level']\n",
    "    series10 = air10.resample('D').max().rename(columns = {'AQI_pm10': 'most_hazardous_pm10_level'})['most_hazardous_pm10_level']\n",
    "    seriesCO = airCO.resample('D').max().rename(columns = {'AQI_CO': 'most_hazardous_CO_level'})['most_hazardous_CO_level']\n",
    "    hazards = pd.DataFrame(series2_5).join(series10).join(seriesCO)\n",
    "    df = weather_day_df.join(air_day_df).join(hazards).join(sound_day_df).join(flood_day_df)\n",
    "    df = df.round({'celsius': 2, 'farenheit': 2, 'humidity': 2, 'dewpoint_celsius': 2, 'dewpoint_farenheit': 2,\n",
    "          'pressure': 2, 'NoiseLevel_db': 2, 'sensor_to_water_feet': 2, 'sensor_to_water_meters': 2,\n",
    "          'sensor_to_ground_feet': 2, 'sensor_to_ground_meters': 2, 'flood_depth_feet': 2,\n",
    "          'flood_depth_meters': 2})\n",
    "    return df"
   ]
  },
  {
   "cell_type": "code",
   "execution_count": 4,
   "metadata": {},
   "outputs": [],
   "source": [
    "df = full_daily_COSA_dataframe()\n"
   ]
  },
  {
   "cell_type": "code",
   "execution_count": 5,
   "metadata": {},
   "outputs": [
    {
     "data": {
      "text/html": [
       "<div>\n",
       "<style scoped>\n",
       "    .dataframe tbody tr th:only-of-type {\n",
       "        vertical-align: middle;\n",
       "    }\n",
       "\n",
       "    .dataframe tbody tr th {\n",
       "        vertical-align: top;\n",
       "    }\n",
       "\n",
       "    .dataframe thead th {\n",
       "        text-align: right;\n",
       "    }\n",
       "</style>\n",
       "<table border=\"1\" class=\"dataframe\">\n",
       "  <thead>\n",
       "    <tr style=\"text-align: right;\">\n",
       "      <th></th>\n",
       "      <th>celsius</th>\n",
       "      <th>farenheit</th>\n",
       "      <th>humidity</th>\n",
       "      <th>dewpoint_celsius</th>\n",
       "      <th>dewpoint_farenheit</th>\n",
       "      <th>pressure</th>\n",
       "      <th>Pm1_0</th>\n",
       "      <th>Pm2_5</th>\n",
       "      <th>Pm10</th>\n",
       "      <th>CO</th>\n",
       "      <th>most_hazardous_pm2.5_level</th>\n",
       "      <th>most_hazardous_pm10_level</th>\n",
       "      <th>most_hazardous_CO_level</th>\n",
       "      <th>NoiseLevel_db</th>\n",
       "      <th>sensor_to_water_feet</th>\n",
       "      <th>sensor_to_water_meters</th>\n",
       "      <th>sensor_to_ground_feet</th>\n",
       "      <th>sensor_to_ground_meters</th>\n",
       "      <th>flood_depth_feet</th>\n",
       "      <th>flood_depth_meters</th>\n",
       "    </tr>\n",
       "    <tr>\n",
       "      <th>datetime</th>\n",
       "      <th></th>\n",
       "      <th></th>\n",
       "      <th></th>\n",
       "      <th></th>\n",
       "      <th></th>\n",
       "      <th></th>\n",
       "      <th></th>\n",
       "      <th></th>\n",
       "      <th></th>\n",
       "      <th></th>\n",
       "      <th></th>\n",
       "      <th></th>\n",
       "      <th></th>\n",
       "      <th></th>\n",
       "      <th></th>\n",
       "      <th></th>\n",
       "      <th></th>\n",
       "      <th></th>\n",
       "      <th></th>\n",
       "      <th></th>\n",
       "    </tr>\n",
       "  </thead>\n",
       "  <tbody>\n",
       "    <tr>\n",
       "      <th>2021-04-20</th>\n",
       "      <td>20.89</td>\n",
       "      <td>69.56</td>\n",
       "      <td>45.79</td>\n",
       "      <td>7.67</td>\n",
       "      <td>45.80</td>\n",
       "      <td>988.08</td>\n",
       "      <td>5.193732</td>\n",
       "      <td>8.022792</td>\n",
       "      <td>7.324786</td>\n",
       "      <td>0.299145</td>\n",
       "      <td>Hazardous</td>\n",
       "      <td>Good</td>\n",
       "      <td>Good</td>\n",
       "      <td>66.23</td>\n",
       "      <td>13.24</td>\n",
       "      <td>4.04</td>\n",
       "      <td>13.5</td>\n",
       "      <td>4.12</td>\n",
       "      <td>0.26</td>\n",
       "      <td>0.08</td>\n",
       "    </tr>\n",
       "    <tr>\n",
       "      <th>2021-04-21</th>\n",
       "      <td>15.32</td>\n",
       "      <td>59.60</td>\n",
       "      <td>36.49</td>\n",
       "      <td>-0.31</td>\n",
       "      <td>31.43</td>\n",
       "      <td>985.50</td>\n",
       "      <td>2.968750</td>\n",
       "      <td>3.616477</td>\n",
       "      <td>4.460227</td>\n",
       "      <td>0.144886</td>\n",
       "      <td>Unhealthy</td>\n",
       "      <td>Moderate</td>\n",
       "      <td>Good</td>\n",
       "      <td>66.66</td>\n",
       "      <td>13.34</td>\n",
       "      <td>4.07</td>\n",
       "      <td>13.5</td>\n",
       "      <td>4.12</td>\n",
       "      <td>0.16</td>\n",
       "      <td>0.05</td>\n",
       "    </tr>\n",
       "    <tr>\n",
       "      <th>2021-04-22</th>\n",
       "      <td>16.00</td>\n",
       "      <td>60.85</td>\n",
       "      <td>67.74</td>\n",
       "      <td>9.64</td>\n",
       "      <td>49.35</td>\n",
       "      <td>979.65</td>\n",
       "      <td>16.866477</td>\n",
       "      <td>18.247159</td>\n",
       "      <td>22.963068</td>\n",
       "      <td>0.056818</td>\n",
       "      <td>Unhealthy for Sensitive Groups</td>\n",
       "      <td>Moderate</td>\n",
       "      <td>Good</td>\n",
       "      <td>66.20</td>\n",
       "      <td>13.30</td>\n",
       "      <td>4.05</td>\n",
       "      <td>13.5</td>\n",
       "      <td>4.12</td>\n",
       "      <td>0.21</td>\n",
       "      <td>0.06</td>\n",
       "    </tr>\n",
       "    <tr>\n",
       "      <th>2021-04-23</th>\n",
       "      <td>22.51</td>\n",
       "      <td>72.46</td>\n",
       "      <td>85.76</td>\n",
       "      <td>19.65</td>\n",
       "      <td>67.37</td>\n",
       "      <td>971.28</td>\n",
       "      <td>18.123563</td>\n",
       "      <td>19.209770</td>\n",
       "      <td>23.916667</td>\n",
       "      <td>0.166667</td>\n",
       "      <td>Unhealthy for Sensitive Groups</td>\n",
       "      <td>Moderate</td>\n",
       "      <td>Good</td>\n",
       "      <td>66.40</td>\n",
       "      <td>13.00</td>\n",
       "      <td>3.96</td>\n",
       "      <td>13.5</td>\n",
       "      <td>4.12</td>\n",
       "      <td>0.50</td>\n",
       "      <td>0.15</td>\n",
       "    </tr>\n",
       "    <tr>\n",
       "      <th>2021-04-24</th>\n",
       "      <td>24.97</td>\n",
       "      <td>76.97</td>\n",
       "      <td>50.29</td>\n",
       "      <td>10.99</td>\n",
       "      <td>51.78</td>\n",
       "      <td>974.48</td>\n",
       "      <td>3.804533</td>\n",
       "      <td>4.458924</td>\n",
       "      <td>51.232295</td>\n",
       "      <td>0.405099</td>\n",
       "      <td>Moderate</td>\n",
       "      <td>Good</td>\n",
       "      <td>Hazardous</td>\n",
       "      <td>64.81</td>\n",
       "      <td>13.13</td>\n",
       "      <td>4.00</td>\n",
       "      <td>13.5</td>\n",
       "      <td>4.12</td>\n",
       "      <td>0.37</td>\n",
       "      <td>0.11</td>\n",
       "    </tr>\n",
       "  </tbody>\n",
       "</table>\n",
       "</div>"
      ],
      "text/plain": [
       "            celsius  farenheit  humidity  dewpoint_celsius  \\\n",
       "datetime                                                     \n",
       "2021-04-20    20.89      69.56     45.79              7.67   \n",
       "2021-04-21    15.32      59.60     36.49             -0.31   \n",
       "2021-04-22    16.00      60.85     67.74              9.64   \n",
       "2021-04-23    22.51      72.46     85.76             19.65   \n",
       "2021-04-24    24.97      76.97     50.29             10.99   \n",
       "\n",
       "            dewpoint_farenheit  pressure      Pm1_0      Pm2_5       Pm10  \\\n",
       "datetime                                                                    \n",
       "2021-04-20               45.80    988.08   5.193732   8.022792   7.324786   \n",
       "2021-04-21               31.43    985.50   2.968750   3.616477   4.460227   \n",
       "2021-04-22               49.35    979.65  16.866477  18.247159  22.963068   \n",
       "2021-04-23               67.37    971.28  18.123563  19.209770  23.916667   \n",
       "2021-04-24               51.78    974.48   3.804533   4.458924  51.232295   \n",
       "\n",
       "                  CO      most_hazardous_pm2.5_level  \\\n",
       "datetime                                               \n",
       "2021-04-20  0.299145                       Hazardous   \n",
       "2021-04-21  0.144886                       Unhealthy   \n",
       "2021-04-22  0.056818  Unhealthy for Sensitive Groups   \n",
       "2021-04-23  0.166667  Unhealthy for Sensitive Groups   \n",
       "2021-04-24  0.405099                        Moderate   \n",
       "\n",
       "           most_hazardous_pm10_level most_hazardous_CO_level  NoiseLevel_db  \\\n",
       "datetime                                                                      \n",
       "2021-04-20                      Good                    Good          66.23   \n",
       "2021-04-21                  Moderate                    Good          66.66   \n",
       "2021-04-22                  Moderate                    Good          66.20   \n",
       "2021-04-23                  Moderate                    Good          66.40   \n",
       "2021-04-24                      Good               Hazardous          64.81   \n",
       "\n",
       "            sensor_to_water_feet  sensor_to_water_meters  \\\n",
       "datetime                                                   \n",
       "2021-04-20                 13.24                    4.04   \n",
       "2021-04-21                 13.34                    4.07   \n",
       "2021-04-22                 13.30                    4.05   \n",
       "2021-04-23                 13.00                    3.96   \n",
       "2021-04-24                 13.13                    4.00   \n",
       "\n",
       "            sensor_to_ground_feet  sensor_to_ground_meters  flood_depth_feet  \\\n",
       "datetime                                                                       \n",
       "2021-04-20                   13.5                     4.12              0.26   \n",
       "2021-04-21                   13.5                     4.12              0.16   \n",
       "2021-04-22                   13.5                     4.12              0.21   \n",
       "2021-04-23                   13.5                     4.12              0.50   \n",
       "2021-04-24                   13.5                     4.12              0.37   \n",
       "\n",
       "            flood_depth_meters  \n",
       "datetime                        \n",
       "2021-04-20                0.08  \n",
       "2021-04-21                0.05  \n",
       "2021-04-22                0.06  \n",
       "2021-04-23                0.15  \n",
       "2021-04-24                0.11  "
      ]
     },
     "execution_count": 5,
     "metadata": {},
     "output_type": "execute_result"
    }
   ],
   "source": [
    "df.head()"
   ]
  },
  {
   "cell_type": "code",
   "execution_count": 6,
   "metadata": {},
   "outputs": [
    {
     "name": "stdout",
     "output_type": "stream",
     "text": [
      "<class 'pandas.core.frame.DataFrame'>\n",
      "DatetimeIndex: 80 entries, 2021-04-20 to 2021-07-08\n",
      "Freq: D\n",
      "Data columns (total 20 columns):\n",
      " #   Column                      Non-Null Count  Dtype   \n",
      "---  ------                      --------------  -----   \n",
      " 0   celsius                     80 non-null     float64 \n",
      " 1   farenheit                   80 non-null     float64 \n",
      " 2   humidity                    80 non-null     float64 \n",
      " 3   dewpoint_celsius            80 non-null     float64 \n",
      " 4   dewpoint_farenheit          80 non-null     float64 \n",
      " 5   pressure                    80 non-null     float64 \n",
      " 6   Pm1_0                       80 non-null     float64 \n",
      " 7   Pm2_5                       80 non-null     float64 \n",
      " 8   Pm10                        80 non-null     float64 \n",
      " 9   CO                          80 non-null     float64 \n",
      " 10  most_hazardous_pm2.5_level  80 non-null     category\n",
      " 11  most_hazardous_pm10_level   80 non-null     category\n",
      " 12  most_hazardous_CO_level     80 non-null     category\n",
      " 13  NoiseLevel_db               80 non-null     float64 \n",
      " 14  sensor_to_water_feet        80 non-null     float64 \n",
      " 15  sensor_to_water_meters      80 non-null     float64 \n",
      " 16  sensor_to_ground_feet       80 non-null     float64 \n",
      " 17  sensor_to_ground_meters     80 non-null     float64 \n",
      " 18  flood_depth_feet            80 non-null     float64 \n",
      " 19  flood_depth_meters          80 non-null     float64 \n",
      "dtypes: category(3), float64(17)\n",
      "memory usage: 14.6 KB\n"
     ]
    }
   ],
   "source": [
    "df.info()"
   ]
  },
  {
   "cell_type": "code",
   "execution_count": null,
   "metadata": {},
   "outputs": [],
   "source": []
  }
 ],
 "metadata": {
  "kernelspec": {
   "display_name": "Python 3",
   "language": "python",
   "name": "python3"
  },
  "language_info": {
   "codemirror_mode": {
    "name": "ipython",
    "version": 3
   },
   "file_extension": ".py",
   "mimetype": "text/x-python",
   "name": "python",
   "nbconvert_exporter": "python",
   "pygments_lexer": "ipython3",
   "version": "3.8.5"
  }
 },
 "nbformat": 4,
 "nbformat_minor": 4
}
