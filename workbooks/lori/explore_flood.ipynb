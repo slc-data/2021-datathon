{
 "cells": [
  {
   "cell_type": "markdown",
   "metadata": {},
   "source": [
    "# COSA Flood Exploration"
   ]
  },
  {
   "cell_type": "markdown",
   "metadata": {},
   "source": [
    "## Imports"
   ]
  },
  {
   "cell_type": "code",
   "execution_count": 1,
   "metadata": {},
   "outputs": [],
   "source": [
    "import wrangle as w\n",
    "import pandas as pd\n",
    "import seaborn as sns\n",
    "import matplotlib.pyplot as plt"
   ]
  },
  {
   "cell_type": "code",
   "execution_count": null,
   "metadata": {},
   "outputs": [],
   "source": []
  },
  {
   "cell_type": "code",
   "execution_count": 17,
   "metadata": {},
   "outputs": [
    {
     "data": {
      "text/plain": [
       "'1.1.3'"
      ]
     },
     "execution_count": 17,
     "metadata": {},
     "output_type": "execute_result"
    }
   ],
   "source": [
    "pd.__version__"
   ]
  },
  {
   "cell_type": "code",
   "execution_count": 3,
   "metadata": {},
   "outputs": [],
   "source": [
    "flood = clean_flood()"
   ]
  },
  {
   "cell_type": "code",
   "execution_count": 4,
   "metadata": {},
   "outputs": [
    {
     "data": {
      "text/html": [
       "<div>\n",
       "<style scoped>\n",
       "    .dataframe tbody tr th:only-of-type {\n",
       "        vertical-align: middle;\n",
       "    }\n",
       "\n",
       "    .dataframe tbody tr th {\n",
       "        vertical-align: top;\n",
       "    }\n",
       "\n",
       "    .dataframe thead th {\n",
       "        text-align: right;\n",
       "    }\n",
       "</style>\n",
       "<table border=\"1\" class=\"dataframe\">\n",
       "  <thead>\n",
       "    <tr style=\"text-align: right;\">\n",
       "      <th></th>\n",
       "      <th>datetime</th>\n",
       "      <th>sensor_to_water_feet</th>\n",
       "      <th>sensor_to_water_meters</th>\n",
       "      <th>sensor_to_ground_feet</th>\n",
       "      <th>sensor_to_ground_meters</th>\n",
       "      <th>flood_depth_feet</th>\n",
       "      <th>flood_depth_meters</th>\n",
       "      <th>flood_alert</th>\n",
       "    </tr>\n",
       "  </thead>\n",
       "  <tbody>\n",
       "    <tr>\n",
       "      <th>0</th>\n",
       "      <td>2021-05-20 00:11:55</td>\n",
       "      <td>13.188976</td>\n",
       "      <td>4.02</td>\n",
       "      <td>13.500656</td>\n",
       "      <td>4.115</td>\n",
       "      <td>0.311680</td>\n",
       "      <td>0.095</td>\n",
       "      <td>No Risk</td>\n",
       "    </tr>\n",
       "    <tr>\n",
       "      <th>1</th>\n",
       "      <td>2021-05-20 00:26:55</td>\n",
       "      <td>13.254593</td>\n",
       "      <td>4.04</td>\n",
       "      <td>13.500656</td>\n",
       "      <td>4.115</td>\n",
       "      <td>0.246063</td>\n",
       "      <td>0.075</td>\n",
       "      <td>No Risk</td>\n",
       "    </tr>\n",
       "    <tr>\n",
       "      <th>2</th>\n",
       "      <td>2021-05-20 00:41:55</td>\n",
       "      <td>13.221785</td>\n",
       "      <td>4.03</td>\n",
       "      <td>13.500656</td>\n",
       "      <td>4.115</td>\n",
       "      <td>0.278871</td>\n",
       "      <td>0.085</td>\n",
       "      <td>No Risk</td>\n",
       "    </tr>\n",
       "    <tr>\n",
       "      <th>3</th>\n",
       "      <td>2021-05-20 00:56:55</td>\n",
       "      <td>13.221785</td>\n",
       "      <td>4.03</td>\n",
       "      <td>13.500656</td>\n",
       "      <td>4.115</td>\n",
       "      <td>0.278871</td>\n",
       "      <td>0.085</td>\n",
       "      <td>No Risk</td>\n",
       "    </tr>\n",
       "    <tr>\n",
       "      <th>4</th>\n",
       "      <td>2021-05-20 01:11:55</td>\n",
       "      <td>13.221785</td>\n",
       "      <td>4.03</td>\n",
       "      <td>13.500656</td>\n",
       "      <td>4.115</td>\n",
       "      <td>0.278871</td>\n",
       "      <td>0.085</td>\n",
       "      <td>No Risk</td>\n",
       "    </tr>\n",
       "  </tbody>\n",
       "</table>\n",
       "</div>"
      ],
      "text/plain": [
       "             datetime  sensor_to_water_feet  sensor_to_water_meters  \\\n",
       "0 2021-05-20 00:11:55             13.188976                    4.02   \n",
       "1 2021-05-20 00:26:55             13.254593                    4.04   \n",
       "2 2021-05-20 00:41:55             13.221785                    4.03   \n",
       "3 2021-05-20 00:56:55             13.221785                    4.03   \n",
       "4 2021-05-20 01:11:55             13.221785                    4.03   \n",
       "\n",
       "   sensor_to_ground_feet  sensor_to_ground_meters  flood_depth_feet  \\\n",
       "0              13.500656                    4.115          0.311680   \n",
       "1              13.500656                    4.115          0.246063   \n",
       "2              13.500656                    4.115          0.278871   \n",
       "3              13.500656                    4.115          0.278871   \n",
       "4              13.500656                    4.115          0.278871   \n",
       "\n",
       "   flood_depth_meters flood_alert  \n",
       "0               0.095     No Risk  \n",
       "1               0.075     No Risk  \n",
       "2               0.085     No Risk  \n",
       "3               0.085     No Risk  \n",
       "4               0.085     No Risk  "
      ]
     },
     "execution_count": 4,
     "metadata": {},
     "output_type": "execute_result"
    }
   ],
   "source": [
    "flood.head()"
   ]
  },
  {
   "cell_type": "code",
   "execution_count": 5,
   "metadata": {},
   "outputs": [],
   "source": [
    "#flood.to_csv('bestflood.csv')"
   ]
  },
  {
   "cell_type": "code",
   "execution_count": 6,
   "metadata": {},
   "outputs": [
    {
     "data": {
      "text/plain": [
       "13.500656    19995\n",
       "13.500656     7559\n",
       "Name: sensor_to_ground_feet, dtype: int64"
      ]
     },
     "execution_count": 6,
     "metadata": {},
     "output_type": "execute_result"
    }
   ],
   "source": [
    "flood.sensor_to_ground_feet.value_counts()"
   ]
  },
  {
   "cell_type": "code",
   "execution_count": 7,
   "metadata": {},
   "outputs": [
    {
     "data": {
      "text/html": [
       "<div>\n",
       "<style scoped>\n",
       "    .dataframe tbody tr th:only-of-type {\n",
       "        vertical-align: middle;\n",
       "    }\n",
       "\n",
       "    .dataframe tbody tr th {\n",
       "        vertical-align: top;\n",
       "    }\n",
       "\n",
       "    .dataframe thead th {\n",
       "        text-align: right;\n",
       "    }\n",
       "</style>\n",
       "<table border=\"1\" class=\"dataframe\">\n",
       "  <thead>\n",
       "    <tr style=\"text-align: right;\">\n",
       "      <th></th>\n",
       "      <th>sensor_to_water_feet</th>\n",
       "      <th>sensor_to_water_meters</th>\n",
       "      <th>sensor_to_ground_feet</th>\n",
       "      <th>sensor_to_ground_meters</th>\n",
       "      <th>flood_depth_feet</th>\n",
       "      <th>flood_depth_meters</th>\n",
       "    </tr>\n",
       "  </thead>\n",
       "  <tbody>\n",
       "    <tr>\n",
       "      <th>count</th>\n",
       "      <td>27554.000000</td>\n",
       "      <td>27554.000000</td>\n",
       "      <td>2.755400e+04</td>\n",
       "      <td>2.755400e+04</td>\n",
       "      <td>27554.000000</td>\n",
       "      <td>27554.000000</td>\n",
       "    </tr>\n",
       "    <tr>\n",
       "      <th>mean</th>\n",
       "      <td>-74.586608</td>\n",
       "      <td>-77.202493</td>\n",
       "      <td>1.350066e+01</td>\n",
       "      <td>4.115000e+00</td>\n",
       "      <td>88.087264</td>\n",
       "      <td>81.317493</td>\n",
       "    </tr>\n",
       "    <tr>\n",
       "      <th>std</th>\n",
       "      <td>269.734840</td>\n",
       "      <td>268.919588</td>\n",
       "      <td>9.883353e-12</td>\n",
       "      <td>1.826128e-12</td>\n",
       "      <td>269.734840</td>\n",
       "      <td>268.919588</td>\n",
       "    </tr>\n",
       "    <tr>\n",
       "      <th>min</th>\n",
       "      <td>-999.000000</td>\n",
       "      <td>-999.000000</td>\n",
       "      <td>1.350066e+01</td>\n",
       "      <td>4.115000e+00</td>\n",
       "      <td>0.016404</td>\n",
       "      <td>0.005000</td>\n",
       "    </tr>\n",
       "    <tr>\n",
       "      <th>25%</th>\n",
       "      <td>0.225000</td>\n",
       "      <td>0.068600</td>\n",
       "      <td>1.350066e+01</td>\n",
       "      <td>4.115000e+00</td>\n",
       "      <td>0.639764</td>\n",
       "      <td>0.195000</td>\n",
       "    </tr>\n",
       "    <tr>\n",
       "      <th>50%</th>\n",
       "      <td>0.275000</td>\n",
       "      <td>0.083800</td>\n",
       "      <td>1.350066e+01</td>\n",
       "      <td>4.115000e+00</td>\n",
       "      <td>13.225656</td>\n",
       "      <td>4.031200</td>\n",
       "    </tr>\n",
       "    <tr>\n",
       "      <th>75%</th>\n",
       "      <td>12.860892</td>\n",
       "      <td>3.920000</td>\n",
       "      <td>1.350066e+01</td>\n",
       "      <td>4.115000e+00</td>\n",
       "      <td>13.275656</td>\n",
       "      <td>4.046400</td>\n",
       "    </tr>\n",
       "    <tr>\n",
       "      <th>max</th>\n",
       "      <td>13.484252</td>\n",
       "      <td>4.110000</td>\n",
       "      <td>1.350066e+01</td>\n",
       "      <td>4.115000e+00</td>\n",
       "      <td>1012.500656</td>\n",
       "      <td>1003.115000</td>\n",
       "    </tr>\n",
       "  </tbody>\n",
       "</table>\n",
       "</div>"
      ],
      "text/plain": [
       "       sensor_to_water_feet  sensor_to_water_meters  sensor_to_ground_feet  \\\n",
       "count          27554.000000            27554.000000           2.755400e+04   \n",
       "mean             -74.586608              -77.202493           1.350066e+01   \n",
       "std              269.734840              268.919588           9.883353e-12   \n",
       "min             -999.000000             -999.000000           1.350066e+01   \n",
       "25%                0.225000                0.068600           1.350066e+01   \n",
       "50%                0.275000                0.083800           1.350066e+01   \n",
       "75%               12.860892                3.920000           1.350066e+01   \n",
       "max               13.484252                4.110000           1.350066e+01   \n",
       "\n",
       "       sensor_to_ground_meters  flood_depth_feet  flood_depth_meters  \n",
       "count             2.755400e+04      27554.000000        27554.000000  \n",
       "mean              4.115000e+00         88.087264           81.317493  \n",
       "std               1.826128e-12        269.734840          268.919588  \n",
       "min               4.115000e+00          0.016404            0.005000  \n",
       "25%               4.115000e+00          0.639764            0.195000  \n",
       "50%               4.115000e+00         13.225656            4.031200  \n",
       "75%               4.115000e+00         13.275656            4.046400  \n",
       "max               4.115000e+00       1012.500656         1003.115000  "
      ]
     },
     "execution_count": 7,
     "metadata": {},
     "output_type": "execute_result"
    }
   ],
   "source": [
    "flood.describe()"
   ]
  },
  {
   "cell_type": "code",
   "execution_count": 8,
   "metadata": {},
   "outputs": [
    {
     "data": {
      "text/plain": [
       "0         0.311680\n",
       "1         0.246063\n",
       "2         0.278871\n",
       "3         0.278871\n",
       "4         0.278871\n",
       "           ...    \n",
       "27549    13.283956\n",
       "27550    13.283956\n",
       "27551    13.267356\n",
       "27552    13.250656\n",
       "27553    13.242356\n",
       "Name: flood_depth_feet, Length: 27554, dtype: float64"
      ]
     },
     "execution_count": 8,
     "metadata": {},
     "output_type": "execute_result"
    }
   ],
   "source": [
    "flood.flood_depth_feet"
   ]
  },
  {
   "cell_type": "code",
   "execution_count": 2,
   "metadata": {},
   "outputs": [],
   "source": [
    "#Fix some errors\n",
    "# Flood Cleaning\n",
    "def clean_flood():\n",
    "    '''Drops unneeded columns from the med center flooding df\n",
    "    Makes sure DateTime is in DateTime format'''\n",
    "    # read csv\n",
    "    flood = pd.read_csv('med_center_flood.csv')\n",
    "    # drop the colums\n",
    "    flood = flood.drop(columns=['LAT', 'LONG', 'Zone', \n",
    "                          'Sensor_id', 'SensorModel', \n",
    "                          'SensorStatus', 'AlertTriggered', \n",
    "                          'Temp_C', 'Temp_F', 'Vendor'])\n",
    "    # Set to date time format\n",
    "    flood.DateTime = pd.to_datetime(flood.DateTime)\n",
    "    flood = flood.rename(columns={\"DateTime\": \"datetime\", \n",
    "                        \"DistToWL_ft\": \"sensor_to_water_feet\", \n",
    "                        \"DistToWL_m\": \"sensor_to_water_meters\", \n",
    "                        \"DistToDF_ft\": \"sensor_to_ground_feet\",\n",
    "                        \"DistToDF_m\": \"sensor_to_ground_meters\"})\n",
    "    # replae -999 with 0\n",
    "    flood[\"sensor_to_ground_feet\"].replace({-999:13.5006561680}, inplace=True)\n",
    "    flood[\"sensor_to_ground_meters\"].replace({-999:4.115}, inplace=True)\n",
    "    \n",
    "    #flood = flood.replace(to_replace=-999, value=0)\n",
    "    # create new features for flood depth\n",
    "    flood['flood_depth_feet'] = flood.sensor_to_ground_feet - flood.sensor_to_water_feet\n",
    "    flood['flood_depth_meters'] = flood.sensor_to_ground_meters - flood.sensor_to_water_meters \n",
    "    # Create new alert\n",
    "    def flood_alert(c):\n",
    "        if 0 < c['flood_depth_feet'] < 10:\n",
    "            return 'No Risk'\n",
    "        elif 10 < c['flood_depth_feet'] < 11:\n",
    "            return 'Minor Risk'\n",
    "        elif 11 < c['flood_depth_feet'] < 12:\n",
    "            return 'Moderate Risk'\n",
    "        elif 12 < c['flood_depth_feet']:\n",
    "            return 'Major Risk !'\n",
    "        else:\n",
    "            return 'No Alert'\n",
    "    flood['flood_alert'] = flood.apply(flood_alert, axis=1)\n",
    "    # return new df\n",
    "    return flood"
   ]
  },
  {
   "cell_type": "code",
   "execution_count": 9,
   "metadata": {},
   "outputs": [],
   "source": [
    "nines = flood[(flood.sensor_to_water_feet == -999)]"
   ]
  },
  {
   "cell_type": "code",
   "execution_count": 10,
   "metadata": {},
   "outputs": [
    {
     "data": {
      "text/plain": [
       "(2161, 8)"
      ]
     },
     "execution_count": 10,
     "metadata": {},
     "output_type": "execute_result"
    }
   ],
   "source": [
    "nines.shape"
   ]
  },
  {
   "cell_type": "code",
   "execution_count": 11,
   "metadata": {},
   "outputs": [
    {
     "data": {
      "text/html": [
       "<div>\n",
       "<style scoped>\n",
       "    .dataframe tbody tr th:only-of-type {\n",
       "        vertical-align: middle;\n",
       "    }\n",
       "\n",
       "    .dataframe tbody tr th {\n",
       "        vertical-align: top;\n",
       "    }\n",
       "\n",
       "    .dataframe thead th {\n",
       "        text-align: right;\n",
       "    }\n",
       "</style>\n",
       "<table border=\"1\" class=\"dataframe\">\n",
       "  <thead>\n",
       "    <tr style=\"text-align: right;\">\n",
       "      <th></th>\n",
       "      <th>datetime</th>\n",
       "      <th>sensor_to_water_feet</th>\n",
       "      <th>sensor_to_water_meters</th>\n",
       "      <th>sensor_to_ground_feet</th>\n",
       "      <th>sensor_to_ground_meters</th>\n",
       "      <th>flood_depth_feet</th>\n",
       "      <th>flood_depth_meters</th>\n",
       "      <th>flood_alert</th>\n",
       "    </tr>\n",
       "  </thead>\n",
       "  <tbody>\n",
       "    <tr>\n",
       "      <th>5750</th>\n",
       "      <td>2021-05-13 00:00:00</td>\n",
       "      <td>-999.0</td>\n",
       "      <td>-999.0</td>\n",
       "      <td>13.500656</td>\n",
       "      <td>4.115</td>\n",
       "      <td>1012.500656</td>\n",
       "      <td>1003.115</td>\n",
       "      <td>Major Risk !</td>\n",
       "    </tr>\n",
       "    <tr>\n",
       "      <th>5751</th>\n",
       "      <td>2021-05-13 00:05:00</td>\n",
       "      <td>-999.0</td>\n",
       "      <td>-999.0</td>\n",
       "      <td>13.500656</td>\n",
       "      <td>4.115</td>\n",
       "      <td>1012.500656</td>\n",
       "      <td>1003.115</td>\n",
       "      <td>Major Risk !</td>\n",
       "    </tr>\n",
       "    <tr>\n",
       "      <th>5752</th>\n",
       "      <td>2021-05-13 00:10:00</td>\n",
       "      <td>-999.0</td>\n",
       "      <td>-999.0</td>\n",
       "      <td>13.500656</td>\n",
       "      <td>4.115</td>\n",
       "      <td>1012.500656</td>\n",
       "      <td>1003.115</td>\n",
       "      <td>Major Risk !</td>\n",
       "    </tr>\n",
       "    <tr>\n",
       "      <th>5753</th>\n",
       "      <td>2021-05-13 00:15:00</td>\n",
       "      <td>-999.0</td>\n",
       "      <td>-999.0</td>\n",
       "      <td>13.500656</td>\n",
       "      <td>4.115</td>\n",
       "      <td>1012.500656</td>\n",
       "      <td>1003.115</td>\n",
       "      <td>Major Risk !</td>\n",
       "    </tr>\n",
       "    <tr>\n",
       "      <th>5754</th>\n",
       "      <td>2021-05-13 00:20:00</td>\n",
       "      <td>-999.0</td>\n",
       "      <td>-999.0</td>\n",
       "      <td>13.500656</td>\n",
       "      <td>4.115</td>\n",
       "      <td>1012.500656</td>\n",
       "      <td>1003.115</td>\n",
       "      <td>Major Risk !</td>\n",
       "    </tr>\n",
       "  </tbody>\n",
       "</table>\n",
       "</div>"
      ],
      "text/plain": [
       "                datetime  sensor_to_water_feet  sensor_to_water_meters  \\\n",
       "5750 2021-05-13 00:00:00                -999.0                  -999.0   \n",
       "5751 2021-05-13 00:05:00                -999.0                  -999.0   \n",
       "5752 2021-05-13 00:10:00                -999.0                  -999.0   \n",
       "5753 2021-05-13 00:15:00                -999.0                  -999.0   \n",
       "5754 2021-05-13 00:20:00                -999.0                  -999.0   \n",
       "\n",
       "      sensor_to_ground_feet  sensor_to_ground_meters  flood_depth_feet  \\\n",
       "5750              13.500656                    4.115       1012.500656   \n",
       "5751              13.500656                    4.115       1012.500656   \n",
       "5752              13.500656                    4.115       1012.500656   \n",
       "5753              13.500656                    4.115       1012.500656   \n",
       "5754              13.500656                    4.115       1012.500656   \n",
       "\n",
       "      flood_depth_meters   flood_alert  \n",
       "5750            1003.115  Major Risk !  \n",
       "5751            1003.115  Major Risk !  \n",
       "5752            1003.115  Major Risk !  \n",
       "5753            1003.115  Major Risk !  \n",
       "5754            1003.115  Major Risk !  "
      ]
     },
     "execution_count": 11,
     "metadata": {},
     "output_type": "execute_result"
    }
   ],
   "source": [
    "nines.head()"
   ]
  },
  {
   "cell_type": "code",
   "execution_count": 12,
   "metadata": {},
   "outputs": [
    {
     "data": {
      "text/plain": [
       "(27554, 8)"
      ]
     },
     "execution_count": 12,
     "metadata": {},
     "output_type": "execute_result"
    }
   ],
   "source": [
    "flood.shape"
   ]
  },
  {
   "cell_type": "markdown",
   "metadata": {},
   "source": [
    "### Tableau Link"
   ]
  },
  {
   "cell_type": "code",
   "execution_count": null,
   "metadata": {},
   "outputs": [],
   "source": []
  }
 ],
 "metadata": {
  "kernelspec": {
   "display_name": "Python 3",
   "language": "python",
   "name": "python3"
  },
  "language_info": {
   "codemirror_mode": {
    "name": "ipython",
    "version": 3
   },
   "file_extension": ".py",
   "mimetype": "text/x-python",
   "name": "python",
   "nbconvert_exporter": "python",
   "pygments_lexer": "ipython3",
   "version": "3.8.5"
  }
 },
 "nbformat": 4,
 "nbformat_minor": 4
}
