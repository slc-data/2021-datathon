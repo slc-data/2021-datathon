{
 "cells": [
  {
   "cell_type": "markdown",
   "metadata": {},
   "source": [
    "# COSA Flood Exploration"
   ]
  },
  {
   "cell_type": "markdown",
   "metadata": {},
   "source": [
    "## Imports"
   ]
  },
  {
   "cell_type": "code",
   "execution_count": null,
   "metadata": {},
   "outputs": [],
   "source": [
    "import wrangle as w\n",
    "import pandas as pd\n",
    "import seaborn as sns\n",
    "import matplotlib.pyplot as plt"
   ]
  },
  {
   "cell_type": "code",
   "execution_count": null,
   "metadata": {},
   "outputs": [],
   "source": [
    "#Fix some errors\n",
    "# Flood Cleaning\n",
    "def clean_flood():\n",
    "    '''Drops unneeded columns from the med center flooding df\n",
    "    Makes sure DateTime is in DateTime format'''\n",
    "    # read csv\n",
    "    flood = pd.read_csv('med_center_flood.csv')\n",
    "    # drop the columns\n",
    "    flood = flood.drop(columns=['LAT', 'LONG', 'Zone',  \n",
    "                          'SensorStatus', 'AlertTriggered', \n",
    "                          'Temp_C', 'Temp_F'])\n",
    "    # Set to date time format\n",
    "    flood.DateTime = pd.to_datetime(flood.DateTime)\n",
    "    flood = flood.rename(columns={\"DateTime\": \"datetime\", \n",
    "                        \"DistToWL_ft\": \"sensor_to_water_feet\", \n",
    "                        \"DistToWL_m\": \"sensor_to_water_meters\", \n",
    "                        \"DistToDF_ft\": \"sensor_to_ground_feet\",\n",
    "                        \"DistToDF_m\": \"sensor_to_ground_meters\"})\n",
    "    # replae -999 with 0\n",
    "    flood[\"sensor_to_ground_feet\"].replace({-999:13.5006561680}, inplace=True)\n",
    "    flood[\"sensor_to_ground_meters\"].replace({-999:4.115}, inplace=True)\n",
    "    \n",
    "    #flood = flood.replace(to_replace=-999, value=0)\n",
    "    # create new features for flood depth\n",
    "    flood['flood_depth_feet'] = flood.sensor_to_ground_feet - flood.sensor_to_water_feet\n",
    "    flood['flood_depth_meters'] = flood.sensor_to_ground_meters - flood.sensor_to_water_meters \n",
    "    # Create new alert\n",
    "    def flood_alert(c):\n",
    "        if 0 < c['flood_depth_feet'] < 0.66667:\n",
    "            return 'No Risk'\n",
    "        elif 0.66667 < c['flood_depth_feet'] < 1.08333:\n",
    "            return 'Minor Risk'\n",
    "        elif 1.08333 < c['flood_depth_feet'] < 2.16667:\n",
    "            return 'Moderate Risk'\n",
    "        elif 2.16667 < c['flood_depth_feet']:\n",
    "            return 'Major Risk !'\n",
    "        else:\n",
    "            return 'No Alert'\n",
    "    flood['flood_alert'] = flood.apply(flood_alert, axis=1)\n",
    "    flood = flood[(flood.sensor_to_water_feet != -999)]\n",
    "    # return new df\n",
    "    return flood"
   ]
  },
  {
   "cell_type": "code",
   "execution_count": null,
   "metadata": {},
   "outputs": [],
   "source": [
    "    # Create new alert\n",
    "    def flood_alert(c):\n",
    "        if 0 < c['flood_depth_feet'] < 0.66667:\n",
    "            return 'No Risk'\n",
    "        elif 0.66667 < c['flood_depth_feet'] < 1.08333:\n",
    "            return 'Minor Risk'\n",
    "        elif 1.08333 < c['flood_depth_feet'] < 2.16667:\n",
    "            return 'Moderate Risk'\n",
    "        elif 2.16667 < c['flood_depth_feet']:\n",
    "            return 'Major Risk !'\n",
    "        else:\n",
    "            return 'No Alert'\n",
    "    flood['flood_alert'] = flood.apply(flood_alert, axis=1)"
   ]
  },
  {
   "cell_type": "code",
   "execution_count": null,
   "metadata": {},
   "outputs": [],
   "source": [
    "flood = clean_flood()"
   ]
  },
  {
   "cell_type": "code",
   "execution_count": null,
   "metadata": {},
   "outputs": [],
   "source": [
    "flood.head()"
   ]
  },
  {
   "cell_type": "code",
   "execution_count": null,
   "metadata": {},
   "outputs": [],
   "source": [
    "flood.Vendor.value_counts()"
   ]
  },
  {
   "cell_type": "code",
   "execution_count": null,
   "metadata": {},
   "outputs": [],
   "source": [
    "flood.to_csv('floodz.csv')"
   ]
  },
  {
   "cell_type": "code",
   "execution_count": null,
   "metadata": {},
   "outputs": [],
   "source": [
    "flood.sensor_to_ground_feet.value_counts()"
   ]
  },
  {
   "cell_type": "code",
   "execution_count": null,
   "metadata": {},
   "outputs": [],
   "source": [
    "flood.describe()"
   ]
  },
  {
   "cell_type": "code",
   "execution_count": null,
   "metadata": {},
   "outputs": [],
   "source": [
    "# Shape before dropping -999\n",
    "flood.shape"
   ]
  },
  {
   "cell_type": "code",
   "execution_count": null,
   "metadata": {},
   "outputs": [],
   "source": [
    "flood.flood_depth_feet"
   ]
  },
  {
   "cell_type": "code",
   "execution_count": null,
   "metadata": {},
   "outputs": [],
   "source": [
    "# drop the -999\n",
    "flood2 = flood[(flood.sensor_to_water_feet != -999)]"
   ]
  },
  {
   "cell_type": "code",
   "execution_count": null,
   "metadata": {},
   "outputs": [],
   "source": [
    "# shape after -999 drop\n",
    "flood2.shape"
   ]
  },
  {
   "cell_type": "code",
   "execution_count": null,
   "metadata": {},
   "outputs": [],
   "source": [
    "#descriptive statistics\n",
    "flood2.describe()"
   ]
  },
  {
   "cell_type": "code",
   "execution_count": null,
   "metadata": {},
   "outputs": [],
   "source": [
    "#grab full dataset while im here\n",
    "df = w.full_daily_COSA_dataframe()"
   ]
  },
  {
   "cell_type": "code",
   "execution_count": null,
   "metadata": {},
   "outputs": [],
   "source": [
    "df.head()"
   ]
  },
  {
   "cell_type": "code",
   "execution_count": null,
   "metadata": {},
   "outputs": [],
   "source": [
    "df.info()"
   ]
  },
  {
   "cell_type": "code",
   "execution_count": null,
   "metadata": {},
   "outputs": [],
   "source": []
  },
  {
   "cell_type": "code",
   "execution_count": null,
   "metadata": {},
   "outputs": [],
   "source": []
  },
  {
   "cell_type": "code",
   "execution_count": null,
   "metadata": {},
   "outputs": [],
   "source": []
  },
  {
   "cell_type": "code",
   "execution_count": null,
   "metadata": {},
   "outputs": [],
   "source": []
  },
  {
   "cell_type": "markdown",
   "metadata": {},
   "source": [
    "### Tableau Link"
   ]
  },
  {
   "cell_type": "code",
   "execution_count": null,
   "metadata": {},
   "outputs": [],
   "source": []
  }
 ],
 "metadata": {
  "kernelspec": {
   "display_name": "Python 3",
   "language": "python",
   "name": "python3"
  },
  "language_info": {
   "codemirror_mode": {
    "name": "ipython",
    "version": 3
   },
   "file_extension": ".py",
   "mimetype": "text/x-python",
   "name": "python",
   "nbconvert_exporter": "python",
   "pygments_lexer": "ipython3",
   "version": "3.8.5"
  }
 },
 "nbformat": 4,
 "nbformat_minor": 4
}
