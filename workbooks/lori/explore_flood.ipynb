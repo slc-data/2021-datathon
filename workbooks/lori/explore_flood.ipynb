{
 "cells": [
  {
   "cell_type": "markdown",
   "metadata": {},
   "source": [
    "# COSA Flood Exploration"
   ]
  },
  {
   "cell_type": "markdown",
   "metadata": {},
   "source": [
    "## Imports"
   ]
  },
  {
   "cell_type": "code",
   "execution_count": 1,
   "metadata": {},
   "outputs": [],
   "source": [
    "import wrangle as w\n",
    "import pandas as pd\n",
    "import seaborn as sns\n",
    "import matplotlib.pyplot as plt"
   ]
  },
  {
   "cell_type": "code",
   "execution_count": 2,
   "metadata": {},
   "outputs": [],
   "source": [
    "#Fix some errors\n",
    "# Flood Cleaning\n",
    "def clean_flood():\n",
    "    '''Drops unneeded columns from the med center flooding df\n",
    "    Makes sure DateTime is in DateTime format'''\n",
    "    # read csv\n",
    "    flood = pd.read_csv('med_center_flood.csv')\n",
    "    # drop the columns\n",
    "    flood = flood.drop(columns=['LAT', 'LONG', 'Zone',  \n",
    "                          'SensorStatus', 'AlertTriggered', \n",
    "                          'Temp_C', 'Temp_F', 'Vendor'])\n",
    "    # Set to date time format\n",
    "    flood.DateTime = pd.to_datetime(flood.DateTime)\n",
    "    flood = flood.rename(columns={\"DateTime\": \"datetime\", \n",
    "                        \"DistToWL_ft\": \"sensor_to_water_feet\", \n",
    "                        \"DistToWL_m\": \"sensor_to_water_meters\", \n",
    "                        \"DistToDF_ft\": \"sensor_to_ground_feet\",\n",
    "                        \"DistToDF_m\": \"sensor_to_ground_meters\"})\n",
    "    # replae -999 with 0\n",
    "    flood[\"sensor_to_ground_feet\"].replace({-999:13.5006561680}, inplace=True)\n",
    "    flood[\"sensor_to_ground_meters\"].replace({-999:4.115}, inplace=True)\n",
    "    \n",
    "    #flood = flood.replace(to_replace=-999, value=0)\n",
    "    # create new features for flood depth\n",
    "    flood['flood_depth_feet'] = flood.sensor_to_ground_feet - flood.sensor_to_water_feet\n",
    "    flood['flood_depth_meters'] = flood.sensor_to_ground_meters - flood.sensor_to_water_meters \n",
    "    # Create new alert\n",
    "    def flood_alert(c):\n",
    "        if 0 < c['flood_depth_feet'] < 10:\n",
    "            return 'No Risk'\n",
    "        elif 10 < c['flood_depth_feet'] < 11:\n",
    "            return 'Minor Risk'\n",
    "        elif 11 < c['flood_depth_feet'] < 12:\n",
    "            return 'Moderate Risk'\n",
    "        elif 12 < c['flood_depth_feet']:\n",
    "            return 'Major Risk !'\n",
    "        else:\n",
    "            return 'No Alert'\n",
    "    flood['flood_alert'] = flood.apply(flood_alert, axis=1)\n",
    "    flood = flood[(flood.sensor_to_water_feet != -999)]\n",
    "    # return new df\n",
    "    return flood"
   ]
  },
  {
   "cell_type": "code",
   "execution_count": 3,
   "metadata": {},
   "outputs": [],
   "source": [
    "flood = clean_flood()"
   ]
  },
  {
   "cell_type": "code",
   "execution_count": 4,
   "metadata": {},
   "outputs": [
    {
     "data": {
      "text/html": [
       "<div>\n",
       "<style scoped>\n",
       "    .dataframe tbody tr th:only-of-type {\n",
       "        vertical-align: middle;\n",
       "    }\n",
       "\n",
       "    .dataframe tbody tr th {\n",
       "        vertical-align: top;\n",
       "    }\n",
       "\n",
       "    .dataframe thead th {\n",
       "        text-align: right;\n",
       "    }\n",
       "</style>\n",
       "<table border=\"1\" class=\"dataframe\">\n",
       "  <thead>\n",
       "    <tr style=\"text-align: right;\">\n",
       "      <th></th>\n",
       "      <th>datetime</th>\n",
       "      <th>Sensor_id</th>\n",
       "      <th>SensorModel</th>\n",
       "      <th>sensor_to_water_feet</th>\n",
       "      <th>sensor_to_water_meters</th>\n",
       "      <th>sensor_to_ground_feet</th>\n",
       "      <th>sensor_to_ground_meters</th>\n",
       "      <th>flood_depth_feet</th>\n",
       "      <th>flood_depth_meters</th>\n",
       "      <th>flood_alert</th>\n",
       "    </tr>\n",
       "  </thead>\n",
       "  <tbody>\n",
       "    <tr>\n",
       "      <th>0</th>\n",
       "      <td>2021-05-20 00:11:55</td>\n",
       "      <td>400789</td>\n",
       "      <td>ranger sensor</td>\n",
       "      <td>13.188976</td>\n",
       "      <td>4.02</td>\n",
       "      <td>13.500656</td>\n",
       "      <td>4.115</td>\n",
       "      <td>0.311680</td>\n",
       "      <td>0.095</td>\n",
       "      <td>No Risk</td>\n",
       "    </tr>\n",
       "    <tr>\n",
       "      <th>1</th>\n",
       "      <td>2021-05-20 00:26:55</td>\n",
       "      <td>400789</td>\n",
       "      <td>ranger sensor</td>\n",
       "      <td>13.254593</td>\n",
       "      <td>4.04</td>\n",
       "      <td>13.500656</td>\n",
       "      <td>4.115</td>\n",
       "      <td>0.246063</td>\n",
       "      <td>0.075</td>\n",
       "      <td>No Risk</td>\n",
       "    </tr>\n",
       "    <tr>\n",
       "      <th>2</th>\n",
       "      <td>2021-05-20 00:41:55</td>\n",
       "      <td>400789</td>\n",
       "      <td>ranger sensor</td>\n",
       "      <td>13.221785</td>\n",
       "      <td>4.03</td>\n",
       "      <td>13.500656</td>\n",
       "      <td>4.115</td>\n",
       "      <td>0.278871</td>\n",
       "      <td>0.085</td>\n",
       "      <td>No Risk</td>\n",
       "    </tr>\n",
       "    <tr>\n",
       "      <th>3</th>\n",
       "      <td>2021-05-20 00:56:55</td>\n",
       "      <td>400789</td>\n",
       "      <td>ranger sensor</td>\n",
       "      <td>13.221785</td>\n",
       "      <td>4.03</td>\n",
       "      <td>13.500656</td>\n",
       "      <td>4.115</td>\n",
       "      <td>0.278871</td>\n",
       "      <td>0.085</td>\n",
       "      <td>No Risk</td>\n",
       "    </tr>\n",
       "    <tr>\n",
       "      <th>4</th>\n",
       "      <td>2021-05-20 01:11:55</td>\n",
       "      <td>400789</td>\n",
       "      <td>ranger sensor</td>\n",
       "      <td>13.221785</td>\n",
       "      <td>4.03</td>\n",
       "      <td>13.500656</td>\n",
       "      <td>4.115</td>\n",
       "      <td>0.278871</td>\n",
       "      <td>0.085</td>\n",
       "      <td>No Risk</td>\n",
       "    </tr>\n",
       "  </tbody>\n",
       "</table>\n",
       "</div>"
      ],
      "text/plain": [
       "             datetime  Sensor_id    SensorModel  sensor_to_water_feet  \\\n",
       "0 2021-05-20 00:11:55     400789  ranger sensor             13.188976   \n",
       "1 2021-05-20 00:26:55     400789  ranger sensor             13.254593   \n",
       "2 2021-05-20 00:41:55     400789  ranger sensor             13.221785   \n",
       "3 2021-05-20 00:56:55     400789  ranger sensor             13.221785   \n",
       "4 2021-05-20 01:11:55     400789  ranger sensor             13.221785   \n",
       "\n",
       "   sensor_to_water_meters  sensor_to_ground_feet  sensor_to_ground_meters  \\\n",
       "0                    4.02              13.500656                    4.115   \n",
       "1                    4.04              13.500656                    4.115   \n",
       "2                    4.03              13.500656                    4.115   \n",
       "3                    4.03              13.500656                    4.115   \n",
       "4                    4.03              13.500656                    4.115   \n",
       "\n",
       "   flood_depth_feet  flood_depth_meters flood_alert  \n",
       "0          0.311680               0.095     No Risk  \n",
       "1          0.246063               0.075     No Risk  \n",
       "2          0.278871               0.085     No Risk  \n",
       "3          0.278871               0.085     No Risk  \n",
       "4          0.278871               0.085     No Risk  "
      ]
     },
     "execution_count": 4,
     "metadata": {},
     "output_type": "execute_result"
    }
   ],
   "source": [
    "flood.head()"
   ]
  },
  {
   "cell_type": "code",
   "execution_count": null,
   "metadata": {},
   "outputs": [],
   "source": [
    "#flood.to_csv('bestflood.csv')"
   ]
  },
  {
   "cell_type": "code",
   "execution_count": 5,
   "metadata": {},
   "outputs": [
    {
     "data": {
      "text/plain": [
       "13.500656    17834\n",
       "13.500656     7559\n",
       "Name: sensor_to_ground_feet, dtype: int64"
      ]
     },
     "execution_count": 5,
     "metadata": {},
     "output_type": "execute_result"
    }
   ],
   "source": [
    "flood.sensor_to_ground_feet.value_counts()"
   ]
  },
  {
   "cell_type": "code",
   "execution_count": 6,
   "metadata": {},
   "outputs": [
    {
     "data": {
      "text/html": [
       "<div>\n",
       "<style scoped>\n",
       "    .dataframe tbody tr th:only-of-type {\n",
       "        vertical-align: middle;\n",
       "    }\n",
       "\n",
       "    .dataframe tbody tr th {\n",
       "        vertical-align: top;\n",
       "    }\n",
       "\n",
       "    .dataframe thead th {\n",
       "        text-align: right;\n",
       "    }\n",
       "</style>\n",
       "<table border=\"1\" class=\"dataframe\">\n",
       "  <thead>\n",
       "    <tr style=\"text-align: right;\">\n",
       "      <th></th>\n",
       "      <th>Sensor_id</th>\n",
       "      <th>sensor_to_water_feet</th>\n",
       "      <th>sensor_to_water_meters</th>\n",
       "      <th>sensor_to_ground_feet</th>\n",
       "      <th>sensor_to_ground_meters</th>\n",
       "      <th>flood_depth_feet</th>\n",
       "      <th>flood_depth_meters</th>\n",
       "    </tr>\n",
       "  </thead>\n",
       "  <tbody>\n",
       "    <tr>\n",
       "      <th>count</th>\n",
       "      <td>25393.000000</td>\n",
       "      <td>25393.000000</td>\n",
       "      <td>25393.000000</td>\n",
       "      <td>2.539300e+04</td>\n",
       "      <td>2.539300e+04</td>\n",
       "      <td>25393.000000</td>\n",
       "      <td>25393.000000</td>\n",
       "    </tr>\n",
       "    <tr>\n",
       "      <th>mean</th>\n",
       "      <td>162462.483716</td>\n",
       "      <td>4.083000</td>\n",
       "      <td>1.244497</td>\n",
       "      <td>1.350066e+01</td>\n",
       "      <td>4.115000e+00</td>\n",
       "      <td>9.417657</td>\n",
       "      <td>2.870503</td>\n",
       "    </tr>\n",
       "    <tr>\n",
       "      <th>std</th>\n",
       "      <td>155163.192945</td>\n",
       "      <td>5.800390</td>\n",
       "      <td>1.767960</td>\n",
       "      <td>9.821836e-12</td>\n",
       "      <td>1.535691e-12</td>\n",
       "      <td>5.800390</td>\n",
       "      <td>1.767960</td>\n",
       "    </tr>\n",
       "    <tr>\n",
       "      <th>min</th>\n",
       "      <td>61447.000000</td>\n",
       "      <td>0.000000</td>\n",
       "      <td>0.000000</td>\n",
       "      <td>1.350066e+01</td>\n",
       "      <td>4.115000e+00</td>\n",
       "      <td>0.016404</td>\n",
       "      <td>0.005000</td>\n",
       "    </tr>\n",
       "    <tr>\n",
       "      <th>25%</th>\n",
       "      <td>61447.000000</td>\n",
       "      <td>0.233300</td>\n",
       "      <td>0.071100</td>\n",
       "      <td>1.350066e+01</td>\n",
       "      <td>4.115000e+00</td>\n",
       "      <td>0.606955</td>\n",
       "      <td>0.185000</td>\n",
       "    </tr>\n",
       "    <tr>\n",
       "      <th>50%</th>\n",
       "      <td>61447.000000</td>\n",
       "      <td>0.291700</td>\n",
       "      <td>0.088900</td>\n",
       "      <td>1.350066e+01</td>\n",
       "      <td>4.115000e+00</td>\n",
       "      <td>13.208956</td>\n",
       "      <td>4.026100</td>\n",
       "    </tr>\n",
       "    <tr>\n",
       "      <th>75%</th>\n",
       "      <td>400789.000000</td>\n",
       "      <td>12.893701</td>\n",
       "      <td>3.930000</td>\n",
       "      <td>1.350066e+01</td>\n",
       "      <td>4.115000e+00</td>\n",
       "      <td>13.267356</td>\n",
       "      <td>4.043900</td>\n",
       "    </tr>\n",
       "    <tr>\n",
       "      <th>max</th>\n",
       "      <td>400789.000000</td>\n",
       "      <td>13.484252</td>\n",
       "      <td>4.110000</td>\n",
       "      <td>1.350066e+01</td>\n",
       "      <td>4.115000e+00</td>\n",
       "      <td>13.500656</td>\n",
       "      <td>4.115000</td>\n",
       "    </tr>\n",
       "  </tbody>\n",
       "</table>\n",
       "</div>"
      ],
      "text/plain": [
       "           Sensor_id  sensor_to_water_feet  sensor_to_water_meters  \\\n",
       "count   25393.000000          25393.000000            25393.000000   \n",
       "mean   162462.483716              4.083000                1.244497   \n",
       "std    155163.192945              5.800390                1.767960   \n",
       "min     61447.000000              0.000000                0.000000   \n",
       "25%     61447.000000              0.233300                0.071100   \n",
       "50%     61447.000000              0.291700                0.088900   \n",
       "75%    400789.000000             12.893701                3.930000   \n",
       "max    400789.000000             13.484252                4.110000   \n",
       "\n",
       "       sensor_to_ground_feet  sensor_to_ground_meters  flood_depth_feet  \\\n",
       "count           2.539300e+04             2.539300e+04      25393.000000   \n",
       "mean            1.350066e+01             4.115000e+00          9.417657   \n",
       "std             9.821836e-12             1.535691e-12          5.800390   \n",
       "min             1.350066e+01             4.115000e+00          0.016404   \n",
       "25%             1.350066e+01             4.115000e+00          0.606955   \n",
       "50%             1.350066e+01             4.115000e+00         13.208956   \n",
       "75%             1.350066e+01             4.115000e+00         13.267356   \n",
       "max             1.350066e+01             4.115000e+00         13.500656   \n",
       "\n",
       "       flood_depth_meters  \n",
       "count        25393.000000  \n",
       "mean             2.870503  \n",
       "std              1.767960  \n",
       "min              0.005000  \n",
       "25%              0.185000  \n",
       "50%              4.026100  \n",
       "75%              4.043900  \n",
       "max              4.115000  "
      ]
     },
     "execution_count": 6,
     "metadata": {},
     "output_type": "execute_result"
    }
   ],
   "source": [
    "flood.describe()"
   ]
  },
  {
   "cell_type": "code",
   "execution_count": 7,
   "metadata": {},
   "outputs": [
    {
     "data": {
      "text/plain": [
       "(25393, 10)"
      ]
     },
     "execution_count": 7,
     "metadata": {},
     "output_type": "execute_result"
    }
   ],
   "source": [
    "# Shape before dropping -999\n",
    "flood.shape"
   ]
  },
  {
   "cell_type": "code",
   "execution_count": null,
   "metadata": {},
   "outputs": [],
   "source": [
    "flood.flood_depth_feet"
   ]
  },
  {
   "cell_type": "code",
   "execution_count": null,
   "metadata": {},
   "outputs": [],
   "source": [
    "# drop the -999\n",
    "flood2 = flood[(flood.sensor_to_water_feet != -999)]"
   ]
  },
  {
   "cell_type": "code",
   "execution_count": null,
   "metadata": {},
   "outputs": [],
   "source": [
    "# shape after -999 drop\n",
    "flood2.shape"
   ]
  },
  {
   "cell_type": "code",
   "execution_count": null,
   "metadata": {},
   "outputs": [],
   "source": [
    "#descriptive statistics\n",
    "flood2.describe()"
   ]
  },
  {
   "cell_type": "code",
   "execution_count": null,
   "metadata": {},
   "outputs": [],
   "source": []
  },
  {
   "cell_type": "code",
   "execution_count": null,
   "metadata": {},
   "outputs": [],
   "source": []
  },
  {
   "cell_type": "code",
   "execution_count": null,
   "metadata": {},
   "outputs": [],
   "source": []
  },
  {
   "cell_type": "code",
   "execution_count": null,
   "metadata": {},
   "outputs": [],
   "source": []
  },
  {
   "cell_type": "code",
   "execution_count": null,
   "metadata": {},
   "outputs": [],
   "source": []
  },
  {
   "cell_type": "code",
   "execution_count": null,
   "metadata": {},
   "outputs": [],
   "source": []
  },
  {
   "cell_type": "code",
   "execution_count": null,
   "metadata": {},
   "outputs": [],
   "source": []
  },
  {
   "cell_type": "markdown",
   "metadata": {},
   "source": [
    "### Tableau Link"
   ]
  },
  {
   "cell_type": "code",
   "execution_count": null,
   "metadata": {},
   "outputs": [],
   "source": []
  }
 ],
 "metadata": {
  "kernelspec": {
   "display_name": "Python 3",
   "language": "python",
   "name": "python3"
  },
  "language_info": {
   "codemirror_mode": {
    "name": "ipython",
    "version": 3
   },
   "file_extension": ".py",
   "mimetype": "text/x-python",
   "name": "python",
   "nbconvert_exporter": "python",
   "pygments_lexer": "ipython3",
   "version": "3.8.5"
  }
 },
 "nbformat": 4,
 "nbformat_minor": 4
}
