{
 "cells": [
  {
   "cell_type": "markdown",
   "metadata": {},
   "source": [
    "# COSA Flood Exploration"
   ]
  },
  {
   "cell_type": "markdown",
   "metadata": {},
   "source": [
    "## Imports"
   ]
  },
  {
   "cell_type": "code",
   "execution_count": 1,
   "metadata": {},
   "outputs": [],
   "source": [
    "import wrangle as w\n",
    "import pandas as pd\n",
    "import seaborn as sns\n",
    "import matplotlib.pyplot as plt"
   ]
  },
  {
   "cell_type": "code",
   "execution_count": 2,
   "metadata": {},
   "outputs": [],
   "source": [
    "flood = w.clean_flood()"
   ]
  },
  {
   "cell_type": "code",
   "execution_count": 3,
   "metadata": {},
   "outputs": [
    {
     "data": {
      "text/html": [
       "<div>\n",
       "<style scoped>\n",
       "    .dataframe tbody tr th:only-of-type {\n",
       "        vertical-align: middle;\n",
       "    }\n",
       "\n",
       "    .dataframe tbody tr th {\n",
       "        vertical-align: top;\n",
       "    }\n",
       "\n",
       "    .dataframe thead th {\n",
       "        text-align: right;\n",
       "    }\n",
       "</style>\n",
       "<table border=\"1\" class=\"dataframe\">\n",
       "  <thead>\n",
       "    <tr style=\"text-align: right;\">\n",
       "      <th></th>\n",
       "      <th>datetime</th>\n",
       "      <th>sensor_to_water_feet</th>\n",
       "      <th>sensor_to_water_meters</th>\n",
       "      <th>sensor_to_ground_feet</th>\n",
       "      <th>sensor_to_ground_meters</th>\n",
       "      <th>flood_depth_feet</th>\n",
       "      <th>flood_depth_meters</th>\n",
       "    </tr>\n",
       "  </thead>\n",
       "  <tbody>\n",
       "    <tr>\n",
       "      <th>0</th>\n",
       "      <td>2021-05-20 00:11:55</td>\n",
       "      <td>13.188976</td>\n",
       "      <td>4.02</td>\n",
       "      <td>13.500656</td>\n",
       "      <td>4.115</td>\n",
       "      <td>0.311680</td>\n",
       "      <td>0.095</td>\n",
       "    </tr>\n",
       "    <tr>\n",
       "      <th>1</th>\n",
       "      <td>2021-05-20 00:26:55</td>\n",
       "      <td>13.254593</td>\n",
       "      <td>4.04</td>\n",
       "      <td>13.500656</td>\n",
       "      <td>4.115</td>\n",
       "      <td>0.246063</td>\n",
       "      <td>0.075</td>\n",
       "    </tr>\n",
       "    <tr>\n",
       "      <th>2</th>\n",
       "      <td>2021-05-20 00:41:55</td>\n",
       "      <td>13.221785</td>\n",
       "      <td>4.03</td>\n",
       "      <td>13.500656</td>\n",
       "      <td>4.115</td>\n",
       "      <td>0.278871</td>\n",
       "      <td>0.085</td>\n",
       "    </tr>\n",
       "    <tr>\n",
       "      <th>3</th>\n",
       "      <td>2021-05-20 00:56:55</td>\n",
       "      <td>13.221785</td>\n",
       "      <td>4.03</td>\n",
       "      <td>13.500656</td>\n",
       "      <td>4.115</td>\n",
       "      <td>0.278871</td>\n",
       "      <td>0.085</td>\n",
       "    </tr>\n",
       "    <tr>\n",
       "      <th>4</th>\n",
       "      <td>2021-05-20 01:11:55</td>\n",
       "      <td>13.221785</td>\n",
       "      <td>4.03</td>\n",
       "      <td>13.500656</td>\n",
       "      <td>4.115</td>\n",
       "      <td>0.278871</td>\n",
       "      <td>0.085</td>\n",
       "    </tr>\n",
       "  </tbody>\n",
       "</table>\n",
       "</div>"
      ],
      "text/plain": [
       "             datetime  sensor_to_water_feet  sensor_to_water_meters  \\\n",
       "0 2021-05-20 00:11:55             13.188976                    4.02   \n",
       "1 2021-05-20 00:26:55             13.254593                    4.04   \n",
       "2 2021-05-20 00:41:55             13.221785                    4.03   \n",
       "3 2021-05-20 00:56:55             13.221785                    4.03   \n",
       "4 2021-05-20 01:11:55             13.221785                    4.03   \n",
       "\n",
       "   sensor_to_ground_feet  sensor_to_ground_meters  flood_depth_feet  \\\n",
       "0              13.500656                    4.115          0.311680   \n",
       "1              13.500656                    4.115          0.246063   \n",
       "2              13.500656                    4.115          0.278871   \n",
       "3              13.500656                    4.115          0.278871   \n",
       "4              13.500656                    4.115          0.278871   \n",
       "\n",
       "   flood_depth_meters  \n",
       "0               0.095  \n",
       "1               0.075  \n",
       "2               0.085  \n",
       "3               0.085  \n",
       "4               0.085  "
      ]
     },
     "execution_count": 3,
     "metadata": {},
     "output_type": "execute_result"
    }
   ],
   "source": [
    "flood.head()"
   ]
  },
  {
   "cell_type": "code",
   "execution_count": 4,
   "metadata": {},
   "outputs": [],
   "source": [
    "flood.to_csv('newflood.csv')"
   ]
  },
  {
   "cell_type": "code",
   "execution_count": 5,
   "metadata": {},
   "outputs": [
    {
     "data": {
      "text/plain": [
       "13.500656    19995\n",
       "13.500656     7559\n",
       "Name: sensor_to_ground_feet, dtype: int64"
      ]
     },
     "execution_count": 5,
     "metadata": {},
     "output_type": "execute_result"
    }
   ],
   "source": [
    "flood.sensor_to_ground_feet.value_counts()"
   ]
  },
  {
   "cell_type": "code",
   "execution_count": 6,
   "metadata": {},
   "outputs": [
    {
     "data": {
      "text/html": [
       "<div>\n",
       "<style scoped>\n",
       "    .dataframe tbody tr th:only-of-type {\n",
       "        vertical-align: middle;\n",
       "    }\n",
       "\n",
       "    .dataframe tbody tr th {\n",
       "        vertical-align: top;\n",
       "    }\n",
       "\n",
       "    .dataframe thead th {\n",
       "        text-align: right;\n",
       "    }\n",
       "</style>\n",
       "<table border=\"1\" class=\"dataframe\">\n",
       "  <thead>\n",
       "    <tr style=\"text-align: right;\">\n",
       "      <th></th>\n",
       "      <th>sensor_to_water_feet</th>\n",
       "      <th>sensor_to_water_meters</th>\n",
       "      <th>sensor_to_ground_feet</th>\n",
       "      <th>sensor_to_ground_meters</th>\n",
       "      <th>flood_depth_feet</th>\n",
       "      <th>flood_depth_meters</th>\n",
       "    </tr>\n",
       "  </thead>\n",
       "  <tbody>\n",
       "    <tr>\n",
       "      <th>count</th>\n",
       "      <td>27554.000000</td>\n",
       "      <td>27554.000000</td>\n",
       "      <td>2.755400e+04</td>\n",
       "      <td>2.755400e+04</td>\n",
       "      <td>27554.000000</td>\n",
       "      <td>27554.000000</td>\n",
       "    </tr>\n",
       "    <tr>\n",
       "      <th>mean</th>\n",
       "      <td>3.762779</td>\n",
       "      <td>1.146894</td>\n",
       "      <td>1.350066e+01</td>\n",
       "      <td>4.115000e+00</td>\n",
       "      <td>9.737877</td>\n",
       "      <td>2.968106</td>\n",
       "    </tr>\n",
       "    <tr>\n",
       "      <th>std</th>\n",
       "      <td>5.675450</td>\n",
       "      <td>1.729878</td>\n",
       "      <td>7.494991e-08</td>\n",
       "      <td>1.826128e-12</td>\n",
       "      <td>5.675450</td>\n",
       "      <td>1.729878</td>\n",
       "    </tr>\n",
       "    <tr>\n",
       "      <th>min</th>\n",
       "      <td>0.000000</td>\n",
       "      <td>0.000000</td>\n",
       "      <td>1.350066e+01</td>\n",
       "      <td>4.115000e+00</td>\n",
       "      <td>0.016404</td>\n",
       "      <td>0.005000</td>\n",
       "    </tr>\n",
       "    <tr>\n",
       "      <th>25%</th>\n",
       "      <td>0.225000</td>\n",
       "      <td>0.068600</td>\n",
       "      <td>1.350066e+01</td>\n",
       "      <td>4.115000e+00</td>\n",
       "      <td>0.639764</td>\n",
       "      <td>0.195000</td>\n",
       "    </tr>\n",
       "    <tr>\n",
       "      <th>50%</th>\n",
       "      <td>0.275000</td>\n",
       "      <td>0.083800</td>\n",
       "      <td>1.350066e+01</td>\n",
       "      <td>4.115000e+00</td>\n",
       "      <td>13.225656</td>\n",
       "      <td>4.031200</td>\n",
       "    </tr>\n",
       "    <tr>\n",
       "      <th>75%</th>\n",
       "      <td>12.860892</td>\n",
       "      <td>3.920000</td>\n",
       "      <td>1.350066e+01</td>\n",
       "      <td>4.115000e+00</td>\n",
       "      <td>13.275656</td>\n",
       "      <td>4.046400</td>\n",
       "    </tr>\n",
       "    <tr>\n",
       "      <th>max</th>\n",
       "      <td>13.484252</td>\n",
       "      <td>4.110000</td>\n",
       "      <td>1.350066e+01</td>\n",
       "      <td>4.115000e+00</td>\n",
       "      <td>13.500656</td>\n",
       "      <td>4.115000</td>\n",
       "    </tr>\n",
       "  </tbody>\n",
       "</table>\n",
       "</div>"
      ],
      "text/plain": [
       "       sensor_to_water_feet  sensor_to_water_meters  sensor_to_ground_feet  \\\n",
       "count          27554.000000            27554.000000           2.755400e+04   \n",
       "mean               3.762779                1.146894           1.350066e+01   \n",
       "std                5.675450                1.729878           7.494991e-08   \n",
       "min                0.000000                0.000000           1.350066e+01   \n",
       "25%                0.225000                0.068600           1.350066e+01   \n",
       "50%                0.275000                0.083800           1.350066e+01   \n",
       "75%               12.860892                3.920000           1.350066e+01   \n",
       "max               13.484252                4.110000           1.350066e+01   \n",
       "\n",
       "       sensor_to_ground_meters  flood_depth_feet  flood_depth_meters  \n",
       "count             2.755400e+04      27554.000000        27554.000000  \n",
       "mean              4.115000e+00          9.737877            2.968106  \n",
       "std               1.826128e-12          5.675450            1.729878  \n",
       "min               4.115000e+00          0.016404            0.005000  \n",
       "25%               4.115000e+00          0.639764            0.195000  \n",
       "50%               4.115000e+00         13.225656            4.031200  \n",
       "75%               4.115000e+00         13.275656            4.046400  \n",
       "max               4.115000e+00         13.500656            4.115000  "
      ]
     },
     "execution_count": 6,
     "metadata": {},
     "output_type": "execute_result"
    }
   ],
   "source": [
    "flood.describe()"
   ]
  },
  {
   "cell_type": "code",
   "execution_count": null,
   "metadata": {},
   "outputs": [],
   "source": []
  }
 ],
 "metadata": {
  "kernelspec": {
   "display_name": "Python 3",
   "language": "python",
   "name": "python3"
  },
  "language_info": {
   "codemirror_mode": {
    "name": "ipython",
    "version": 3
   },
   "file_extension": ".py",
   "mimetype": "text/x-python",
   "name": "python",
   "nbconvert_exporter": "python",
   "pygments_lexer": "ipython3",
   "version": "3.8.5"
  }
 },
 "nbformat": 4,
 "nbformat_minor": 4
}
