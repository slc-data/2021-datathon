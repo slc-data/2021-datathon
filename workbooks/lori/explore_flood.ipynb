{
 "cells": [
  {
   "cell_type": "markdown",
   "metadata": {},
   "source": [
    "# COSA Flood Exploration"
   ]
  },
  {
   "cell_type": "markdown",
   "metadata": {},
   "source": [
    "## Imports"
   ]
  },
  {
   "cell_type": "code",
   "execution_count": 1,
   "metadata": {},
   "outputs": [],
   "source": [
    "import wrangle as w\n",
    "import pandas as pd\n",
    "import seaborn as sns\n",
    "import matplotlib.pyplot as plt"
   ]
  },
  {
   "cell_type": "code",
   "execution_count": 2,
   "metadata": {},
   "outputs": [],
   "source": [
    "#Fix some errors\n",
    "# Flood Cleaning\n",
    "def clean_flood():\n",
    "    '''Drops unneeded columns from the med center flooding df\n",
    "    Makes sure DateTime is in DateTime format'''\n",
    "    # read csv\n",
    "    flood = pd.read_csv('med_center_flood.csv')\n",
    "    # drop the columns\n",
    "    flood = flood.drop(columns=['LAT', 'LONG', 'Zone',  \n",
    "                          'SensorStatus', 'AlertTriggered', \n",
    "                          'Temp_C', 'Temp_F'])\n",
    "    # Set to date time format\n",
    "    flood.DateTime = pd.to_datetime(flood.DateTime)\n",
    "    flood = flood.rename(columns={\"DateTime\": \"datetime\", \n",
    "                        \"DistToWL_ft\": \"sensor_to_water_feet\", \n",
    "                        \"DistToWL_m\": \"sensor_to_water_meters\", \n",
    "                        \"DistToDF_ft\": \"sensor_to_ground_feet\",\n",
    "                        \"DistToDF_m\": \"sensor_to_ground_meters\"})\n",
    "    # replae -999 with 0\n",
    "    flood[\"sensor_to_ground_feet\"].replace({-999:13.5006561680}, inplace=True)\n",
    "    flood[\"sensor_to_ground_meters\"].replace({-999:4.115}, inplace=True)\n",
    "    \n",
    "    #flood = flood.replace(to_replace=-999, value=0)\n",
    "    # create new features for flood depth\n",
    "    flood['flood_depth_feet'] = flood.sensor_to_ground_feet - flood.sensor_to_water_feet\n",
    "    flood['flood_depth_meters'] = flood.sensor_to_ground_meters - flood.sensor_to_water_meters \n",
    "    # Create new alert\n",
    "    def flood_alert(c):\n",
    "        if 0 < c['flood_depth_feet'] < 0.66667:\n",
    "            return 'No Risk'\n",
    "        elif 0.66667 < c['flood_depth_feet'] < 1.08333:\n",
    "            return 'Minor Risk'\n",
    "        elif 1.08333 < c['flood_depth_feet'] < 2.16667:\n",
    "            return 'Moderate Risk'\n",
    "        elif 2.16667 < c['flood_depth_feet']:\n",
    "            return 'Major Risk !'\n",
    "        else:\n",
    "            return 'No Alert'\n",
    "    flood['flood_alert'] = flood.apply(flood_alert, axis=1)\n",
    "    flood = flood[(flood.sensor_to_water_feet != -999)]\n",
    "    # return new df\n",
    "    return flood"
   ]
  },
  {
   "cell_type": "code",
   "execution_count": null,
   "metadata": {},
   "outputs": [],
   "source": [
    "    # Create new alert\n",
    "    def flood_alert(c):\n",
    "        if 0 < c['flood_depth_feet'] < 0.66667:\n",
    "            return 'No Risk'\n",
    "        elif 0.66667 < c['flood_depth_feet'] < 1.08333:\n",
    "            return 'Minor Risk'\n",
    "        elif 1.08333 < c['flood_depth_feet'] < 2.16667:\n",
    "            return 'Moderate Risk'\n",
    "        elif 2.16667 < c['flood_depth_feet']:\n",
    "            return 'Major Risk !'\n",
    "        else:\n",
    "            return 'No Alert'\n",
    "    flood['flood_alert'] = flood.apply(flood_alert, axis=1)"
   ]
  },
  {
   "cell_type": "code",
   "execution_count": 3,
   "metadata": {},
   "outputs": [],
   "source": [
    "flood = clean_flood()"
   ]
  },
  {
   "cell_type": "code",
   "execution_count": 4,
   "metadata": {},
   "outputs": [
    {
     "data": {
      "text/html": [
       "<div>\n",
       "<style scoped>\n",
       "    .dataframe tbody tr th:only-of-type {\n",
       "        vertical-align: middle;\n",
       "    }\n",
       "\n",
       "    .dataframe tbody tr th {\n",
       "        vertical-align: top;\n",
       "    }\n",
       "\n",
       "    .dataframe thead th {\n",
       "        text-align: right;\n",
       "    }\n",
       "</style>\n",
       "<table border=\"1\" class=\"dataframe\">\n",
       "  <thead>\n",
       "    <tr style=\"text-align: right;\">\n",
       "      <th></th>\n",
       "      <th>datetime</th>\n",
       "      <th>Sensor_id</th>\n",
       "      <th>Vendor</th>\n",
       "      <th>SensorModel</th>\n",
       "      <th>sensor_to_water_feet</th>\n",
       "      <th>sensor_to_water_meters</th>\n",
       "      <th>sensor_to_ground_feet</th>\n",
       "      <th>sensor_to_ground_meters</th>\n",
       "      <th>flood_depth_feet</th>\n",
       "      <th>flood_depth_meters</th>\n",
       "      <th>flood_alert</th>\n",
       "    </tr>\n",
       "  </thead>\n",
       "  <tbody>\n",
       "    <tr>\n",
       "      <th>0</th>\n",
       "      <td>2021-05-20 00:11:55</td>\n",
       "      <td>400789</td>\n",
       "      <td>ATT</td>\n",
       "      <td>ranger sensor</td>\n",
       "      <td>13.188976</td>\n",
       "      <td>4.02</td>\n",
       "      <td>13.500656</td>\n",
       "      <td>4.115</td>\n",
       "      <td>0.311680</td>\n",
       "      <td>0.095</td>\n",
       "      <td>No Risk</td>\n",
       "    </tr>\n",
       "    <tr>\n",
       "      <th>1</th>\n",
       "      <td>2021-05-20 00:26:55</td>\n",
       "      <td>400789</td>\n",
       "      <td>ATT</td>\n",
       "      <td>ranger sensor</td>\n",
       "      <td>13.254593</td>\n",
       "      <td>4.04</td>\n",
       "      <td>13.500656</td>\n",
       "      <td>4.115</td>\n",
       "      <td>0.246063</td>\n",
       "      <td>0.075</td>\n",
       "      <td>No Risk</td>\n",
       "    </tr>\n",
       "    <tr>\n",
       "      <th>2</th>\n",
       "      <td>2021-05-20 00:41:55</td>\n",
       "      <td>400789</td>\n",
       "      <td>ATT</td>\n",
       "      <td>ranger sensor</td>\n",
       "      <td>13.221785</td>\n",
       "      <td>4.03</td>\n",
       "      <td>13.500656</td>\n",
       "      <td>4.115</td>\n",
       "      <td>0.278871</td>\n",
       "      <td>0.085</td>\n",
       "      <td>No Risk</td>\n",
       "    </tr>\n",
       "    <tr>\n",
       "      <th>3</th>\n",
       "      <td>2021-05-20 00:56:55</td>\n",
       "      <td>400789</td>\n",
       "      <td>ATT</td>\n",
       "      <td>ranger sensor</td>\n",
       "      <td>13.221785</td>\n",
       "      <td>4.03</td>\n",
       "      <td>13.500656</td>\n",
       "      <td>4.115</td>\n",
       "      <td>0.278871</td>\n",
       "      <td>0.085</td>\n",
       "      <td>No Risk</td>\n",
       "    </tr>\n",
       "    <tr>\n",
       "      <th>4</th>\n",
       "      <td>2021-05-20 01:11:55</td>\n",
       "      <td>400789</td>\n",
       "      <td>ATT</td>\n",
       "      <td>ranger sensor</td>\n",
       "      <td>13.221785</td>\n",
       "      <td>4.03</td>\n",
       "      <td>13.500656</td>\n",
       "      <td>4.115</td>\n",
       "      <td>0.278871</td>\n",
       "      <td>0.085</td>\n",
       "      <td>No Risk</td>\n",
       "    </tr>\n",
       "  </tbody>\n",
       "</table>\n",
       "</div>"
      ],
      "text/plain": [
       "             datetime  Sensor_id Vendor    SensorModel  sensor_to_water_feet  \\\n",
       "0 2021-05-20 00:11:55     400789    ATT  ranger sensor             13.188976   \n",
       "1 2021-05-20 00:26:55     400789    ATT  ranger sensor             13.254593   \n",
       "2 2021-05-20 00:41:55     400789    ATT  ranger sensor             13.221785   \n",
       "3 2021-05-20 00:56:55     400789    ATT  ranger sensor             13.221785   \n",
       "4 2021-05-20 01:11:55     400789    ATT  ranger sensor             13.221785   \n",
       "\n",
       "   sensor_to_water_meters  sensor_to_ground_feet  sensor_to_ground_meters  \\\n",
       "0                    4.02              13.500656                    4.115   \n",
       "1                    4.04              13.500656                    4.115   \n",
       "2                    4.03              13.500656                    4.115   \n",
       "3                    4.03              13.500656                    4.115   \n",
       "4                    4.03              13.500656                    4.115   \n",
       "\n",
       "   flood_depth_feet  flood_depth_meters flood_alert  \n",
       "0          0.311680               0.095     No Risk  \n",
       "1          0.246063               0.075     No Risk  \n",
       "2          0.278871               0.085     No Risk  \n",
       "3          0.278871               0.085     No Risk  \n",
       "4          0.278871               0.085     No Risk  "
      ]
     },
     "execution_count": 4,
     "metadata": {},
     "output_type": "execute_result"
    }
   ],
   "source": [
    "flood.head()"
   ]
  },
  {
   "cell_type": "code",
   "execution_count": 5,
   "metadata": {},
   "outputs": [
    {
     "data": {
      "text/plain": [
       "ITRON    17834\n",
       "ATT       7559\n",
       "Name: Vendor, dtype: int64"
      ]
     },
     "execution_count": 5,
     "metadata": {},
     "output_type": "execute_result"
    }
   ],
   "source": [
    "flood.Vendor.value_counts()"
   ]
  },
  {
   "cell_type": "code",
   "execution_count": 6,
   "metadata": {},
   "outputs": [],
   "source": [
    "flood.to_csv('floodz.csv')"
   ]
  },
  {
   "cell_type": "code",
   "execution_count": null,
   "metadata": {},
   "outputs": [],
   "source": [
    "flood.sensor_to_ground_feet.value_counts()"
   ]
  },
  {
   "cell_type": "code",
   "execution_count": null,
   "metadata": {},
   "outputs": [],
   "source": [
    "flood.describe()"
   ]
  },
  {
   "cell_type": "code",
   "execution_count": null,
   "metadata": {},
   "outputs": [],
   "source": [
    "# Shape before dropping -999\n",
    "flood.shape"
   ]
  },
  {
   "cell_type": "code",
   "execution_count": null,
   "metadata": {},
   "outputs": [],
   "source": [
    "flood.flood_depth_feet"
   ]
  },
  {
   "cell_type": "code",
   "execution_count": null,
   "metadata": {},
   "outputs": [],
   "source": [
    "# drop the -999\n",
    "flood2 = flood[(flood.sensor_to_water_feet != -999)]"
   ]
  },
  {
   "cell_type": "code",
   "execution_count": null,
   "metadata": {},
   "outputs": [],
   "source": [
    "# shape after -999 drop\n",
    "flood2.shape"
   ]
  },
  {
   "cell_type": "code",
   "execution_count": null,
   "metadata": {},
   "outputs": [],
   "source": [
    "#descriptive statistics\n",
    "flood2.describe()"
   ]
  },
  {
   "cell_type": "code",
   "execution_count": null,
   "metadata": {},
   "outputs": [],
   "source": [
    "#grab full dataset while im here\n",
    "df = w.full_daily_COSA_dataframe()"
   ]
  },
  {
   "cell_type": "code",
   "execution_count": null,
   "metadata": {},
   "outputs": [],
   "source": [
    "df.head()"
   ]
  },
  {
   "cell_type": "code",
   "execution_count": null,
   "metadata": {},
   "outputs": [],
   "source": [
    "df.info()"
   ]
  },
  {
   "cell_type": "code",
   "execution_count": null,
   "metadata": {},
   "outputs": [],
   "source": []
  },
  {
   "cell_type": "code",
   "execution_count": null,
   "metadata": {},
   "outputs": [],
   "source": []
  },
  {
   "cell_type": "code",
   "execution_count": null,
   "metadata": {},
   "outputs": [],
   "source": []
  },
  {
   "cell_type": "code",
   "execution_count": null,
   "metadata": {},
   "outputs": [],
   "source": []
  },
  {
   "cell_type": "markdown",
   "metadata": {},
   "source": [
    "### Tableau Link"
   ]
  },
  {
   "cell_type": "code",
   "execution_count": null,
   "metadata": {},
   "outputs": [],
   "source": []
  }
 ],
 "metadata": {
  "kernelspec": {
   "display_name": "Python 3",
   "language": "python",
   "name": "python3"
  },
  "language_info": {
   "codemirror_mode": {
    "name": "ipython",
    "version": 3
   },
   "file_extension": ".py",
   "mimetype": "text/x-python",
   "name": "python",
   "nbconvert_exporter": "python",
   "pygments_lexer": "ipython3",
   "version": "3.8.5"
  }
 },
 "nbformat": 4,
 "nbformat_minor": 4
}
