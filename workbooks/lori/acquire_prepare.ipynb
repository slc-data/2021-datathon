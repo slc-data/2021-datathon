{
 "cells": [
  {
   "cell_type": "markdown",
   "metadata": {},
   "source": [
    "# 2021 DATATHON"
   ]
  },
  {
   "cell_type": "markdown",
   "metadata": {},
   "source": [
    "## Imports"
   ]
  },
  {
   "cell_type": "code",
   "execution_count": 5,
   "metadata": {},
   "outputs": [],
   "source": [
    "import pandas as pd\n",
    "import seaborn as sns\n"
   ]
  },
  {
   "cell_type": "markdown",
   "metadata": {},
   "source": [
    "## Acquire"
   ]
  },
  {
   "cell_type": "markdown",
   "metadata": {},
   "source": [
    "- Data was acquired from https://data.sanantonio.gov/dataset/street-light-sensor-data and turned into a pandas dataframe"
   ]
  },
  {
   "cell_type": "markdown",
   "metadata": {},
   "source": [
    "### Saws Prepare Plan"
   ]
  },
  {
   "cell_type": "markdown",
   "metadata": {},
   "source": [
    "- drop unnamed\n",
    "- drop prefic\n",
    "- drop zip\n",
    "- concatanate prefix, service location, and suffix \n",
    "- tidy the dataframe with melt\n"
   ]
  },
  {
   "cell_type": "code",
   "execution_count": null,
   "metadata": {},
   "outputs": [],
   "source": [
    "saws = pd.read_csv('med_center_saws.csv')\n"
   ]
  },
  {
   "cell_type": "code",
   "execution_count": null,
   "metadata": {},
   "outputs": [],
   "source": [
    "saws.head()"
   ]
  },
  {
   "cell_type": "code",
   "execution_count": null,
   "metadata": {},
   "outputs": [],
   "source": [
    "saws.info()"
   ]
  },
  {
   "cell_type": "code",
   "execution_count": null,
   "metadata": {},
   "outputs": [],
   "source": [
    "saws.shape\n"
   ]
  },
  {
   "cell_type": "code",
   "execution_count": null,
   "metadata": {},
   "outputs": [],
   "source": [
    "saws.isna().sum()"
   ]
  },
  {
   "cell_type": "markdown",
   "metadata": {},
   "source": [
    "### Air Prepare Plan"
   ]
  },
  {
   "cell_type": "markdown",
   "metadata": {},
   "source": [
    "- dropping latitude and longitude\n",
    "- dropping zone\n",
    "- dropping vendor\n",
    "- drop sensorstatus\n",
    "- dropping sensor id and sensor model\n",
    "- add daily total and daily average\n",
    "- convert date to datetime type "
   ]
  },
  {
   "cell_type": "code",
   "execution_count": null,
   "metadata": {},
   "outputs": [],
   "source": [
    "air = pd.read_csv('med_center_air.csv')"
   ]
  },
  {
   "cell_type": "code",
   "execution_count": null,
   "metadata": {},
   "outputs": [],
   "source": [
    "air.head()"
   ]
  },
  {
   "cell_type": "code",
   "execution_count": null,
   "metadata": {},
   "outputs": [],
   "source": [
    "air.LAT.value_counts()"
   ]
  },
  {
   "cell_type": "code",
   "execution_count": null,
   "metadata": {},
   "outputs": [],
   "source": [
    "air.Vendor.value_counts()"
   ]
  },
  {
   "cell_type": "code",
   "execution_count": null,
   "metadata": {},
   "outputs": [],
   "source": [
    "air.Sensor_id.value_counts()"
   ]
  },
  {
   "cell_type": "code",
   "execution_count": null,
   "metadata": {},
   "outputs": [],
   "source": [
    "air.info()"
   ]
  },
  {
   "cell_type": "code",
   "execution_count": null,
   "metadata": {
    "scrolled": true
   },
   "outputs": [],
   "source": [
    "air.AlertTriggered.value_counts()"
   ]
  },
  {
   "cell_type": "code",
   "execution_count": null,
   "metadata": {},
   "outputs": [],
   "source": [
    "air.SensorStatus.value_counts()"
   ]
  },
  {
   "cell_type": "markdown",
   "metadata": {},
   "source": [
    "### Flood Prepare Plan"
   ]
  },
  {
   "cell_type": "markdown",
   "metadata": {},
   "source": [
    "- drop AlertTriggered\n",
    "- drop SensorStatus\n",
    "- drop lat and long\n",
    "- drop Sensor_id\n",
    "- drop SensorModel"
   ]
  },
  {
   "cell_type": "code",
   "execution_count": null,
   "metadata": {},
   "outputs": [],
   "source": [
    "flood = pd.read_csv('med_center_flood.csv')"
   ]
  },
  {
   "cell_type": "code",
   "execution_count": null,
   "metadata": {},
   "outputs": [],
   "source": [
    "flood.head()"
   ]
  },
  {
   "cell_type": "code",
   "execution_count": null,
   "metadata": {},
   "outputs": [],
   "source": [
    "flood.Sensor_id.value_counts()\n"
   ]
  },
  {
   "cell_type": "code",
   "execution_count": null,
   "metadata": {},
   "outputs": [],
   "source": [
    "flood.AlertTriggered.value_counts()"
   ]
  },
  {
   "cell_type": "code",
   "execution_count": null,
   "metadata": {},
   "outputs": [],
   "source": [
    "flood.shape"
   ]
  },
  {
   "cell_type": "code",
   "execution_count": null,
   "metadata": {},
   "outputs": [],
   "source": [
    "flood.Sensor_id.value_counts()"
   ]
  },
  {
   "cell_type": "code",
   "execution_count": null,
   "metadata": {},
   "outputs": [],
   "source": [
    "flood.SensorModel.value_counts()"
   ]
  },
  {
   "cell_type": "markdown",
   "metadata": {},
   "source": [
    "### Sound Prepare Plan"
   ]
  },
  {
   "cell_type": "markdown",
   "metadata": {},
   "source": [
    "- drop lat and long\n",
    "- drop sensor id\n",
    "- drop vendor\n",
    "- drop AlertTriggered\n",
    "- drop SensorStatus"
   ]
  },
  {
   "cell_type": "code",
   "execution_count": null,
   "metadata": {},
   "outputs": [],
   "source": [
    "sound = pd.read_csv('med_center_sound.csv')"
   ]
  },
  {
   "cell_type": "code",
   "execution_count": null,
   "metadata": {},
   "outputs": [],
   "source": [
    "sound.head()"
   ]
  },
  {
   "cell_type": "code",
   "execution_count": null,
   "metadata": {},
   "outputs": [],
   "source": [
    "sound.Vendor.value_counts()"
   ]
  },
  {
   "cell_type": "code",
   "execution_count": null,
   "metadata": {},
   "outputs": [],
   "source": [
    "sound.Sensor_id.value_counts()"
   ]
  },
  {
   "cell_type": "code",
   "execution_count": null,
   "metadata": {},
   "outputs": [],
   "source": [
    "sound.AlertTriggered.value_counts()"
   ]
  },
  {
   "cell_type": "code",
   "execution_count": null,
   "metadata": {},
   "outputs": [],
   "source": [
    "sound.SensorStatus.value_counts()"
   ]
  },
  {
   "cell_type": "code",
   "execution_count": null,
   "metadata": {},
   "outputs": [],
   "source": [
    "sound.info()"
   ]
  },
  {
   "cell_type": "markdown",
   "metadata": {},
   "source": [
    "### Weather Prepare Plan"
   ]
  },
  {
   "cell_type": "markdown",
   "metadata": {},
   "source": [
    "- drop lat and long\n",
    "- drop zone\n",
    "- drop sensor id\n",
    "- drop sensormodel\n",
    "- drop vendor"
   ]
  },
  {
   "cell_type": "code",
   "execution_count": null,
   "metadata": {},
   "outputs": [],
   "source": [
    "weather = pd.read_csv('med_center_weather.csv')"
   ]
  },
  {
   "cell_type": "code",
   "execution_count": null,
   "metadata": {},
   "outputs": [],
   "source": [
    "weather.head()"
   ]
  },
  {
   "cell_type": "code",
   "execution_count": null,
   "metadata": {},
   "outputs": [],
   "source": [
    "weather.info()\n"
   ]
  },
  {
   "cell_type": "code",
   "execution_count": null,
   "metadata": {},
   "outputs": [],
   "source": [
    "weather.Sensor_id.value_counts()"
   ]
  },
  {
   "cell_type": "code",
   "execution_count": null,
   "metadata": {},
   "outputs": [],
   "source": [
    "weather.SensorModel.value_counts()"
   ]
  },
  {
   "cell_type": "code",
   "execution_count": null,
   "metadata": {},
   "outputs": [],
   "source": [
    "weather.Vendor.value_counts()"
   ]
  },
  {
   "cell_type": "code",
   "execution_count": null,
   "metadata": {},
   "outputs": [],
   "source": [
    "weather.AlertTriggered.value_counts()"
   ]
  },
  {
   "cell_type": "code",
   "execution_count": null,
   "metadata": {},
   "outputs": [],
   "source": [
    "weather.SensorStatus.value_counts()"
   ]
  },
  {
   "cell_type": "markdown",
   "metadata": {},
   "source": [
    "#### Weather Prepare"
   ]
  },
  {
   "cell_type": "code",
   "execution_count": null,
   "metadata": {
    "scrolled": true
   },
   "outputs": [],
   "source": [
    "# Drop columns we will not be using\n",
    "weather.drop(columns=[\n",
    "    'Sensor_id', \n",
    "    'Vendor', \n",
    "    'SensorModel', \n",
    "    'LAT', \n",
    "    'LONG', \n",
    "    'Zone', \n",
    "    'AlertTriggered', \n",
    "    'SensorStatus'], inplace=True)\n",
    "\n"
   ]
  },
  {
   "cell_type": "code",
   "execution_count": null,
   "metadata": {},
   "outputs": [],
   "source": [
    "# Ensure drop took place\n",
    "weather.head()"
   ]
  },
  {
   "cell_type": "code",
   "execution_count": null,
   "metadata": {},
   "outputs": [],
   "source": [
    "# Check the nulls\n",
    "weather.isna().sum()"
   ]
  },
  {
   "cell_type": "code",
   "execution_count": null,
   "metadata": {},
   "outputs": [],
   "source": [
    "# Change DateTime to datetime datatype\n",
    "weather.DateTime = pd.to_datetime(weather.DateTime)"
   ]
  },
  {
   "cell_type": "code",
   "execution_count": null,
   "metadata": {},
   "outputs": [],
   "source": [
    "weather.info()"
   ]
  },
  {
   "cell_type": "code",
   "execution_count": null,
   "metadata": {},
   "outputs": [],
   "source": [
    "#Rename columns\n",
    "weather = weather.rename(columns={\"DateTime\": \"datetime\", \n",
    "                            \"Temp_C\": \"celsius\", \n",
    "                            \"Temp_F\": \"farenheit\", \n",
    "                            \"Humidity\": \"humidity\",\n",
    "                            \"DewPoint_C\": \"dewpoint_celsius\",\n",
    "                            \"DewPoint_F\": \"dewpoint_farenheit\",\n",
    "                            \"Pressure_Pa\": \"pressure\"})"
   ]
  },
  {
   "cell_type": "code",
   "execution_count": null,
   "metadata": {},
   "outputs": [],
   "source": [
    "weather.shape"
   ]
  },
  {
   "cell_type": "code",
   "execution_count": null,
   "metadata": {},
   "outputs": [],
   "source": [
    "weather.head()"
   ]
  },
  {
   "cell_type": "markdown",
   "metadata": {},
   "source": [
    "#### Weather Wrangle\n"
   ]
  },
  {
   "cell_type": "code",
   "execution_count": 6,
   "metadata": {},
   "outputs": [],
   "source": [
    "# Function to perform all preparation for weather data\n",
    "\n",
    "def wrangle_weather():\n",
    "    #read csv and turn into pandas dataframe\n",
    "    weather = pd.read_csv('med_center_weather.csv')\n",
    "    #drop columns we will not be using\n",
    "    weather.drop(columns=[\n",
    "    'Sensor_id', \n",
    "    'Vendor', \n",
    "    'SensorModel', \n",
    "    'LAT', \n",
    "    'LONG', \n",
    "    'Zone', \n",
    "    'AlertTriggered', \n",
    "    'SensorStatus'], inplace=True)\n",
    "    #change datetime to pandas datetime object\n",
    "    weather.DateTime = pd.to_datetime(weather.DateTime)\n",
    "    #rename columns to be more readable\n",
    "    weather = weather.rename(columns={\"DateTime\": \"datetime\", \n",
    "                            \"Temp_C\": \"celsius\", \n",
    "                            \"Temp_F\": \"farenheit\", \n",
    "                            \"Humidity\": \"humidity\",\n",
    "                            \"DewPoint_C\": \"dewpoint_celsius\",\n",
    "                            \"DewPoint_F\": \"dewpoint_farenheit\",\n",
    "                            \"Pressure_Pa\": \"pressure\"})\n",
    "    #return clean weather df\n",
    "    return weather\n"
   ]
  },
  {
   "cell_type": "code",
   "execution_count": 7,
   "metadata": {},
   "outputs": [],
   "source": [
    "weather = wrangle_weather()"
   ]
  },
  {
   "cell_type": "code",
   "execution_count": 8,
   "metadata": {},
   "outputs": [
    {
     "data": {
      "text/html": [
       "<div>\n",
       "<style scoped>\n",
       "    .dataframe tbody tr th:only-of-type {\n",
       "        vertical-align: middle;\n",
       "    }\n",
       "\n",
       "    .dataframe tbody tr th {\n",
       "        vertical-align: top;\n",
       "    }\n",
       "\n",
       "    .dataframe thead th {\n",
       "        text-align: right;\n",
       "    }\n",
       "</style>\n",
       "<table border=\"1\" class=\"dataframe\">\n",
       "  <thead>\n",
       "    <tr style=\"text-align: right;\">\n",
       "      <th></th>\n",
       "      <th>datetime</th>\n",
       "      <th>celsius</th>\n",
       "      <th>farenheit</th>\n",
       "      <th>humidity</th>\n",
       "      <th>dewpoint_celsius</th>\n",
       "      <th>dewpoint_farenheit</th>\n",
       "      <th>pressure</th>\n",
       "    </tr>\n",
       "  </thead>\n",
       "  <tbody>\n",
       "    <tr>\n",
       "      <th>0</th>\n",
       "      <td>2021-05-16 00:01:26</td>\n",
       "      <td>21</td>\n",
       "      <td>71</td>\n",
       "      <td>88</td>\n",
       "      <td>18.934569</td>\n",
       "      <td>66.082224</td>\n",
       "      <td>979</td>\n",
       "    </tr>\n",
       "    <tr>\n",
       "      <th>1</th>\n",
       "      <td>2021-05-16 00:04:26</td>\n",
       "      <td>21</td>\n",
       "      <td>71</td>\n",
       "      <td>88</td>\n",
       "      <td>18.934569</td>\n",
       "      <td>66.082224</td>\n",
       "      <td>979</td>\n",
       "    </tr>\n",
       "    <tr>\n",
       "      <th>2</th>\n",
       "      <td>2021-05-16 00:07:26</td>\n",
       "      <td>21</td>\n",
       "      <td>71</td>\n",
       "      <td>88</td>\n",
       "      <td>18.934569</td>\n",
       "      <td>66.082224</td>\n",
       "      <td>979</td>\n",
       "    </tr>\n",
       "    <tr>\n",
       "      <th>3</th>\n",
       "      <td>2021-05-16 00:10:26</td>\n",
       "      <td>21</td>\n",
       "      <td>71</td>\n",
       "      <td>88</td>\n",
       "      <td>18.934569</td>\n",
       "      <td>66.082224</td>\n",
       "      <td>979</td>\n",
       "    </tr>\n",
       "    <tr>\n",
       "      <th>4</th>\n",
       "      <td>2021-05-16 00:13:26</td>\n",
       "      <td>21</td>\n",
       "      <td>71</td>\n",
       "      <td>88</td>\n",
       "      <td>18.934569</td>\n",
       "      <td>66.082224</td>\n",
       "      <td>979</td>\n",
       "    </tr>\n",
       "  </tbody>\n",
       "</table>\n",
       "</div>"
      ],
      "text/plain": [
       "             datetime  celsius  farenheit  humidity  dewpoint_celsius  \\\n",
       "0 2021-05-16 00:01:26       21         71        88         18.934569   \n",
       "1 2021-05-16 00:04:26       21         71        88         18.934569   \n",
       "2 2021-05-16 00:07:26       21         71        88         18.934569   \n",
       "3 2021-05-16 00:10:26       21         71        88         18.934569   \n",
       "4 2021-05-16 00:13:26       21         71        88         18.934569   \n",
       "\n",
       "   dewpoint_farenheit  pressure  \n",
       "0           66.082224       979  \n",
       "1           66.082224       979  \n",
       "2           66.082224       979  \n",
       "3           66.082224       979  \n",
       "4           66.082224       979  "
      ]
     },
     "execution_count": 8,
     "metadata": {},
     "output_type": "execute_result"
    }
   ],
   "source": [
    "weather.head()"
   ]
  },
  {
   "cell_type": "code",
   "execution_count": null,
   "metadata": {},
   "outputs": [],
   "source": []
  }
 ],
 "metadata": {
  "kernelspec": {
   "display_name": "Python 3",
   "language": "python",
   "name": "python3"
  },
  "language_info": {
   "codemirror_mode": {
    "name": "ipython",
    "version": 3
   },
   "file_extension": ".py",
   "mimetype": "text/x-python",
   "name": "python",
   "nbconvert_exporter": "python",
   "pygments_lexer": "ipython3",
   "version": "3.8.5"
  }
 },
 "nbformat": 4,
 "nbformat_minor": 4
}
