{
 "cells": [
  {
   "cell_type": "markdown",
   "metadata": {},
   "source": [
    "# 2021 DATATHON"
   ]
  },
  {
   "cell_type": "markdown",
   "metadata": {},
   "source": [
    "## Imports"
   ]
  },
  {
   "cell_type": "code",
   "execution_count": 11,
   "metadata": {},
   "outputs": [],
   "source": [
    "import pandas as pd\n",
    "import seaborn as sns\n"
   ]
  },
  {
   "cell_type": "markdown",
   "metadata": {},
   "source": [
    "## Acquire"
   ]
  },
  {
   "cell_type": "markdown",
   "metadata": {},
   "source": [
    "- Data was acquired from https://data.sanantonio.gov/dataset/street-light-sensor-data and turned into a pandas dataframe"
   ]
  },
  {
   "cell_type": "markdown",
   "metadata": {},
   "source": [
    "### Saws Prepare Plan"
   ]
  },
  {
   "cell_type": "markdown",
   "metadata": {},
   "source": [
    "- drop unnamed\n",
    "- drop prefic\n",
    "- drop zip\n",
    "- concatanate prefix, service location, and suffix \n",
    "- tidy the dataframe with melt\n"
   ]
  },
  {
   "cell_type": "code",
   "execution_count": 12,
   "metadata": {},
   "outputs": [],
   "source": [
    "saws = pd.read_csv('med_center_saws.csv')\n"
   ]
  },
  {
   "cell_type": "code",
   "execution_count": 13,
   "metadata": {},
   "outputs": [
    {
     "data": {
      "text/html": [
       "<div>\n",
       "<style scoped>\n",
       "    .dataframe tbody tr th:only-of-type {\n",
       "        vertical-align: middle;\n",
       "    }\n",
       "\n",
       "    .dataframe tbody tr th {\n",
       "        vertical-align: top;\n",
       "    }\n",
       "\n",
       "    .dataframe thead th {\n",
       "        text-align: right;\n",
       "    }\n",
       "</style>\n",
       "<table border=\"1\" class=\"dataframe\">\n",
       "  <thead>\n",
       "    <tr style=\"text-align: right;\">\n",
       "      <th></th>\n",
       "      <th>Unnamed: 0</th>\n",
       "      <th>Record #</th>\n",
       "      <th>Prefix</th>\n",
       "      <th>Service Location</th>\n",
       "      <th>Suffix</th>\n",
       "      <th>ZIP Code</th>\n",
       "      <th>17-JAN</th>\n",
       "      <th>17-FEB</th>\n",
       "      <th>17-MAR</th>\n",
       "      <th>17-APR</th>\n",
       "      <th>...</th>\n",
       "      <th>20-MAR</th>\n",
       "      <th>20-APR</th>\n",
       "      <th>20-MAY</th>\n",
       "      <th>20-JUN</th>\n",
       "      <th>20-JUL</th>\n",
       "      <th>20-AUG</th>\n",
       "      <th>20-SEP</th>\n",
       "      <th>20-OCT</th>\n",
       "      <th>20-NOV</th>\n",
       "      <th>20-DEC</th>\n",
       "    </tr>\n",
       "  </thead>\n",
       "  <tbody>\n",
       "    <tr>\n",
       "      <th>0</th>\n",
       "      <td>671</td>\n",
       "      <td>274262</td>\n",
       "      <td>NaN</td>\n",
       "      <td>ACCOLON</td>\n",
       "      <td>DR</td>\n",
       "      <td>78229</td>\n",
       "      <td>6733</td>\n",
       "      <td>6733</td>\n",
       "      <td>6733</td>\n",
       "      <td>7481</td>\n",
       "      <td>...</td>\n",
       "      <td>3740</td>\n",
       "      <td>5237</td>\n",
       "      <td>5985</td>\n",
       "      <td>5237</td>\n",
       "      <td>4489</td>\n",
       "      <td>13466</td>\n",
       "      <td>5985</td>\n",
       "      <td>5237</td>\n",
       "      <td>5237</td>\n",
       "      <td>5237</td>\n",
       "    </tr>\n",
       "    <tr>\n",
       "      <th>1</th>\n",
       "      <td>672</td>\n",
       "      <td>274263</td>\n",
       "      <td>NaN</td>\n",
       "      <td>ACCOLON</td>\n",
       "      <td>DR</td>\n",
       "      <td>78229</td>\n",
       "      <td>5237</td>\n",
       "      <td>5237</td>\n",
       "      <td>5985</td>\n",
       "      <td>5985</td>\n",
       "      <td>...</td>\n",
       "      <td>3740</td>\n",
       "      <td>4489</td>\n",
       "      <td>3740</td>\n",
       "      <td>5237</td>\n",
       "      <td>3740</td>\n",
       "      <td>4489</td>\n",
       "      <td>11222</td>\n",
       "      <td>7481</td>\n",
       "      <td>4489</td>\n",
       "      <td>8229</td>\n",
       "    </tr>\n",
       "    <tr>\n",
       "      <th>2</th>\n",
       "      <td>673</td>\n",
       "      <td>274264</td>\n",
       "      <td>NaN</td>\n",
       "      <td>ACCOLON</td>\n",
       "      <td>DR</td>\n",
       "      <td>78229</td>\n",
       "      <td>2992</td>\n",
       "      <td>2992</td>\n",
       "      <td>2244</td>\n",
       "      <td>3740</td>\n",
       "      <td>...</td>\n",
       "      <td>3740</td>\n",
       "      <td>2992</td>\n",
       "      <td>2992</td>\n",
       "      <td>2992</td>\n",
       "      <td>2244</td>\n",
       "      <td>2992</td>\n",
       "      <td>1496</td>\n",
       "      <td>*</td>\n",
       "      <td>NaN</td>\n",
       "      <td>NaN</td>\n",
       "    </tr>\n",
       "    <tr>\n",
       "      <th>3</th>\n",
       "      <td>674</td>\n",
       "      <td>274265</td>\n",
       "      <td>NaN</td>\n",
       "      <td>ACCOLON</td>\n",
       "      <td>DR</td>\n",
       "      <td>78229</td>\n",
       "      <td>0</td>\n",
       "      <td>NaN</td>\n",
       "      <td>NaN</td>\n",
       "      <td>NaN</td>\n",
       "      <td>...</td>\n",
       "      <td>NaN</td>\n",
       "      <td>NaN</td>\n",
       "      <td>NaN</td>\n",
       "      <td>NaN</td>\n",
       "      <td>NaN</td>\n",
       "      <td>NaN</td>\n",
       "      <td>NaN</td>\n",
       "      <td>NaN</td>\n",
       "      <td>NaN</td>\n",
       "      <td>NaN</td>\n",
       "    </tr>\n",
       "    <tr>\n",
       "      <th>4</th>\n",
       "      <td>675</td>\n",
       "      <td>274266</td>\n",
       "      <td>NaN</td>\n",
       "      <td>ACCOLON</td>\n",
       "      <td>DR</td>\n",
       "      <td>78229</td>\n",
       "      <td>4489</td>\n",
       "      <td>4489</td>\n",
       "      <td>3740</td>\n",
       "      <td>4489</td>\n",
       "      <td>...</td>\n",
       "      <td>4489</td>\n",
       "      <td>4489</td>\n",
       "      <td>8229</td>\n",
       "      <td>8977</td>\n",
       "      <td>5237</td>\n",
       "      <td>8229</td>\n",
       "      <td>8977</td>\n",
       "      <td>8977</td>\n",
       "      <td>8229</td>\n",
       "      <td>5237</td>\n",
       "    </tr>\n",
       "  </tbody>\n",
       "</table>\n",
       "<p>5 rows × 54 columns</p>\n",
       "</div>"
      ],
      "text/plain": [
       "   Unnamed: 0  Record # Prefix Service Location Suffix  ZIP Code 17-JAN  \\\n",
       "0         671    274262    NaN          ACCOLON     DR     78229   6733   \n",
       "1         672    274263    NaN          ACCOLON     DR     78229   5237   \n",
       "2         673    274264    NaN          ACCOLON     DR     78229   2992   \n",
       "3         674    274265    NaN          ACCOLON     DR     78229      0   \n",
       "4         675    274266    NaN          ACCOLON     DR     78229   4489   \n",
       "\n",
       "  17-FEB 17-MAR 17-APR  ... 20-MAR 20-APR 20-MAY 20-JUN 20-JUL 20-AUG 20-SEP  \\\n",
       "0   6733   6733   7481  ...   3740   5237   5985   5237   4489  13466   5985   \n",
       "1   5237   5985   5985  ...   3740   4489   3740   5237   3740   4489  11222   \n",
       "2   2992   2244   3740  ...   3740   2992   2992   2992   2244   2992   1496   \n",
       "3    NaN    NaN    NaN  ...    NaN    NaN    NaN    NaN    NaN    NaN    NaN   \n",
       "4   4489   3740   4489  ...   4489   4489   8229   8977   5237   8229   8977   \n",
       "\n",
       "  20-OCT 20-NOV 20-DEC  \n",
       "0   5237   5237   5237  \n",
       "1   7481   4489   8229  \n",
       "2      *    NaN    NaN  \n",
       "3    NaN    NaN    NaN  \n",
       "4   8977   8229   5237  \n",
       "\n",
       "[5 rows x 54 columns]"
      ]
     },
     "execution_count": 13,
     "metadata": {},
     "output_type": "execute_result"
    }
   ],
   "source": [
    "saws.head()"
   ]
  },
  {
   "cell_type": "code",
   "execution_count": 14,
   "metadata": {},
   "outputs": [
    {
     "name": "stdout",
     "output_type": "stream",
     "text": [
      "<class 'pandas.core.frame.DataFrame'>\n",
      "RangeIndex: 3037 entries, 0 to 3036\n",
      "Data columns (total 54 columns):\n",
      " #   Column            Non-Null Count  Dtype \n",
      "---  ------            --------------  ----- \n",
      " 0   Unnamed: 0        3037 non-null   int64 \n",
      " 1   Record #          3037 non-null   int64 \n",
      " 2   Prefix            185 non-null    object\n",
      " 3   Service Location  3037 non-null   object\n",
      " 4   Suffix            1365 non-null   object\n",
      " 5   ZIP Code          3037 non-null   int64 \n",
      " 6   17-JAN            1873 non-null   object\n",
      " 7   17-FEB            1861 non-null   object\n",
      " 8   17-MAR            1870 non-null   object\n",
      " 9   17-APR            1868 non-null   object\n",
      " 10  17-MAY            1870 non-null   object\n",
      " 11  17-JUN            1862 non-null   object\n",
      " 12  17-JUL            1868 non-null   object\n",
      " 13  17-AUG            1871 non-null   object\n",
      " 14  17-SEP            1870 non-null   object\n",
      " 15  17-OCT            1866 non-null   object\n",
      " 16  17-NOV            1872 non-null   object\n",
      " 17  17-DEC            1870 non-null   object\n",
      " 18  18-JAN            1868 non-null   object\n",
      " 19  18-FEB            1866 non-null   object\n",
      " 20  18-MAR            1872 non-null   object\n",
      " 21  18-APR            1871 non-null   object\n",
      " 22  18-MAY            1869 non-null   object\n",
      " 23  18-JUN            1875 non-null   object\n",
      " 24  18-JUL            1863 non-null   object\n",
      " 25  18-AUG            1860 non-null   object\n",
      " 26  18-SEP            1872 non-null   object\n",
      " 27  18-OCT            1865 non-null   object\n",
      " 28  18-NOV            1869 non-null   object\n",
      " 29  18-DEC            1870 non-null   object\n",
      " 30  19-JAN            1866 non-null   object\n",
      " 31  19-FEB            1868 non-null   object\n",
      " 32  19-MAR            1870 non-null   object\n",
      " 33  19-APR            1871 non-null   object\n",
      " 34  19-MAY            1872 non-null   object\n",
      " 35  19-JUN            1874 non-null   object\n",
      " 36  19-JUL            1873 non-null   object\n",
      " 37  19-AUG            1866 non-null   object\n",
      " 38  19-SEP            1872 non-null   object\n",
      " 39  19-OCT            1875 non-null   object\n",
      " 40  19-NOV            1870 non-null   object\n",
      " 41  19-DEC            1877 non-null   object\n",
      " 42  20-JAN            1874 non-null   object\n",
      " 43  20-FEB            1882 non-null   object\n",
      " 44  20-MAR            1877 non-null   object\n",
      " 45  20-APR            1885 non-null   object\n",
      " 46  20-MAY            1878 non-null   object\n",
      " 47  20-JUN            1881 non-null   object\n",
      " 48  20-JUL            1877 non-null   object\n",
      " 49  20-AUG            1870 non-null   object\n",
      " 50  20-SEP            1876 non-null   object\n",
      " 51  20-OCT            1882 non-null   object\n",
      " 52  20-NOV            1876 non-null   object\n",
      " 53  20-DEC            1883 non-null   object\n",
      "dtypes: int64(3), object(51)\n",
      "memory usage: 1.3+ MB\n"
     ]
    }
   ],
   "source": [
    "saws.info()"
   ]
  },
  {
   "cell_type": "code",
   "execution_count": 15,
   "metadata": {},
   "outputs": [
    {
     "data": {
      "text/plain": [
       "(3037, 54)"
      ]
     },
     "execution_count": 15,
     "metadata": {},
     "output_type": "execute_result"
    }
   ],
   "source": [
    "saws.shape\n"
   ]
  },
  {
   "cell_type": "code",
   "execution_count": 16,
   "metadata": {},
   "outputs": [
    {
     "data": {
      "text/plain": [
       "Unnamed: 0             0\n",
       "Record #               0\n",
       "Prefix              2852\n",
       "Service Location       0\n",
       "Suffix              1672\n",
       "ZIP Code               0\n",
       "17-JAN              1164\n",
       "17-FEB              1176\n",
       "17-MAR              1167\n",
       "17-APR              1169\n",
       "17-MAY              1167\n",
       "17-JUN              1175\n",
       "17-JUL              1169\n",
       "17-AUG              1166\n",
       "17-SEP              1167\n",
       "17-OCT              1171\n",
       "17-NOV              1165\n",
       "17-DEC              1167\n",
       "18-JAN              1169\n",
       "18-FEB              1171\n",
       "18-MAR              1165\n",
       "18-APR              1166\n",
       "18-MAY              1168\n",
       "18-JUN              1162\n",
       "18-JUL              1174\n",
       "18-AUG              1177\n",
       "18-SEP              1165\n",
       "18-OCT              1172\n",
       "18-NOV              1168\n",
       "18-DEC              1167\n",
       "19-JAN              1171\n",
       "19-FEB              1169\n",
       "19-MAR              1167\n",
       "19-APR              1166\n",
       "19-MAY              1165\n",
       "19-JUN              1163\n",
       "19-JUL              1164\n",
       "19-AUG              1171\n",
       "19-SEP              1165\n",
       "19-OCT              1162\n",
       "19-NOV              1167\n",
       "19-DEC              1160\n",
       "20-JAN              1163\n",
       "20-FEB              1155\n",
       "20-MAR              1160\n",
       "20-APR              1152\n",
       "20-MAY              1159\n",
       "20-JUN              1156\n",
       "20-JUL              1160\n",
       "20-AUG              1167\n",
       "20-SEP              1161\n",
       "20-OCT              1155\n",
       "20-NOV              1161\n",
       "20-DEC              1154\n",
       "dtype: int64"
      ]
     },
     "execution_count": 16,
     "metadata": {},
     "output_type": "execute_result"
    }
   ],
   "source": [
    "saws.isna().sum()"
   ]
  },
  {
   "cell_type": "markdown",
   "metadata": {},
   "source": [
    "### Air Prepare Plan"
   ]
  },
  {
   "cell_type": "markdown",
   "metadata": {},
   "source": [
    "- dropping latitude and longitude\n",
    "- dropping zone\n",
    "- dropping vendor\n",
    "- drop sensorstatus\n",
    "- dropping sensor id and sensor model\n",
    "- add daily total and daily average\n",
    "- convert date to datetime type "
   ]
  },
  {
   "cell_type": "code",
   "execution_count": 17,
   "metadata": {},
   "outputs": [],
   "source": [
    "air = pd.read_csv('med_center_air.csv')"
   ]
  },
  {
   "cell_type": "code",
   "execution_count": 18,
   "metadata": {},
   "outputs": [
    {
     "data": {
      "text/html": [
       "<div>\n",
       "<style scoped>\n",
       "    .dataframe tbody tr th:only-of-type {\n",
       "        vertical-align: middle;\n",
       "    }\n",
       "\n",
       "    .dataframe tbody tr th {\n",
       "        vertical-align: top;\n",
       "    }\n",
       "\n",
       "    .dataframe thead th {\n",
       "        text-align: right;\n",
       "    }\n",
       "</style>\n",
       "<table border=\"1\" class=\"dataframe\">\n",
       "  <thead>\n",
       "    <tr style=\"text-align: right;\">\n",
       "      <th></th>\n",
       "      <th>DateTime</th>\n",
       "      <th>Sensor_id</th>\n",
       "      <th>Vendor</th>\n",
       "      <th>SensorModel</th>\n",
       "      <th>LAT</th>\n",
       "      <th>LONG</th>\n",
       "      <th>Zone</th>\n",
       "      <th>Pm1_0</th>\n",
       "      <th>Pm2_5</th>\n",
       "      <th>Pm10</th>\n",
       "      <th>SO2</th>\n",
       "      <th>O3</th>\n",
       "      <th>CO</th>\n",
       "      <th>NO2</th>\n",
       "      <th>AlertTriggered</th>\n",
       "      <th>SensorStatus</th>\n",
       "    </tr>\n",
       "  </thead>\n",
       "  <tbody>\n",
       "    <tr>\n",
       "      <th>0</th>\n",
       "      <td>2021-05-16T00:01:26</td>\n",
       "      <td>63e0b0eae3495a39</td>\n",
       "      <td>ATT</td>\n",
       "      <td>AQM-01-00-01-00-01-00-GY</td>\n",
       "      <td>29.51007</td>\n",
       "      <td>-98.580288</td>\n",
       "      <td>Medical Center</td>\n",
       "      <td>8</td>\n",
       "      <td>7</td>\n",
       "      <td>8</td>\n",
       "      <td>0</td>\n",
       "      <td>0</td>\n",
       "      <td>0</td>\n",
       "      <td>0</td>\n",
       "      <td>None</td>\n",
       "      <td>Normal</td>\n",
       "    </tr>\n",
       "    <tr>\n",
       "      <th>1</th>\n",
       "      <td>2021-05-16T00:04:26</td>\n",
       "      <td>63e0b0eae3495a39</td>\n",
       "      <td>ATT</td>\n",
       "      <td>AQM-01-00-01-00-01-00-GY</td>\n",
       "      <td>29.51007</td>\n",
       "      <td>-98.580288</td>\n",
       "      <td>Medical Center</td>\n",
       "      <td>8</td>\n",
       "      <td>7</td>\n",
       "      <td>8</td>\n",
       "      <td>0</td>\n",
       "      <td>0</td>\n",
       "      <td>0</td>\n",
       "      <td>0</td>\n",
       "      <td>None</td>\n",
       "      <td>Normal</td>\n",
       "    </tr>\n",
       "    <tr>\n",
       "      <th>2</th>\n",
       "      <td>2021-05-16T00:07:26</td>\n",
       "      <td>63e0b0eae3495a39</td>\n",
       "      <td>ATT</td>\n",
       "      <td>AQM-01-00-01-00-01-00-GY</td>\n",
       "      <td>29.51007</td>\n",
       "      <td>-98.580288</td>\n",
       "      <td>Medical Center</td>\n",
       "      <td>8</td>\n",
       "      <td>7</td>\n",
       "      <td>8</td>\n",
       "      <td>0</td>\n",
       "      <td>0</td>\n",
       "      <td>0</td>\n",
       "      <td>0</td>\n",
       "      <td>None</td>\n",
       "      <td>Normal</td>\n",
       "    </tr>\n",
       "    <tr>\n",
       "      <th>3</th>\n",
       "      <td>2021-05-16T00:10:26</td>\n",
       "      <td>63e0b0eae3495a39</td>\n",
       "      <td>ATT</td>\n",
       "      <td>AQM-01-00-01-00-01-00-GY</td>\n",
       "      <td>29.51007</td>\n",
       "      <td>-98.580288</td>\n",
       "      <td>Medical Center</td>\n",
       "      <td>8</td>\n",
       "      <td>7</td>\n",
       "      <td>8</td>\n",
       "      <td>0</td>\n",
       "      <td>0</td>\n",
       "      <td>0</td>\n",
       "      <td>0</td>\n",
       "      <td>None</td>\n",
       "      <td>Normal</td>\n",
       "    </tr>\n",
       "    <tr>\n",
       "      <th>4</th>\n",
       "      <td>2021-05-16T00:13:26</td>\n",
       "      <td>63e0b0eae3495a39</td>\n",
       "      <td>ATT</td>\n",
       "      <td>AQM-01-00-01-00-01-00-GY</td>\n",
       "      <td>29.51007</td>\n",
       "      <td>-98.580288</td>\n",
       "      <td>Medical Center</td>\n",
       "      <td>8</td>\n",
       "      <td>7</td>\n",
       "      <td>8</td>\n",
       "      <td>0</td>\n",
       "      <td>0</td>\n",
       "      <td>0</td>\n",
       "      <td>0</td>\n",
       "      <td>None</td>\n",
       "      <td>Normal</td>\n",
       "    </tr>\n",
       "  </tbody>\n",
       "</table>\n",
       "</div>"
      ],
      "text/plain": [
       "              DateTime         Sensor_id Vendor               SensorModel  \\\n",
       "0  2021-05-16T00:01:26  63e0b0eae3495a39    ATT  AQM-01-00-01-00-01-00-GY   \n",
       "1  2021-05-16T00:04:26  63e0b0eae3495a39    ATT  AQM-01-00-01-00-01-00-GY   \n",
       "2  2021-05-16T00:07:26  63e0b0eae3495a39    ATT  AQM-01-00-01-00-01-00-GY   \n",
       "3  2021-05-16T00:10:26  63e0b0eae3495a39    ATT  AQM-01-00-01-00-01-00-GY   \n",
       "4  2021-05-16T00:13:26  63e0b0eae3495a39    ATT  AQM-01-00-01-00-01-00-GY   \n",
       "\n",
       "        LAT       LONG            Zone  Pm1_0  Pm2_5  Pm10  SO2  O3  CO  NO2  \\\n",
       "0  29.51007 -98.580288  Medical Center      8      7     8    0   0   0    0   \n",
       "1  29.51007 -98.580288  Medical Center      8      7     8    0   0   0    0   \n",
       "2  29.51007 -98.580288  Medical Center      8      7     8    0   0   0    0   \n",
       "3  29.51007 -98.580288  Medical Center      8      7     8    0   0   0    0   \n",
       "4  29.51007 -98.580288  Medical Center      8      7     8    0   0   0    0   \n",
       "\n",
       "  AlertTriggered SensorStatus  \n",
       "0           None       Normal  \n",
       "1           None       Normal  \n",
       "2           None       Normal  \n",
       "3           None       Normal  \n",
       "4           None       Normal  "
      ]
     },
     "execution_count": 18,
     "metadata": {},
     "output_type": "execute_result"
    }
   ],
   "source": [
    "air.head()"
   ]
  },
  {
   "cell_type": "code",
   "execution_count": 19,
   "metadata": {},
   "outputs": [
    {
     "data": {
      "text/plain": [
       "29.50790    5874\n",
       "29.50752    5873\n",
       "29.51007    5872\n",
       "29.50484    5760\n",
       "Name: LAT, dtype: int64"
      ]
     },
     "execution_count": 19,
     "metadata": {},
     "output_type": "execute_result"
    }
   ],
   "source": [
    "air.LAT.value_counts()"
   ]
  },
  {
   "cell_type": "code",
   "execution_count": 20,
   "metadata": {},
   "outputs": [
    {
     "data": {
      "text/plain": [
       "ATT      17619\n",
       "ITRON     5760\n",
       "Name: Vendor, dtype: int64"
      ]
     },
     "execution_count": 20,
     "metadata": {},
     "output_type": "execute_result"
    }
   ],
   "source": [
    "air.Vendor.value_counts()"
   ]
  },
  {
   "cell_type": "code",
   "execution_count": 21,
   "metadata": {},
   "outputs": [
    {
     "data": {
      "text/plain": [
       "7b48389537e7a6c7    5874\n",
       "6dee283d397b9803    5873\n",
       "63e0b0eae3495a39    5872\n",
       "70463               5760\n",
       "Name: Sensor_id, dtype: int64"
      ]
     },
     "execution_count": 21,
     "metadata": {},
     "output_type": "execute_result"
    }
   ],
   "source": [
    "air.Sensor_id.value_counts()"
   ]
  },
  {
   "cell_type": "code",
   "execution_count": 22,
   "metadata": {},
   "outputs": [
    {
     "name": "stdout",
     "output_type": "stream",
     "text": [
      "<class 'pandas.core.frame.DataFrame'>\n",
      "RangeIndex: 23379 entries, 0 to 23378\n",
      "Data columns (total 16 columns):\n",
      " #   Column          Non-Null Count  Dtype  \n",
      "---  ------          --------------  -----  \n",
      " 0   DateTime        23379 non-null  object \n",
      " 1   Sensor_id       23379 non-null  object \n",
      " 2   Vendor          23379 non-null  object \n",
      " 3   SensorModel     23379 non-null  object \n",
      " 4   LAT             23379 non-null  float64\n",
      " 5   LONG            23379 non-null  float64\n",
      " 6   Zone            23379 non-null  object \n",
      " 7   Pm1_0           23379 non-null  int64  \n",
      " 8   Pm2_5           23379 non-null  int64  \n",
      " 9   Pm10            23379 non-null  int64  \n",
      " 10  SO2             23379 non-null  int64  \n",
      " 11  O3              23379 non-null  int64  \n",
      " 12  CO              23379 non-null  int64  \n",
      " 13  NO2             23379 non-null  int64  \n",
      " 14  AlertTriggered  17619 non-null  object \n",
      " 15  SensorStatus    23379 non-null  object \n",
      "dtypes: float64(2), int64(7), object(7)\n",
      "memory usage: 2.9+ MB\n"
     ]
    }
   ],
   "source": [
    "air.info()"
   ]
  },
  {
   "cell_type": "code",
   "execution_count": 23,
   "metadata": {
    "scrolled": true
   },
   "outputs": [
    {
     "data": {
      "text/plain": [
       "None     10816\n",
       "no2       6464\n",
       "pm2_5      292\n",
       "co          24\n",
       "so2         13\n",
       "o3           7\n",
       "pm10         3\n",
       "Name: AlertTriggered, dtype: int64"
      ]
     },
     "execution_count": 23,
     "metadata": {},
     "output_type": "execute_result"
    }
   ],
   "source": [
    "air.AlertTriggered.value_counts()"
   ]
  },
  {
   "cell_type": "code",
   "execution_count": 24,
   "metadata": {},
   "outputs": [
    {
     "data": {
      "text/plain": [
       "DateTime             0\n",
       "Sensor_id            0\n",
       "Vendor               0\n",
       "SensorModel          0\n",
       "LAT                  0\n",
       "LONG                 0\n",
       "Zone                 0\n",
       "Pm1_0                0\n",
       "Pm2_5                0\n",
       "Pm10                 0\n",
       "SO2                  0\n",
       "O3                   0\n",
       "CO                   0\n",
       "NO2                  0\n",
       "AlertTriggered    5760\n",
       "SensorStatus         0\n",
       "dtype: int64"
      ]
     },
     "execution_count": 24,
     "metadata": {},
     "output_type": "execute_result"
    }
   ],
   "source": [
    "air.isnull().sum()"
   ]
  },
  {
   "cell_type": "code",
   "execution_count": null,
   "metadata": {},
   "outputs": [],
   "source": [
    "air.SensorStatus.value_counts()"
   ]
  },
  {
   "cell_type": "markdown",
   "metadata": {},
   "source": [
    "### Flood Prepare Plan"
   ]
  },
  {
   "cell_type": "markdown",
   "metadata": {},
   "source": [
    "- drop AlertTriggered\n",
    "- drop SensorStatus\n",
    "- drop lat and long\n",
    "- drop Sensor_id\n",
    "- drop SensorModel"
   ]
  },
  {
   "cell_type": "code",
   "execution_count": null,
   "metadata": {},
   "outputs": [],
   "source": [
    "flood = pd.read_csv('med_center_flood.csv')"
   ]
  },
  {
   "cell_type": "code",
   "execution_count": null,
   "metadata": {},
   "outputs": [],
   "source": [
    "flood.head()"
   ]
  },
  {
   "cell_type": "code",
   "execution_count": null,
   "metadata": {},
   "outputs": [],
   "source": [
    "flood.Sensor_id.value_counts()\n"
   ]
  },
  {
   "cell_type": "code",
   "execution_count": null,
   "metadata": {},
   "outputs": [],
   "source": [
    "flood.AlertTriggered.value_counts()"
   ]
  },
  {
   "cell_type": "code",
   "execution_count": null,
   "metadata": {},
   "outputs": [],
   "source": [
    "flood.shape"
   ]
  },
  {
   "cell_type": "code",
   "execution_count": null,
   "metadata": {},
   "outputs": [],
   "source": [
    "flood.Sensor_id.value_counts()"
   ]
  },
  {
   "cell_type": "code",
   "execution_count": null,
   "metadata": {},
   "outputs": [],
   "source": [
    "flood.SensorModel.value_counts()"
   ]
  },
  {
   "cell_type": "markdown",
   "metadata": {},
   "source": [
    "### Sound Prepare Plan"
   ]
  },
  {
   "cell_type": "markdown",
   "metadata": {},
   "source": [
    "- drop lat and long\n",
    "- drop sensor id\n",
    "- drop vendor\n",
    "- drop AlertTriggered\n",
    "- drop SensorStatus"
   ]
  },
  {
   "cell_type": "code",
   "execution_count": null,
   "metadata": {},
   "outputs": [],
   "source": [
    "sound = pd.read_csv('med_center_sound.csv')"
   ]
  },
  {
   "cell_type": "code",
   "execution_count": null,
   "metadata": {},
   "outputs": [],
   "source": [
    "sound.head()"
   ]
  },
  {
   "cell_type": "code",
   "execution_count": null,
   "metadata": {},
   "outputs": [],
   "source": [
    "sound.Vendor.value_counts()"
   ]
  },
  {
   "cell_type": "code",
   "execution_count": null,
   "metadata": {},
   "outputs": [],
   "source": [
    "sound.Sensor_id.value_counts()"
   ]
  },
  {
   "cell_type": "code",
   "execution_count": null,
   "metadata": {},
   "outputs": [],
   "source": [
    "sound.AlertTriggered.value_counts()"
   ]
  },
  {
   "cell_type": "code",
   "execution_count": null,
   "metadata": {},
   "outputs": [],
   "source": [
    "sound.SensorStatus.value_counts()"
   ]
  },
  {
   "cell_type": "code",
   "execution_count": null,
   "metadata": {},
   "outputs": [],
   "source": [
    "sound.info()"
   ]
  },
  {
   "cell_type": "markdown",
   "metadata": {},
   "source": [
    "### Weather Prepare Plan"
   ]
  },
  {
   "cell_type": "markdown",
   "metadata": {},
   "source": [
    "- drop lat and long\n",
    "- drop zone\n",
    "- drop sensor id\n",
    "- drop sensormodel\n",
    "- drop vendor"
   ]
  },
  {
   "cell_type": "code",
   "execution_count": null,
   "metadata": {},
   "outputs": [],
   "source": [
    "weather = pd.read_csv('med_center_weather.csv')"
   ]
  },
  {
   "cell_type": "code",
   "execution_count": null,
   "metadata": {},
   "outputs": [],
   "source": [
    "weather.head()"
   ]
  },
  {
   "cell_type": "code",
   "execution_count": null,
   "metadata": {},
   "outputs": [],
   "source": [
    "weather.info()\n"
   ]
  },
  {
   "cell_type": "code",
   "execution_count": null,
   "metadata": {},
   "outputs": [],
   "source": [
    "weather.Sensor_id.value_counts()"
   ]
  },
  {
   "cell_type": "code",
   "execution_count": null,
   "metadata": {},
   "outputs": [],
   "source": [
    "weather.SensorModel.value_counts()"
   ]
  },
  {
   "cell_type": "code",
   "execution_count": null,
   "metadata": {},
   "outputs": [],
   "source": [
    "weather.Vendor.value_counts()"
   ]
  },
  {
   "cell_type": "code",
   "execution_count": null,
   "metadata": {},
   "outputs": [],
   "source": [
    "weather.AlertTriggered.value_counts()"
   ]
  },
  {
   "cell_type": "code",
   "execution_count": null,
   "metadata": {},
   "outputs": [],
   "source": [
    "weather.SensorStatus.value_counts()"
   ]
  },
  {
   "cell_type": "markdown",
   "metadata": {},
   "source": [
    "#### Weather Prepare"
   ]
  },
  {
   "cell_type": "code",
   "execution_count": null,
   "metadata": {
    "scrolled": true
   },
   "outputs": [],
   "source": [
    "# Drop columns we will not be using\n",
    "weather.drop(columns=[\n",
    "    'Sensor_id', \n",
    "    'Vendor', \n",
    "    'SensorModel', \n",
    "    'LAT', \n",
    "    'LONG', \n",
    "    'Zone', \n",
    "    'AlertTriggered', \n",
    "    'SensorStatus'], inplace=True)\n",
    "\n"
   ]
  },
  {
   "cell_type": "code",
   "execution_count": null,
   "metadata": {},
   "outputs": [],
   "source": [
    "# Ensure drop took place\n",
    "weather.head()"
   ]
  },
  {
   "cell_type": "code",
   "execution_count": null,
   "metadata": {},
   "outputs": [],
   "source": [
    "# Check the nulls\n",
    "weather.isna().sum()"
   ]
  },
  {
   "cell_type": "code",
   "execution_count": null,
   "metadata": {},
   "outputs": [],
   "source": [
    "# Change DateTime to datetime datatype\n",
    "weather.DateTime = pd.to_datetime(weather.DateTime)"
   ]
  },
  {
   "cell_type": "code",
   "execution_count": null,
   "metadata": {},
   "outputs": [],
   "source": [
    "weather.info()"
   ]
  },
  {
   "cell_type": "code",
   "execution_count": null,
   "metadata": {},
   "outputs": [],
   "source": [
    "#Rename columns\n",
    "weather = weather.rename(columns={\"DateTime\": \"datetime\", \n",
    "                            \"Temp_C\": \"celsius\", \n",
    "                            \"Temp_F\": \"farenheit\", \n",
    "                            \"Humidity\": \"humidity\",\n",
    "                            \"DewPoint_C\": \"dewpoint_celsius\",\n",
    "                            \"DewPoint_F\": \"dewpoint_farenheit\",\n",
    "                            \"Pressure_Pa\": \"pressure\"})"
   ]
  },
  {
   "cell_type": "code",
   "execution_count": null,
   "metadata": {},
   "outputs": [],
   "source": [
    "weather.shape"
   ]
  },
  {
   "cell_type": "code",
   "execution_count": null,
   "metadata": {},
   "outputs": [],
   "source": [
    "weather.head()"
   ]
  },
  {
   "cell_type": "markdown",
   "metadata": {},
   "source": [
    "#### Weather Wrangle\n"
   ]
  },
  {
   "cell_type": "code",
   "execution_count": 6,
   "metadata": {},
   "outputs": [],
   "source": [
    "# Function to perform all preparation for weather data\n",
    "\n",
    "def wrangle_weather():\n",
    "    #read csv and turn into pandas dataframe\n",
    "    weather = pd.read_csv('med_center_weather.csv')\n",
    "    #drop columns we will not be using\n",
    "    weather.drop(columns=[\n",
    "    'Sensor_id', \n",
    "    'Vendor', \n",
    "    'SensorModel', \n",
    "    'LAT', \n",
    "    'LONG', \n",
    "    'Zone', \n",
    "    'AlertTriggered', \n",
    "    'SensorStatus'], inplace=True)\n",
    "    #change datetime to pandas datetime object\n",
    "    weather.DateTime = pd.to_datetime(weather.DateTime)\n",
    "    #rename columns to be more readable\n",
    "    weather = weather.rename(columns={\"DateTime\": \"datetime\", \n",
    "                            \"Temp_C\": \"celsius\", \n",
    "                            \"Temp_F\": \"farenheit\", \n",
    "                            \"Humidity\": \"humidity\",\n",
    "                            \"DewPoint_C\": \"dewpoint_celsius\",\n",
    "                            \"DewPoint_F\": \"dewpoint_farenheit\",\n",
    "                            \"Pressure_Pa\": \"pressure\"})\n",
    "    #return clean weather df\n",
    "    return weather\n"
   ]
  },
  {
   "cell_type": "code",
   "execution_count": 7,
   "metadata": {},
   "outputs": [],
   "source": [
    "weather = wrangle_weather()"
   ]
  },
  {
   "cell_type": "code",
   "execution_count": 8,
   "metadata": {},
   "outputs": [
    {
     "data": {
      "text/html": [
       "<div>\n",
       "<style scoped>\n",
       "    .dataframe tbody tr th:only-of-type {\n",
       "        vertical-align: middle;\n",
       "    }\n",
       "\n",
       "    .dataframe tbody tr th {\n",
       "        vertical-align: top;\n",
       "    }\n",
       "\n",
       "    .dataframe thead th {\n",
       "        text-align: right;\n",
       "    }\n",
       "</style>\n",
       "<table border=\"1\" class=\"dataframe\">\n",
       "  <thead>\n",
       "    <tr style=\"text-align: right;\">\n",
       "      <th></th>\n",
       "      <th>datetime</th>\n",
       "      <th>celsius</th>\n",
       "      <th>farenheit</th>\n",
       "      <th>humidity</th>\n",
       "      <th>dewpoint_celsius</th>\n",
       "      <th>dewpoint_farenheit</th>\n",
       "      <th>pressure</th>\n",
       "    </tr>\n",
       "  </thead>\n",
       "  <tbody>\n",
       "    <tr>\n",
       "      <th>0</th>\n",
       "      <td>2021-05-16 00:01:26</td>\n",
       "      <td>21</td>\n",
       "      <td>71</td>\n",
       "      <td>88</td>\n",
       "      <td>18.934569</td>\n",
       "      <td>66.082224</td>\n",
       "      <td>979</td>\n",
       "    </tr>\n",
       "    <tr>\n",
       "      <th>1</th>\n",
       "      <td>2021-05-16 00:04:26</td>\n",
       "      <td>21</td>\n",
       "      <td>71</td>\n",
       "      <td>88</td>\n",
       "      <td>18.934569</td>\n",
       "      <td>66.082224</td>\n",
       "      <td>979</td>\n",
       "    </tr>\n",
       "    <tr>\n",
       "      <th>2</th>\n",
       "      <td>2021-05-16 00:07:26</td>\n",
       "      <td>21</td>\n",
       "      <td>71</td>\n",
       "      <td>88</td>\n",
       "      <td>18.934569</td>\n",
       "      <td>66.082224</td>\n",
       "      <td>979</td>\n",
       "    </tr>\n",
       "    <tr>\n",
       "      <th>3</th>\n",
       "      <td>2021-05-16 00:10:26</td>\n",
       "      <td>21</td>\n",
       "      <td>71</td>\n",
       "      <td>88</td>\n",
       "      <td>18.934569</td>\n",
       "      <td>66.082224</td>\n",
       "      <td>979</td>\n",
       "    </tr>\n",
       "    <tr>\n",
       "      <th>4</th>\n",
       "      <td>2021-05-16 00:13:26</td>\n",
       "      <td>21</td>\n",
       "      <td>71</td>\n",
       "      <td>88</td>\n",
       "      <td>18.934569</td>\n",
       "      <td>66.082224</td>\n",
       "      <td>979</td>\n",
       "    </tr>\n",
       "  </tbody>\n",
       "</table>\n",
       "</div>"
      ],
      "text/plain": [
       "             datetime  celsius  farenheit  humidity  dewpoint_celsius  \\\n",
       "0 2021-05-16 00:01:26       21         71        88         18.934569   \n",
       "1 2021-05-16 00:04:26       21         71        88         18.934569   \n",
       "2 2021-05-16 00:07:26       21         71        88         18.934569   \n",
       "3 2021-05-16 00:10:26       21         71        88         18.934569   \n",
       "4 2021-05-16 00:13:26       21         71        88         18.934569   \n",
       "\n",
       "   dewpoint_farenheit  pressure  \n",
       "0           66.082224       979  \n",
       "1           66.082224       979  \n",
       "2           66.082224       979  \n",
       "3           66.082224       979  \n",
       "4           66.082224       979  "
      ]
     },
     "execution_count": 8,
     "metadata": {},
     "output_type": "execute_result"
    }
   ],
   "source": [
    "weather.head()"
   ]
  },
  {
   "cell_type": "code",
   "execution_count": 10,
   "metadata": {},
   "outputs": [],
   "source": [
    "from matplotlib import pyplot as plt\n",
    "import seaborn as sns"
   ]
  },
  {
   "cell_type": "code",
   "execution_count": null,
   "metadata": {},
   "outputs": [],
   "source": []
  }
 ],
 "metadata": {
  "kernelspec": {
   "display_name": "Python 3",
   "language": "python",
   "name": "python3"
  },
  "language_info": {
   "codemirror_mode": {
    "name": "ipython",
    "version": 3
   },
   "file_extension": ".py",
   "mimetype": "text/x-python",
   "name": "python",
   "nbconvert_exporter": "python",
   "pygments_lexer": "ipython3",
   "version": "3.8.5"
  }
 },
 "nbformat": 4,
 "nbformat_minor": 4
}
