{
 "cells": [
  {
   "cell_type": "markdown",
   "metadata": {},
   "source": [
    "# Explore Weather"
   ]
  },
  {
   "cell_type": "code",
   "execution_count": 1,
   "metadata": {},
   "outputs": [],
   "source": [
    "import wrangle as w\n",
    "import pandas as pd\n",
    "import seaborn as sns\n",
    "import matplotlib.pyplot as plt"
   ]
  },
  {
   "cell_type": "code",
   "execution_count": 2,
   "metadata": {},
   "outputs": [],
   "source": [
    "weather = w.wrangle_weather()"
   ]
  },
  {
   "cell_type": "code",
   "execution_count": 3,
   "metadata": {},
   "outputs": [
    {
     "data": {
      "text/html": [
       "<div>\n",
       "<style scoped>\n",
       "    .dataframe tbody tr th:only-of-type {\n",
       "        vertical-align: middle;\n",
       "    }\n",
       "\n",
       "    .dataframe tbody tr th {\n",
       "        vertical-align: top;\n",
       "    }\n",
       "\n",
       "    .dataframe thead th {\n",
       "        text-align: right;\n",
       "    }\n",
       "</style>\n",
       "<table border=\"1\" class=\"dataframe\">\n",
       "  <thead>\n",
       "    <tr style=\"text-align: right;\">\n",
       "      <th></th>\n",
       "      <th>datetime</th>\n",
       "      <th>celsius</th>\n",
       "      <th>farenheit</th>\n",
       "      <th>humidity</th>\n",
       "      <th>dewpoint_celsius</th>\n",
       "      <th>dewpoint_farenheit</th>\n",
       "      <th>pressure</th>\n",
       "    </tr>\n",
       "  </thead>\n",
       "  <tbody>\n",
       "    <tr>\n",
       "      <th>0</th>\n",
       "      <td>2021-05-16 00:01:26</td>\n",
       "      <td>21</td>\n",
       "      <td>71</td>\n",
       "      <td>88</td>\n",
       "      <td>18.934569</td>\n",
       "      <td>66.082224</td>\n",
       "      <td>979</td>\n",
       "    </tr>\n",
       "    <tr>\n",
       "      <th>1</th>\n",
       "      <td>2021-05-16 00:04:26</td>\n",
       "      <td>21</td>\n",
       "      <td>71</td>\n",
       "      <td>88</td>\n",
       "      <td>18.934569</td>\n",
       "      <td>66.082224</td>\n",
       "      <td>979</td>\n",
       "    </tr>\n",
       "    <tr>\n",
       "      <th>2</th>\n",
       "      <td>2021-05-16 00:07:26</td>\n",
       "      <td>21</td>\n",
       "      <td>71</td>\n",
       "      <td>88</td>\n",
       "      <td>18.934569</td>\n",
       "      <td>66.082224</td>\n",
       "      <td>979</td>\n",
       "    </tr>\n",
       "    <tr>\n",
       "      <th>3</th>\n",
       "      <td>2021-05-16 00:10:26</td>\n",
       "      <td>21</td>\n",
       "      <td>71</td>\n",
       "      <td>88</td>\n",
       "      <td>18.934569</td>\n",
       "      <td>66.082224</td>\n",
       "      <td>979</td>\n",
       "    </tr>\n",
       "    <tr>\n",
       "      <th>4</th>\n",
       "      <td>2021-05-16 00:13:26</td>\n",
       "      <td>21</td>\n",
       "      <td>71</td>\n",
       "      <td>88</td>\n",
       "      <td>18.934569</td>\n",
       "      <td>66.082224</td>\n",
       "      <td>979</td>\n",
       "    </tr>\n",
       "  </tbody>\n",
       "</table>\n",
       "</div>"
      ],
      "text/plain": [
       "             datetime  celsius  farenheit  humidity  dewpoint_celsius  \\\n",
       "0 2021-05-16 00:01:26       21         71        88         18.934569   \n",
       "1 2021-05-16 00:04:26       21         71        88         18.934569   \n",
       "2 2021-05-16 00:07:26       21         71        88         18.934569   \n",
       "3 2021-05-16 00:10:26       21         71        88         18.934569   \n",
       "4 2021-05-16 00:13:26       21         71        88         18.934569   \n",
       "\n",
       "   dewpoint_farenheit  pressure  \n",
       "0           66.082224       979  \n",
       "1           66.082224       979  \n",
       "2           66.082224       979  \n",
       "3           66.082224       979  \n",
       "4           66.082224       979  "
      ]
     },
     "execution_count": 3,
     "metadata": {},
     "output_type": "execute_result"
    }
   ],
   "source": [
    "weather.head()"
   ]
  },
  {
   "cell_type": "code",
   "execution_count": 4,
   "metadata": {},
   "outputs": [
    {
     "name": "stdout",
     "output_type": "stream",
     "text": [
      "<class 'pandas.core.frame.DataFrame'>\n",
      "RangeIndex: 16179 entries, 0 to 16178\n",
      "Data columns (total 7 columns):\n",
      " #   Column              Non-Null Count  Dtype         \n",
      "---  ------              --------------  -----         \n",
      " 0   datetime            16179 non-null  datetime64[ns]\n",
      " 1   celsius             16179 non-null  int64         \n",
      " 2   farenheit           16179 non-null  int64         \n",
      " 3   humidity            16179 non-null  int64         \n",
      " 4   dewpoint_celsius    16179 non-null  float64       \n",
      " 5   dewpoint_farenheit  16179 non-null  float64       \n",
      " 6   pressure            16179 non-null  int64         \n",
      "dtypes: datetime64[ns](1), float64(2), int64(4)\n",
      "memory usage: 884.9 KB\n"
     ]
    }
   ],
   "source": [
    "weather.info()"
   ]
  },
  {
   "cell_type": "code",
   "execution_count": 5,
   "metadata": {},
   "outputs": [
    {
     "data": {
      "text/plain": [
       "(16179, 7)"
      ]
     },
     "execution_count": 5,
     "metadata": {},
     "output_type": "execute_result"
    }
   ],
   "source": [
    "weather.shape"
   ]
  },
  {
   "cell_type": "code",
   "execution_count": 6,
   "metadata": {},
   "outputs": [],
   "source": [
    "#weather.to_csv('weathercsv.csv')"
   ]
  },
  {
   "cell_type": "code",
   "execution_count": null,
   "metadata": {},
   "outputs": [],
   "source": []
  }
 ],
 "metadata": {
  "kernelspec": {
   "display_name": "Python 3",
   "language": "python",
   "name": "python3"
  },
  "language_info": {
   "codemirror_mode": {
    "name": "ipython",
    "version": 3
   },
   "file_extension": ".py",
   "mimetype": "text/x-python",
   "name": "python",
   "nbconvert_exporter": "python",
   "pygments_lexer": "ipython3",
   "version": "3.8.5"
  }
 },
 "nbformat": 4,
 "nbformat_minor": 4
}
