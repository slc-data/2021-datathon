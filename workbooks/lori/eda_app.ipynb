{
 "cells": [
  {
   "cell_type": "markdown",
   "metadata": {},
   "source": [
    "# Streamlit EDA App"
   ]
  },
  {
   "cell_type": "code",
   "execution_count": 1,
   "metadata": {},
   "outputs": [],
   "source": [
    "import pandas as pd\n",
    "import numpy as np\n",
    "import seaborn as sns\n",
    "import streamlit as st\n",
    "from pandas_profiling import ProfileReport\n",
    "from streamlit_pandas_profiling import st_profile_report"
   ]
  },
  {
   "cell_type": "markdown",
   "metadata": {},
   "source": [
    "## WEB App Title"
   ]
  },
  {
   "cell_type": "code",
   "execution_count": 2,
   "metadata": {},
   "outputs": [
    {
     "name": "stderr",
     "output_type": "stream",
     "text": [
      "2021-07-14 18:26:32.571 \n",
      "  \u001b[33m\u001b[1mWarning:\u001b[0m to view this Streamlit app on a browser, run it with the following\n",
      "  command:\n",
      "\n",
      "    streamlit run /usr/local/anaconda3/lib/python3.8/site-packages/ipykernel_launcher.py [ARGUMENTS]\n"
     ]
    },
    {
     "data": {
      "text/plain": [
       "DeltaGenerator(_root_container=0, _provided_cursor=None, _parent=None, _block_type=None, _form_data=None)"
      ]
     },
     "execution_count": 2,
     "metadata": {},
     "output_type": "execute_result"
    }
   ],
   "source": [
    "st.markdown('''\n",
    "# **Explore COSA Data App**\n",
    "The **Explore COSA Data App** will take in csv's and output quick exploratory data analysis.\n",
    "''')"
   ]
  },
  {
   "cell_type": "code",
   "execution_count": 4,
   "metadata": {},
   "outputs": [],
   "source": [
    "## Upload CSV Data\n",
    "# Upload CSV data\n",
    "with st.sidebar.header('1. Upload your CSV data'):\n",
    "    uploaded_file = st.sidebar.file_uploader(\"Upload your input CSV file\", type=[\"csv\"])\n",
    "    st.sidebar.markdown(\"\"\"\n",
    "[Example CSV input file]()\n",
    "\"\"\")"
   ]
  },
  {
   "cell_type": "code",
   "execution_count": 5,
   "metadata": {},
   "outputs": [],
   "source": [
    "# Pandas Profiling Report\n",
    "if uploaded_file is not None:\n",
    "    @st.cache\n",
    "    def load_csv():\n",
    "        csv = pd.read_csv(uploaded_file)\n",
    "        return csv\n",
    "    df = load_csv()\n",
    "    pr = ProfileReport(df, explorative=True)\n",
    "    st.header('**Input DataFrame**')\n",
    "    st.write(df)\n",
    "    st.write('---')\n",
    "    st.header('**Pandas Profiling Report**')\n",
    "    st_profile_report(pr)\n",
    "else:\n",
    "    st.info('Awaiting for CSV file to be uploaded.')\n",
    "    if st.button('Press to use Example Dataset'):\n",
    "        # Example data\n",
    "        @st.cache\n",
    "        def load_data():\n",
    "            a = pd.DataFrame(\n",
    "                np.random.rand(100, 5),\n",
    "                columns=['a', 'b', 'c', 'd', 'e']\n",
    "            )\n",
    "            return a\n",
    "        df = load_data()\n",
    "        pr = ProfileReport(df, explorative=True)\n",
    "        st.header('**Input DataFrame**')\n",
    "        st.write(df)\n",
    "        st.write('---')\n",
    "        st.header('**Pandas Profiling Report**')\n",
    "        st_profile_report(pr)\n"
   ]
  },
  {
   "cell_type": "code",
   "execution_count": null,
   "metadata": {},
   "outputs": [],
   "source": []
  }
 ],
 "metadata": {
  "kernelspec": {
   "display_name": "Python 3",
   "language": "python",
   "name": "python3"
  },
  "language_info": {
   "codemirror_mode": {
    "name": "ipython",
    "version": 3
   },
   "file_extension": ".py",
   "mimetype": "text/x-python",
   "name": "python",
   "nbconvert_exporter": "python",
   "pygments_lexer": "ipython3",
   "version": "3.8.5"
  }
 },
 "nbformat": 4,
 "nbformat_minor": 4
}
