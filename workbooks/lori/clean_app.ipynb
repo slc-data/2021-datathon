{
 "cells": [
  {
   "cell_type": "markdown",
   "metadata": {},
   "source": [
    "# Clean App "
   ]
  },
  {
   "cell_type": "code",
   "execution_count": 1,
   "metadata": {},
   "outputs": [],
   "source": [
    "import pandas as pd\n",
    "import numpy as np\n",
    "import matplotlib.pyplot as plt\n",
    "import seaborn as sns"
   ]
  },
  {
   "cell_type": "code",
   "execution_count": 2,
   "metadata": {},
   "outputs": [],
   "source": [
    "# Clean flood script\n",
    "# Flood Cleaning\n",
    "def clean_flood(df):\n",
    "    '''Drops unneeded columns from the med center flooding df\n",
    "    Makes sure DateTime is in DateTime format'''\n",
    "    # drop the columns\n",
    "    df = df.drop(columns=['LAT', 'LONG',  \n",
    "                          'SensorStatus', 'AlertTriggered', \n",
    "                          'Temp_C', 'Temp_F', 'Vendor'])\n",
    "    # Set to date time format\n",
    "    df.DateTime = pd.to_datetime(df.DateTime)\n",
    "    df = df.rename(columns={\"DateTime\": \"datetime\", \n",
    "                        \"DistToWL_ft\": \"sensor_to_water_feet\", \n",
    "                        \"DistToWL_m\": \"sensor_to_water_meters\", \n",
    "                        \"DistToDF_ft\": \"sensor_to_ground_feet\",\n",
    "                        \"DistToDF_m\": \"sensor_to_ground_meters\"})\n",
    "    # replace -999 with 0\n",
    "    df[\"sensor_to_ground_feet\"].replace({-999:13.5006561680}, inplace=True)\n",
    "    df[\"sensor_to_ground_meters\"].replace({-999:4.115}, inplace=True)\n",
    "    \n",
    "    #flood = flood.replace(to_replace=-999, value=0)\n",
    "    # create new features for flood depth\n",
    "    df['flood_depth_feet'] = df.sensor_to_ground_feet - df.sensor_to_water_feet\n",
    "    df['flood_depth_meters'] = df.sensor_to_ground_meters - df.sensor_to_water_meters \n",
    "    # Create new alert\n",
    "    def flood_alert(c):\n",
    "        if 0 < c['flood_depth_feet'] < 0.66667:\n",
    "            return 'No Risk'\n",
    "        elif 0.66667 < c['flood_depth_feet'] < 1.08333:\n",
    "            return 'Minor Risk'\n",
    "        elif 1.08333 < c['flood_depth_feet'] < 2.16667:\n",
    "            return 'Moderate Risk'\n",
    "        elif 2.16667 < c['flood_depth_feet']:\n",
    "            return 'Major Risk !'\n",
    "        else:\n",
    "            return 'No Alert'\n",
    "    df['flood_alert'] = df.apply(flood_alert, axis=1)\n",
    "    df = df[(df.sensor_to_water_feet != -999)]\n",
    "    # return new df\n",
    "    return df"
   ]
  },
  {
   "cell_type": "markdown",
   "metadata": {},
   "source": [
    "csvs needed to match:"
   ]
  },
  {
   "cell_type": "code",
   "execution_count": null,
   "metadata": {},
   "outputs": [],
   "source": [
    "def which_dataset():\n",
    "    "
   ]
  }
 ],
 "metadata": {
  "kernelspec": {
   "display_name": "Python 3",
   "language": "python",
   "name": "python3"
  },
  "language_info": {
   "codemirror_mode": {
    "name": "ipython",
    "version": 3
   },
   "file_extension": ".py",
   "mimetype": "text/x-python",
   "name": "python",
   "nbconvert_exporter": "python",
   "pygments_lexer": "ipython3",
   "version": "3.8.5"
  }
 },
 "nbformat": 4,
 "nbformat_minor": 4
}
