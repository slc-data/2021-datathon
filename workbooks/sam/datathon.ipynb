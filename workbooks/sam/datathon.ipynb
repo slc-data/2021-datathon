{
 "cells": [
  {
   "cell_type": "code",
   "execution_count": 1,
   "metadata": {},
   "outputs": [],
   "source": [
    "import pandas as pd\n",
    "import numpy as np\n",
    "import wrangle\n",
    "import matplotlib.pyplot as plt\n",
    "import seaborn as sns\n",
    "pd.set_option('display.max_columns', None)"
   ]
  },
  {
   "cell_type": "code",
   "execution_count": 2,
   "metadata": {},
   "outputs": [],
   "source": [
    "saws_df = wrangle.wrangle_saws()"
   ]
  },
  {
   "cell_type": "code",
   "execution_count": 3,
   "metadata": {},
   "outputs": [],
   "source": [
    "saws_df['year_month'] = '20' + saws_df['year_month']\n",
    "saws_df['year_month'] = pd.to_datetime(saws_df['year_month'])"
   ]
  },
  {
   "cell_type": "code",
   "execution_count": 4,
   "metadata": {},
   "outputs": [
    {
     "data": {
      "text/html": [
       "<div>\n",
       "<style scoped>\n",
       "    .dataframe tbody tr th:only-of-type {\n",
       "        vertical-align: middle;\n",
       "    }\n",
       "\n",
       "    .dataframe tbody tr th {\n",
       "        vertical-align: top;\n",
       "    }\n",
       "\n",
       "    .dataframe thead th {\n",
       "        text-align: right;\n",
       "    }\n",
       "</style>\n",
       "<table border=\"1\" class=\"dataframe\">\n",
       "  <thead>\n",
       "    <tr style=\"text-align: right;\">\n",
       "      <th></th>\n",
       "      <th></th>\n",
       "      <th>zipcode</th>\n",
       "      <th>gallons_consumed</th>\n",
       "    </tr>\n",
       "    <tr>\n",
       "      <th>y</th>\n",
       "      <th>m</th>\n",
       "      <th></th>\n",
       "      <th></th>\n",
       "    </tr>\n",
       "  </thead>\n",
       "  <tbody>\n",
       "    <tr>\n",
       "      <th rowspan=\"12\" valign=\"top\">2017</th>\n",
       "      <th>1</th>\n",
       "      <td>78229</td>\n",
       "      <td>3462.358907</td>\n",
       "    </tr>\n",
       "    <tr>\n",
       "      <th>2</th>\n",
       "      <td>78229</td>\n",
       "      <td>3214.546263</td>\n",
       "    </tr>\n",
       "    <tr>\n",
       "      <th>3</th>\n",
       "      <td>78229</td>\n",
       "      <td>3158.374053</td>\n",
       "    </tr>\n",
       "    <tr>\n",
       "      <th>4</th>\n",
       "      <td>78229</td>\n",
       "      <td>3350.766546</td>\n",
       "    </tr>\n",
       "    <tr>\n",
       "      <th>5</th>\n",
       "      <td>78229</td>\n",
       "      <td>4090.987158</td>\n",
       "    </tr>\n",
       "    <tr>\n",
       "      <th>6</th>\n",
       "      <td>78229</td>\n",
       "      <td>4284.356602</td>\n",
       "    </tr>\n",
       "    <tr>\n",
       "      <th>7</th>\n",
       "      <td>78229</td>\n",
       "      <td>4708.297662</td>\n",
       "    </tr>\n",
       "    <tr>\n",
       "      <th>8</th>\n",
       "      <td>78229</td>\n",
       "      <td>6075.917682</td>\n",
       "    </tr>\n",
       "    <tr>\n",
       "      <th>9</th>\n",
       "      <td>78229</td>\n",
       "      <td>4393.238722</td>\n",
       "    </tr>\n",
       "    <tr>\n",
       "      <th>10</th>\n",
       "      <td>78229</td>\n",
       "      <td>4505.319394</td>\n",
       "    </tr>\n",
       "    <tr>\n",
       "      <th>11</th>\n",
       "      <td>78229</td>\n",
       "      <td>3785.293052</td>\n",
       "    </tr>\n",
       "    <tr>\n",
       "      <th>12</th>\n",
       "      <td>78229</td>\n",
       "      <td>3882.099440</td>\n",
       "    </tr>\n",
       "    <tr>\n",
       "      <th rowspan=\"12\" valign=\"top\">2018</th>\n",
       "      <th>1</th>\n",
       "      <td>78229</td>\n",
       "      <td>3109.850181</td>\n",
       "    </tr>\n",
       "    <tr>\n",
       "      <th>2</th>\n",
       "      <td>78229</td>\n",
       "      <td>3434.769839</td>\n",
       "    </tr>\n",
       "    <tr>\n",
       "      <th>3</th>\n",
       "      <td>78229</td>\n",
       "      <td>2978.550543</td>\n",
       "    </tr>\n",
       "    <tr>\n",
       "      <th>4</th>\n",
       "      <td>78229</td>\n",
       "      <td>3572.707277</td>\n",
       "    </tr>\n",
       "    <tr>\n",
       "      <th>5</th>\n",
       "      <td>78229</td>\n",
       "      <td>4098.624300</td>\n",
       "    </tr>\n",
       "    <tr>\n",
       "      <th>6</th>\n",
       "      <td>78229</td>\n",
       "      <td>4634.152453</td>\n",
       "    </tr>\n",
       "    <tr>\n",
       "      <th>7</th>\n",
       "      <td>78229</td>\n",
       "      <td>5220.660191</td>\n",
       "    </tr>\n",
       "    <tr>\n",
       "      <th>8</th>\n",
       "      <td>78229</td>\n",
       "      <td>5223.128087</td>\n",
       "    </tr>\n",
       "    <tr>\n",
       "      <th>9</th>\n",
       "      <td>78229</td>\n",
       "      <td>5296.035891</td>\n",
       "    </tr>\n",
       "    <tr>\n",
       "      <th>10</th>\n",
       "      <td>78229</td>\n",
       "      <td>3797.613434</td>\n",
       "    </tr>\n",
       "    <tr>\n",
       "      <th>11</th>\n",
       "      <td>78229</td>\n",
       "      <td>3012.053013</td>\n",
       "    </tr>\n",
       "    <tr>\n",
       "      <th>12</th>\n",
       "      <td>78229</td>\n",
       "      <td>3150.496213</td>\n",
       "    </tr>\n",
       "    <tr>\n",
       "      <th rowspan=\"12\" valign=\"top\">2019</th>\n",
       "      <th>1</th>\n",
       "      <td>78229</td>\n",
       "      <td>3076.592032</td>\n",
       "    </tr>\n",
       "    <tr>\n",
       "      <th>2</th>\n",
       "      <td>78229</td>\n",
       "      <td>3141.866645</td>\n",
       "    </tr>\n",
       "    <tr>\n",
       "      <th>3</th>\n",
       "      <td>78229</td>\n",
       "      <td>2838.873230</td>\n",
       "    </tr>\n",
       "    <tr>\n",
       "      <th>4</th>\n",
       "      <td>78229</td>\n",
       "      <td>3409.140599</td>\n",
       "    </tr>\n",
       "    <tr>\n",
       "      <th>5</th>\n",
       "      <td>78229</td>\n",
       "      <td>3470.486335</td>\n",
       "    </tr>\n",
       "    <tr>\n",
       "      <th>6</th>\n",
       "      <td>78229</td>\n",
       "      <td>3538.709582</td>\n",
       "    </tr>\n",
       "    <tr>\n",
       "      <th>7</th>\n",
       "      <td>78229</td>\n",
       "      <td>3614.575568</td>\n",
       "    </tr>\n",
       "    <tr>\n",
       "      <th>8</th>\n",
       "      <td>78229</td>\n",
       "      <td>4779.721765</td>\n",
       "    </tr>\n",
       "    <tr>\n",
       "      <th>9</th>\n",
       "      <td>78229</td>\n",
       "      <td>6276.673033</td>\n",
       "    </tr>\n",
       "    <tr>\n",
       "      <th>10</th>\n",
       "      <td>78229</td>\n",
       "      <td>5336.688179</td>\n",
       "    </tr>\n",
       "    <tr>\n",
       "      <th>11</th>\n",
       "      <td>78229</td>\n",
       "      <td>4148.872242</td>\n",
       "    </tr>\n",
       "    <tr>\n",
       "      <th>12</th>\n",
       "      <td>78229</td>\n",
       "      <td>3183.241686</td>\n",
       "    </tr>\n",
       "    <tr>\n",
       "      <th rowspan=\"12\" valign=\"top\">2020</th>\n",
       "      <th>1</th>\n",
       "      <td>78229</td>\n",
       "      <td>3416.777412</td>\n",
       "    </tr>\n",
       "    <tr>\n",
       "      <th>2</th>\n",
       "      <td>78229</td>\n",
       "      <td>3299.523214</td>\n",
       "    </tr>\n",
       "    <tr>\n",
       "      <th>3</th>\n",
       "      <td>78229</td>\n",
       "      <td>3045.305565</td>\n",
       "    </tr>\n",
       "    <tr>\n",
       "      <th>4</th>\n",
       "      <td>78229</td>\n",
       "      <td>3343.116562</td>\n",
       "    </tr>\n",
       "    <tr>\n",
       "      <th>5</th>\n",
       "      <td>78229</td>\n",
       "      <td>3754.985841</td>\n",
       "    </tr>\n",
       "    <tr>\n",
       "      <th>6</th>\n",
       "      <td>78229</td>\n",
       "      <td>4471.821205</td>\n",
       "    </tr>\n",
       "    <tr>\n",
       "      <th>7</th>\n",
       "      <td>78229</td>\n",
       "      <td>4534.626276</td>\n",
       "    </tr>\n",
       "    <tr>\n",
       "      <th>8</th>\n",
       "      <td>78229</td>\n",
       "      <td>6039.954560</td>\n",
       "    </tr>\n",
       "    <tr>\n",
       "      <th>9</th>\n",
       "      <td>78229</td>\n",
       "      <td>5286.431347</td>\n",
       "    </tr>\n",
       "    <tr>\n",
       "      <th>10</th>\n",
       "      <td>78229</td>\n",
       "      <td>4633.161673</td>\n",
       "    </tr>\n",
       "    <tr>\n",
       "      <th>11</th>\n",
       "      <td>78229</td>\n",
       "      <td>4753.123477</td>\n",
       "    </tr>\n",
       "    <tr>\n",
       "      <th>12</th>\n",
       "      <td>78229</td>\n",
       "      <td>4773.817912</td>\n",
       "    </tr>\n",
       "  </tbody>\n",
       "</table>\n",
       "</div>"
      ],
      "text/plain": [
       "         zipcode  gallons_consumed\n",
       "y    m                            \n",
       "2017 1     78229       3462.358907\n",
       "     2     78229       3214.546263\n",
       "     3     78229       3158.374053\n",
       "     4     78229       3350.766546\n",
       "     5     78229       4090.987158\n",
       "     6     78229       4284.356602\n",
       "     7     78229       4708.297662\n",
       "     8     78229       6075.917682\n",
       "     9     78229       4393.238722\n",
       "     10    78229       4505.319394\n",
       "     11    78229       3785.293052\n",
       "     12    78229       3882.099440\n",
       "2018 1     78229       3109.850181\n",
       "     2     78229       3434.769839\n",
       "     3     78229       2978.550543\n",
       "     4     78229       3572.707277\n",
       "     5     78229       4098.624300\n",
       "     6     78229       4634.152453\n",
       "     7     78229       5220.660191\n",
       "     8     78229       5223.128087\n",
       "     9     78229       5296.035891\n",
       "     10    78229       3797.613434\n",
       "     11    78229       3012.053013\n",
       "     12    78229       3150.496213\n",
       "2019 1     78229       3076.592032\n",
       "     2     78229       3141.866645\n",
       "     3     78229       2838.873230\n",
       "     4     78229       3409.140599\n",
       "     5     78229       3470.486335\n",
       "     6     78229       3538.709582\n",
       "     7     78229       3614.575568\n",
       "     8     78229       4779.721765\n",
       "     9     78229       6276.673033\n",
       "     10    78229       5336.688179\n",
       "     11    78229       4148.872242\n",
       "     12    78229       3183.241686\n",
       "2020 1     78229       3416.777412\n",
       "     2     78229       3299.523214\n",
       "     3     78229       3045.305565\n",
       "     4     78229       3343.116562\n",
       "     5     78229       3754.985841\n",
       "     6     78229       4471.821205\n",
       "     7     78229       4534.626276\n",
       "     8     78229       6039.954560\n",
       "     9     78229       5286.431347\n",
       "     10    78229       4633.161673\n",
       "     11    78229       4753.123477\n",
       "     12    78229       4773.817912"
      ]
     },
     "execution_count": 4,
     "metadata": {},
     "output_type": "execute_result"
    }
   ],
   "source": [
    "saws_df.groupby([saws_df['year_month'].dt.year.rename('y'), saws_df['year_month'].dt.month.rename('m')]).mean()"
   ]
  },
  {
   "cell_type": "code",
   "execution_count": 5,
   "metadata": {},
   "outputs": [
    {
     "data": {
      "text/plain": [
       "year_month\n",
       "1     3266.394633\n",
       "2     3272.676490\n",
       "3     3005.275848\n",
       "4     3418.932746\n",
       "5     3853.770909\n",
       "6     4232.259960\n",
       "7     4519.539924\n",
       "8     5529.680524\n",
       "9     5313.094748\n",
       "10    4568.195670\n",
       "11    3924.835446\n",
       "12    3747.413813\n",
       "Name: gallons_consumed, dtype: float64"
      ]
     },
     "execution_count": 5,
     "metadata": {},
     "output_type": "execute_result"
    }
   ],
   "source": [
    "saws_df.gallons_consumed.groupby(saws_df['year_month'].dt.month).mean()"
   ]
  },
  {
   "cell_type": "code",
   "execution_count": 6,
   "metadata": {},
   "outputs": [
    {
     "data": {
      "text/plain": [
       "array(['2017-01-01T00:00:00.000000000', '2017-02-01T00:00:00.000000000',\n",
       "       '2017-03-01T00:00:00.000000000', '2017-04-01T00:00:00.000000000',\n",
       "       '2017-05-01T00:00:00.000000000', '2017-06-01T00:00:00.000000000',\n",
       "       '2017-07-01T00:00:00.000000000', '2017-08-01T00:00:00.000000000',\n",
       "       '2017-09-01T00:00:00.000000000', '2017-10-01T00:00:00.000000000',\n",
       "       '2017-11-01T00:00:00.000000000', '2017-12-01T00:00:00.000000000',\n",
       "       '2018-01-01T00:00:00.000000000', '2018-02-01T00:00:00.000000000',\n",
       "       '2018-03-01T00:00:00.000000000', '2018-04-01T00:00:00.000000000',\n",
       "       '2018-05-01T00:00:00.000000000', '2018-06-01T00:00:00.000000000',\n",
       "       '2018-07-01T00:00:00.000000000', '2018-08-01T00:00:00.000000000',\n",
       "       '2018-09-01T00:00:00.000000000', '2018-10-01T00:00:00.000000000',\n",
       "       '2018-11-01T00:00:00.000000000', '2018-12-01T00:00:00.000000000',\n",
       "       '2019-01-01T00:00:00.000000000', '2019-02-01T00:00:00.000000000',\n",
       "       '2019-03-01T00:00:00.000000000', '2019-04-01T00:00:00.000000000',\n",
       "       '2019-05-01T00:00:00.000000000', '2019-06-01T00:00:00.000000000',\n",
       "       '2019-07-01T00:00:00.000000000', '2019-08-01T00:00:00.000000000',\n",
       "       '2019-09-01T00:00:00.000000000', '2019-10-01T00:00:00.000000000',\n",
       "       '2019-11-01T00:00:00.000000000', '2019-12-01T00:00:00.000000000',\n",
       "       '2020-01-01T00:00:00.000000000', '2020-02-01T00:00:00.000000000',\n",
       "       '2020-03-01T00:00:00.000000000', '2020-04-01T00:00:00.000000000',\n",
       "       '2020-05-01T00:00:00.000000000', '2020-06-01T00:00:00.000000000',\n",
       "       '2020-07-01T00:00:00.000000000', '2020-08-01T00:00:00.000000000',\n",
       "       '2020-09-01T00:00:00.000000000', '2020-10-01T00:00:00.000000000',\n",
       "       '2020-11-01T00:00:00.000000000', '2020-12-01T00:00:00.000000000'],\n",
       "      dtype='datetime64[ns]')"
      ]
     },
     "execution_count": 6,
     "metadata": {},
     "output_type": "execute_result"
    }
   ],
   "source": [
    "saws_df.year_month.unique()"
   ]
  },
  {
   "cell_type": "code",
   "execution_count": 7,
   "metadata": {},
   "outputs": [],
   "source": [
    "sound_df = wrangle.wrangle_sound()\n",
    "sound_df = sound_df.set_index('DateTime')\n",
    "sound_df = sound_df.sort_index()"
   ]
  },
  {
   "cell_type": "code",
   "execution_count": 8,
   "metadata": {},
   "outputs": [
    {
     "data": {
      "text/html": [
       "<div>\n",
       "<style scoped>\n",
       "    .dataframe tbody tr th:only-of-type {\n",
       "        vertical-align: middle;\n",
       "    }\n",
       "\n",
       "    .dataframe tbody tr th {\n",
       "        vertical-align: top;\n",
       "    }\n",
       "\n",
       "    .dataframe thead th {\n",
       "        text-align: right;\n",
       "    }\n",
       "</style>\n",
       "<table border=\"1\" class=\"dataframe\">\n",
       "  <thead>\n",
       "    <tr style=\"text-align: right;\">\n",
       "      <th></th>\n",
       "      <th>NoiseLevel_db</th>\n",
       "      <th>noise_level</th>\n",
       "    </tr>\n",
       "    <tr>\n",
       "      <th>DateTime</th>\n",
       "      <th></th>\n",
       "      <th></th>\n",
       "    </tr>\n",
       "  </thead>\n",
       "  <tbody>\n",
       "    <tr>\n",
       "      <th>2021-04-20 00:00:43</th>\n",
       "      <td>63</td>\n",
       "      <td>Moderate</td>\n",
       "    </tr>\n",
       "    <tr>\n",
       "      <th>2021-04-20 00:07:45</th>\n",
       "      <td>58</td>\n",
       "      <td>Moderate</td>\n",
       "    </tr>\n",
       "    <tr>\n",
       "      <th>2021-04-20 00:08:26</th>\n",
       "      <td>58</td>\n",
       "      <td>Moderate</td>\n",
       "    </tr>\n",
       "    <tr>\n",
       "      <th>2021-04-20 00:10:43</th>\n",
       "      <td>59</td>\n",
       "      <td>Moderate</td>\n",
       "    </tr>\n",
       "    <tr>\n",
       "      <th>2021-04-20 00:17:46</th>\n",
       "      <td>55</td>\n",
       "      <td>Moderate</td>\n",
       "    </tr>\n",
       "    <tr>\n",
       "      <th>...</th>\n",
       "      <td>...</td>\n",
       "      <td>...</td>\n",
       "    </tr>\n",
       "    <tr>\n",
       "      <th>2021-07-08 23:56:14</th>\n",
       "      <td>66</td>\n",
       "      <td>Moderate</td>\n",
       "    </tr>\n",
       "    <tr>\n",
       "      <th>2021-07-08 23:56:14</th>\n",
       "      <td>65</td>\n",
       "      <td>Moderate</td>\n",
       "    </tr>\n",
       "    <tr>\n",
       "      <th>2021-07-08 23:59:13</th>\n",
       "      <td>66</td>\n",
       "      <td>Moderate</td>\n",
       "    </tr>\n",
       "    <tr>\n",
       "      <th>2021-07-08 23:59:13</th>\n",
       "      <td>65</td>\n",
       "      <td>Moderate</td>\n",
       "    </tr>\n",
       "    <tr>\n",
       "      <th>2021-07-08 23:59:14</th>\n",
       "      <td>64</td>\n",
       "      <td>Moderate</td>\n",
       "    </tr>\n",
       "  </tbody>\n",
       "</table>\n",
       "<p>106287 rows × 2 columns</p>\n",
       "</div>"
      ],
      "text/plain": [
       "                     NoiseLevel_db noise_level\n",
       "DateTime                                      \n",
       "2021-04-20 00:00:43             63    Moderate\n",
       "2021-04-20 00:07:45             58    Moderate\n",
       "2021-04-20 00:08:26             58    Moderate\n",
       "2021-04-20 00:10:43             59    Moderate\n",
       "2021-04-20 00:17:46             55    Moderate\n",
       "...                            ...         ...\n",
       "2021-07-08 23:56:14             66    Moderate\n",
       "2021-07-08 23:56:14             65    Moderate\n",
       "2021-07-08 23:59:13             66    Moderate\n",
       "2021-07-08 23:59:13             65    Moderate\n",
       "2021-07-08 23:59:14             64    Moderate\n",
       "\n",
       "[106287 rows x 2 columns]"
      ]
     },
     "execution_count": 8,
     "metadata": {},
     "output_type": "execute_result"
    }
   ],
   "source": [
    "sound_df"
   ]
  },
  {
   "cell_type": "code",
   "execution_count": 9,
   "metadata": {},
   "outputs": [
    {
     "data": {
      "text/plain": [
       "[<matplotlib.lines.Line2D at 0x7fbe608729a0>]"
      ]
     },
     "execution_count": 9,
     "metadata": {},
     "output_type": "execute_result"
    },
    {
     "data": {
      "image/png": "[encoded data removed]",
      "text/plain": [
       "<Figure size 432x288 with 1 Axes>"
      ]
     },
     "metadata": {
      "needs_background": "light"
     },
     "output_type": "display_data"
    }
   ],
   "source": [
    "plt.plot(sound_df.index, sound_df.NoiseLevel_db)"
   ]
  },
  {
   "cell_type": "code",
   "execution_count": 10,
   "metadata": {},
   "outputs": [
    {
     "data": {
      "text/plain": [
       "[<matplotlib.lines.Line2D at 0x7fbe6148afd0>]"
      ]
     },
     "execution_count": 10,
     "metadata": {},
     "output_type": "execute_result"
    },
    {
     "data": {
      "image/png": "[encoded data removed]",
      "text/plain": [
       "<Figure size 432x288 with 1 Axes>"
      ]
     },
     "metadata": {
      "needs_background": "light"
     },
     "output_type": "display_data"
    }
   ],
   "source": [
    "plt.plot(sound_df.resample('D').mean())"
   ]
  },
  {
   "cell_type": "code",
   "execution_count": 11,
   "metadata": {},
   "outputs": [
    {
     "data": {
      "text/plain": [
       "[Text(0.5, 1.0, 'Average Noise Level by Hour'),\n",
       " Text(0.5, 0, 'Hour'),\n",
       " Text(0, 0.5, 'Decibels')]"
      ]
     },
     "execution_count": 11,
     "metadata": {},
     "output_type": "execute_result"
    },
    {
     "data": {
      "image/png": "[encoded data removed]",
      "text/plain": [
       "<Figure size 432x288 with 1 Axes>"
      ]
     },
     "metadata": {
      "needs_background": "light"
     },
     "output_type": "display_data"
    }
   ],
   "source": [
    "woosh = sound_df.resample('H').mean()\n",
    "ax = woosh.groupby(woosh.index.hour).mean().plot.bar(width=.9, ec='black')\n",
    "plt.xticks(rotation=0)\n",
    "ax.set(title='Average Noise Level by Hour', xlabel='Hour', ylabel='Decibels')"
   ]
  },
  {
   "cell_type": "code",
   "execution_count": 12,
   "metadata": {},
   "outputs": [
    {
     "data": {
      "text/plain": [
       "[Text(0.5, 1.0, 'Average Noise Level by Day of Week'),\n",
       " Text(0.5, 0, 'Day of Week'),\n",
       " Text(0, 0.5, 'Decibels')]"
      ]
     },
     "execution_count": 12,
     "metadata": {},
     "output_type": "execute_result"
    },
    {
     "data": {
      "image/png": "[encoded data removed]",
      "text/plain": [
       "<Figure size 432x288 with 1 Axes>"
      ]
     },
     "metadata": {
      "needs_background": "light"
     },
     "output_type": "display_data"
    }
   ],
   "source": [
    "ax = sound_df.groupby(sound_df.index.day_name()).mean().plot.bar(width=.9, ec='black')\n",
    "plt.xticks(rotation=0)\n",
    "ax.set(title='Average Noise Level by Day of Week', xlabel='Day of Week', ylabel='Decibels')"
   ]
  },
  {
   "cell_type": "code",
   "execution_count": 13,
   "metadata": {},
   "outputs": [],
   "source": [
    "flood_df = wrangle.clean_flood()\n",
    "flood_df = flood_df.set_index('datetime')"
   ]
  },
  {
   "cell_type": "code",
   "execution_count": 14,
   "metadata": {},
   "outputs": [
    {
     "data": {
      "text/plain": [
       "[<matplotlib.lines.Line2D at 0x7fbe611c9dc0>,\n",
       " <matplotlib.lines.Line2D at 0x7fbe60e6a340>,\n",
       " <matplotlib.lines.Line2D at 0x7fbe60e6a280>,\n",
       " <matplotlib.lines.Line2D at 0x7fbe60e6a160>,\n",
       " <matplotlib.lines.Line2D at 0x7fbe60e6a3d0>,\n",
       " <matplotlib.lines.Line2D at 0x7fbe60e6a490>]"
      ]
     },
     "execution_count": 14,
     "metadata": {},
     "output_type": "execute_result"
    },
    {
     "data": {
      "image/png": "[encoded data removed]",
      "text/plain": [
       "<Figure size 432x288 with 1 Axes>"
      ]
     },
     "metadata": {
      "needs_background": "light"
     },
     "output_type": "display_data"
    }
   ],
   "source": [
    "plt.plot(flood_df.resample('D').mean())"
   ]
  },
  {
   "cell_type": "code",
   "execution_count": 15,
   "metadata": {},
   "outputs": [
    {
     "data": {
      "text/html": [
       "<div>\n",
       "<style scoped>\n",
       "    .dataframe tbody tr th:only-of-type {\n",
       "        vertical-align: middle;\n",
       "    }\n",
       "\n",
       "    .dataframe tbody tr th {\n",
       "        vertical-align: top;\n",
       "    }\n",
       "\n",
       "    .dataframe thead th {\n",
       "        text-align: right;\n",
       "    }\n",
       "</style>\n",
       "<table border=\"1\" class=\"dataframe\">\n",
       "  <thead>\n",
       "    <tr style=\"text-align: right;\">\n",
       "      <th></th>\n",
       "      <th>sensor_to_water_feet</th>\n",
       "      <th>sensor_to_water_meters</th>\n",
       "      <th>sensor_to_ground_feet</th>\n",
       "      <th>sensor_to_ground_meters</th>\n",
       "      <th>flood_depth_feet</th>\n",
       "      <th>flood_depth_meters</th>\n",
       "    </tr>\n",
       "    <tr>\n",
       "      <th>datetime</th>\n",
       "      <th></th>\n",
       "      <th></th>\n",
       "      <th></th>\n",
       "      <th></th>\n",
       "      <th></th>\n",
       "      <th></th>\n",
       "    </tr>\n",
       "  </thead>\n",
       "  <tbody>\n",
       "    <tr>\n",
       "      <th>2021-05-20 00:11:55</th>\n",
       "      <td>13.188976</td>\n",
       "      <td>4.0200</td>\n",
       "      <td>13.500656</td>\n",
       "      <td>4.115</td>\n",
       "      <td>0.311680</td>\n",
       "      <td>0.0950</td>\n",
       "    </tr>\n",
       "    <tr>\n",
       "      <th>2021-05-20 00:26:55</th>\n",
       "      <td>13.254593</td>\n",
       "      <td>4.0400</td>\n",
       "      <td>13.500656</td>\n",
       "      <td>4.115</td>\n",
       "      <td>0.246063</td>\n",
       "      <td>0.0750</td>\n",
       "    </tr>\n",
       "    <tr>\n",
       "      <th>2021-05-20 00:41:55</th>\n",
       "      <td>13.221785</td>\n",
       "      <td>4.0300</td>\n",
       "      <td>13.500656</td>\n",
       "      <td>4.115</td>\n",
       "      <td>0.278871</td>\n",
       "      <td>0.0850</td>\n",
       "    </tr>\n",
       "    <tr>\n",
       "      <th>2021-05-20 00:56:55</th>\n",
       "      <td>13.221785</td>\n",
       "      <td>4.0300</td>\n",
       "      <td>13.500656</td>\n",
       "      <td>4.115</td>\n",
       "      <td>0.278871</td>\n",
       "      <td>0.0850</td>\n",
       "    </tr>\n",
       "    <tr>\n",
       "      <th>2021-05-20 01:11:55</th>\n",
       "      <td>13.221785</td>\n",
       "      <td>4.0300</td>\n",
       "      <td>13.500656</td>\n",
       "      <td>4.115</td>\n",
       "      <td>0.278871</td>\n",
       "      <td>0.0850</td>\n",
       "    </tr>\n",
       "    <tr>\n",
       "      <th>...</th>\n",
       "      <td>...</td>\n",
       "      <td>...</td>\n",
       "      <td>...</td>\n",
       "      <td>...</td>\n",
       "      <td>...</td>\n",
       "      <td>...</td>\n",
       "    </tr>\n",
       "    <tr>\n",
       "      <th>2021-07-08 23:35:00</th>\n",
       "      <td>0.216700</td>\n",
       "      <td>0.0660</td>\n",
       "      <td>0.000000</td>\n",
       "      <td>0.000</td>\n",
       "      <td>-0.216700</td>\n",
       "      <td>-0.0660</td>\n",
       "    </tr>\n",
       "    <tr>\n",
       "      <th>2021-07-08 23:40:00</th>\n",
       "      <td>0.216700</td>\n",
       "      <td>0.0660</td>\n",
       "      <td>0.000000</td>\n",
       "      <td>0.000</td>\n",
       "      <td>-0.216700</td>\n",
       "      <td>-0.0660</td>\n",
       "    </tr>\n",
       "    <tr>\n",
       "      <th>2021-07-08 23:45:00</th>\n",
       "      <td>0.233300</td>\n",
       "      <td>0.0711</td>\n",
       "      <td>0.000000</td>\n",
       "      <td>0.000</td>\n",
       "      <td>-0.233300</td>\n",
       "      <td>-0.0711</td>\n",
       "    </tr>\n",
       "    <tr>\n",
       "      <th>2021-07-08 23:50:00</th>\n",
       "      <td>0.250000</td>\n",
       "      <td>0.0762</td>\n",
       "      <td>0.000000</td>\n",
       "      <td>0.000</td>\n",
       "      <td>-0.250000</td>\n",
       "      <td>-0.0762</td>\n",
       "    </tr>\n",
       "    <tr>\n",
       "      <th>2021-07-08 23:55:00</th>\n",
       "      <td>0.258300</td>\n",
       "      <td>0.0787</td>\n",
       "      <td>0.000000</td>\n",
       "      <td>0.000</td>\n",
       "      <td>-0.258300</td>\n",
       "      <td>-0.0787</td>\n",
       "    </tr>\n",
       "  </tbody>\n",
       "</table>\n",
       "<p>27554 rows × 6 columns</p>\n",
       "</div>"
      ],
      "text/plain": [
       "                     sensor_to_water_feet  sensor_to_water_meters  \\\n",
       "datetime                                                            \n",
       "2021-05-20 00:11:55             13.188976                  4.0200   \n",
       "2021-05-20 00:26:55             13.254593                  4.0400   \n",
       "2021-05-20 00:41:55             13.221785                  4.0300   \n",
       "2021-05-20 00:56:55             13.221785                  4.0300   \n",
       "2021-05-20 01:11:55             13.221785                  4.0300   \n",
       "...                                   ...                     ...   \n",
       "2021-07-08 23:35:00              0.216700                  0.0660   \n",
       "2021-07-08 23:40:00              0.216700                  0.0660   \n",
       "2021-07-08 23:45:00              0.233300                  0.0711   \n",
       "2021-07-08 23:50:00              0.250000                  0.0762   \n",
       "2021-07-08 23:55:00              0.258300                  0.0787   \n",
       "\n",
       "                     sensor_to_ground_feet  sensor_to_ground_meters  \\\n",
       "datetime                                                              \n",
       "2021-05-20 00:11:55              13.500656                    4.115   \n",
       "2021-05-20 00:26:55              13.500656                    4.115   \n",
       "2021-05-20 00:41:55              13.500656                    4.115   \n",
       "2021-05-20 00:56:55              13.500656                    4.115   \n",
       "2021-05-20 01:11:55              13.500656                    4.115   \n",
       "...                                    ...                      ...   \n",
       "2021-07-08 23:35:00               0.000000                    0.000   \n",
       "2021-07-08 23:40:00               0.000000                    0.000   \n",
       "2021-07-08 23:45:00               0.000000                    0.000   \n",
       "2021-07-08 23:50:00               0.000000                    0.000   \n",
       "2021-07-08 23:55:00               0.000000                    0.000   \n",
       "\n",
       "                     flood_depth_feet  flood_depth_meters  \n",
       "datetime                                                   \n",
       "2021-05-20 00:11:55          0.311680              0.0950  \n",
       "2021-05-20 00:26:55          0.246063              0.0750  \n",
       "2021-05-20 00:41:55          0.278871              0.0850  \n",
       "2021-05-20 00:56:55          0.278871              0.0850  \n",
       "2021-05-20 01:11:55          0.278871              0.0850  \n",
       "...                               ...                 ...  \n",
       "2021-07-08 23:35:00         -0.216700             -0.0660  \n",
       "2021-07-08 23:40:00         -0.216700             -0.0660  \n",
       "2021-07-08 23:45:00         -0.233300             -0.0711  \n",
       "2021-07-08 23:50:00         -0.250000             -0.0762  \n",
       "2021-07-08 23:55:00         -0.258300             -0.0787  \n",
       "\n",
       "[27554 rows x 6 columns]"
      ]
     },
     "execution_count": 15,
     "metadata": {},
     "output_type": "execute_result"
    }
   ],
   "source": [
    "flood_df"
   ]
  },
  {
   "cell_type": "code",
   "execution_count": 16,
   "metadata": {},
   "outputs": [],
   "source": [
    "air_df = wrangle.clean_air()\n",
    "air_df.datetime = pd.to_datetime(air_df.datetime)\n",
    "air_df = air_df.set_index('datetime')\n",
    "air_df = air_df.sort_index()\n",
    "air1_df = air_df[(air_df['Pm1_0'] < 500) & (air_df['Pm1_0'] > -50)]"
   ]
  },
  {
   "cell_type": "code",
   "execution_count": 17,
   "metadata": {},
   "outputs": [
    {
     "data": {
      "text/plain": [
       "[<matplotlib.lines.Line2D at 0x7fbe60a6d550>]"
      ]
     },
     "execution_count": 17,
     "metadata": {},
     "output_type": "execute_result"
    },
    {
     "data": {
      "image/png": "[encoded data removed]",
      "text/plain": [
       "<Figure size 432x288 with 1 Axes>"
      ]
     },
     "metadata": {
      "needs_background": "light"
     },
     "output_type": "display_data"
    }
   ],
   "source": [
    "plt.plot(air1_df.index, air1_df.Pm1_0)"
   ]
  },
  {
   "cell_type": "code",
   "execution_count": 18,
   "metadata": {},
   "outputs": [
    {
     "data": {
      "text/plain": [
       "[<matplotlib.lines.Line2D at 0x7fbe60cc4f10>]"
      ]
     },
     "execution_count": 18,
     "metadata": {},
     "output_type": "execute_result"
    },
    {
     "data": {
      "image/png": "[encoded data removed]",
      "text/plain": [
       "<Figure size 432x288 with 1 Axes>"
      ]
     },
     "metadata": {
      "needs_background": "light"
     },
     "output_type": "display_data"
    }
   ],
   "source": [
    "air25_df = air_df[(air_df['Pm2_5'] < 500) & (air_df['Pm2_5'] > -50)]\n",
    "plt.plot(air25_df.index, air25_df.Pm2_5)"
   ]
  },
  {
   "cell_type": "code",
   "execution_count": 19,
   "metadata": {},
   "outputs": [
    {
     "data": {
      "text/plain": [
       "[<matplotlib.lines.Line2D at 0x7fbe62641340>]"
      ]
     },
     "execution_count": 19,
     "metadata": {},
     "output_type": "execute_result"
    },
    {
     "data": {
      "image/png": "[encoded data removed]",
      "text/plain": [
       "<Figure size 432x288 with 1 Axes>"
      ]
     },
     "metadata": {
      "needs_background": "light"
     },
     "output_type": "display_data"
    }
   ],
   "source": [
    "air10_df = air_df[(air_df['Pm10'] < 500) & (air_df['Pm10'] > -50)]\n",
    "plt.plot(air10_df.index, air10_df.Pm10)"
   ]
  },
  {
   "cell_type": "code",
   "execution_count": 20,
   "metadata": {},
   "outputs": [
    {
     "data": {
      "text/plain": [
       "[<matplotlib.lines.Line2D at 0x7fbe62635fd0>]"
      ]
     },
     "execution_count": 20,
     "metadata": {},
     "output_type": "execute_result"
    },
    {
     "data": {
      "image/png": "[encoded data removed]",
      "text/plain": [
       "<Figure size 432x288 with 1 Axes>"
      ]
     },
     "metadata": {
      "needs_background": "light"
     },
     "output_type": "display_data"
    }
   ],
   "source": [
    "plt.plot(air_df.index, air_df.SO2)"
   ]
  },
  {
   "cell_type": "code",
   "execution_count": 21,
   "metadata": {},
   "outputs": [
    {
     "data": {
      "text/plain": [
       "[<matplotlib.lines.Line2D at 0x7fbe46f9f430>]"
      ]
     },
     "execution_count": 21,
     "metadata": {},
     "output_type": "execute_result"
    },
    {
     "data": {
      "image/png": "[encoded data removed]",
      "text/plain": [
       "<Figure size 432x288 with 1 Axes>"
      ]
     },
     "metadata": {
      "needs_background": "light"
     },
     "output_type": "display_data"
    }
   ],
   "source": [
    "plt.plot(air_df.index, air_df.O3)"
   ]
  },
  {
   "cell_type": "code",
   "execution_count": 22,
   "metadata": {},
   "outputs": [
    {
     "data": {
      "text/plain": [
       "[<matplotlib.lines.Line2D at 0x7fbe60ca10d0>]"
      ]
     },
     "execution_count": 22,
     "metadata": {},
     "output_type": "execute_result"
    },
    {
     "data": {
      "image/png": "[encoded data removed]",
      "text/plain": [
       "<Figure size 432x288 with 1 Axes>"
      ]
     },
     "metadata": {
      "needs_background": "light"
     },
     "output_type": "display_data"
    }
   ],
   "source": [
    "plt.plot(air_df.index, air_df.CO)"
   ]
  },
  {
   "cell_type": "code",
   "execution_count": 23,
   "metadata": {},
   "outputs": [
    {
     "data": {
      "text/plain": [
       "[<matplotlib.lines.Line2D at 0x7fbe612f7d00>]"
      ]
     },
     "execution_count": 23,
     "metadata": {},
     "output_type": "execute_result"
    },
    {
     "data": {
      "image/png": "[encoded data removed]",
      "text/plain": [
       "<Figure size 432x288 with 1 Axes>"
      ]
     },
     "metadata": {
      "needs_background": "light"
     },
     "output_type": "display_data"
    }
   ],
   "source": [
    "plt.plot(air_df.index, air_df.NO2)"
   ]
  },
  {
   "cell_type": "code",
   "execution_count": 24,
   "metadata": {},
   "outputs": [],
   "source": [
    "weather_df = wrangle.wrangle_weather()"
   ]
  },
  {
   "cell_type": "code",
   "execution_count": 25,
   "metadata": {},
   "outputs": [
    {
     "data": {
      "text/plain": [
       "0"
      ]
     },
     "execution_count": 25,
     "metadata": {},
     "output_type": "execute_result"
    }
   ],
   "source": [
    "weather_df.dewpoint_celsius.isna().sum()"
   ]
  },
  {
   "cell_type": "code",
   "execution_count": 26,
   "metadata": {},
   "outputs": [],
   "source": [
    "weather_df['wind'] = weather_df['wind'].str.extract('(\\d+)', expand=False)\n",
    "weather_df['visibility'] = weather_df['visibility'].str.extract('(\\d+)', expand=False)\n",
    "weather_df['wind'] = weather_df['wind'].fillna(0)\n",
    "weather_df['wind'] = weather_df['wind'].apply(lambda x: int(x))\n",
    "weather_df['visibility'] = weather_df['visibility'].apply(lambda x: int(x))"
   ]
  },
  {
   "cell_type": "code",
   "execution_count": 27,
   "metadata": {},
   "outputs": [
    {
     "data": {
      "text/html": [
       "<div>\n",
       "<style scoped>\n",
       "    .dataframe tbody tr th:only-of-type {\n",
       "        vertical-align: middle;\n",
       "    }\n",
       "\n",
       "    .dataframe tbody tr th {\n",
       "        vertical-align: top;\n",
       "    }\n",
       "\n",
       "    .dataframe thead th {\n",
       "        text-align: right;\n",
       "    }\n",
       "</style>\n",
       "<table border=\"1\" class=\"dataframe\">\n",
       "  <thead>\n",
       "    <tr style=\"text-align: right;\">\n",
       "      <th></th>\n",
       "      <th>celsius</th>\n",
       "      <th>farenheit</th>\n",
       "      <th>humidity</th>\n",
       "      <th>dewpoint_celsius</th>\n",
       "      <th>dewpoint_farenheit</th>\n",
       "      <th>pressure</th>\n",
       "      <th>wind</th>\n",
       "      <th>visibility</th>\n",
       "    </tr>\n",
       "  </thead>\n",
       "  <tbody>\n",
       "    <tr>\n",
       "      <th>count</th>\n",
       "      <td>125956.000000</td>\n",
       "      <td>125956.000000</td>\n",
       "      <td>125956.000000</td>\n",
       "      <td>125956.000000</td>\n",
       "      <td>125956.000000</td>\n",
       "      <td>125956.000000</td>\n",
       "      <td>125956.000000</td>\n",
       "      <td>125956.000000</td>\n",
       "    </tr>\n",
       "    <tr>\n",
       "      <th>mean</th>\n",
       "      <td>26.874559</td>\n",
       "      <td>80.357244</td>\n",
       "      <td>72.845417</td>\n",
       "      <td>17.168157</td>\n",
       "      <td>57.171157</td>\n",
       "      <td>802.154355</td>\n",
       "      <td>9.152966</td>\n",
       "      <td>9.503549</td>\n",
       "    </tr>\n",
       "    <tr>\n",
       "      <th>std</th>\n",
       "      <td>5.460621</td>\n",
       "      <td>9.810163</td>\n",
       "      <td>17.901945</td>\n",
       "      <td>8.587488</td>\n",
       "      <td>27.271507</td>\n",
       "      <td>374.900004</td>\n",
       "      <td>4.602754</td>\n",
       "      <td>1.556126</td>\n",
       "    </tr>\n",
       "    <tr>\n",
       "      <th>min</th>\n",
       "      <td>-307.000000</td>\n",
       "      <td>-521.000000</td>\n",
       "      <td>14.000000</td>\n",
       "      <td>-307.111201</td>\n",
       "      <td>-520.800163</td>\n",
       "      <td>0.000000</td>\n",
       "      <td>0.000000</td>\n",
       "      <td>0.000000</td>\n",
       "    </tr>\n",
       "    <tr>\n",
       "      <th>25%</th>\n",
       "      <td>24.000000</td>\n",
       "      <td>74.000000</td>\n",
       "      <td>59.940000</td>\n",
       "      <td>17.253116</td>\n",
       "      <td>63.055609</td>\n",
       "      <td>973.000000</td>\n",
       "      <td>6.000000</td>\n",
       "      <td>10.000000</td>\n",
       "    </tr>\n",
       "    <tr>\n",
       "      <th>50%</th>\n",
       "      <td>26.000000</td>\n",
       "      <td>78.530000</td>\n",
       "      <td>78.000000</td>\n",
       "      <td>20.932030</td>\n",
       "      <td>69.677654</td>\n",
       "      <td>976.000000</td>\n",
       "      <td>9.000000</td>\n",
       "      <td>10.000000</td>\n",
       "    </tr>\n",
       "    <tr>\n",
       "      <th>75%</th>\n",
       "      <td>30.000000</td>\n",
       "      <td>86.000000</td>\n",
       "      <td>88.000000</td>\n",
       "      <td>22.620397</td>\n",
       "      <td>72.716714</td>\n",
       "      <td>979.000000</td>\n",
       "      <td>12.000000</td>\n",
       "      <td>10.000000</td>\n",
       "    </tr>\n",
       "    <tr>\n",
       "      <th>max</th>\n",
       "      <td>180.000000</td>\n",
       "      <td>355.000000</td>\n",
       "      <td>121.000000</td>\n",
       "      <td>176.094879</td>\n",
       "      <td>348.970782</td>\n",
       "      <td>5076.000000</td>\n",
       "      <td>30.000000</td>\n",
       "      <td>10.000000</td>\n",
       "    </tr>\n",
       "  </tbody>\n",
       "</table>\n",
       "</div>"
      ],
      "text/plain": [
       "             celsius      farenheit       humidity  dewpoint_celsius  \\\n",
       "count  125956.000000  125956.000000  125956.000000     125956.000000   \n",
       "mean       26.874559      80.357244      72.845417         17.168157   \n",
       "std         5.460621       9.810163      17.901945          8.587488   \n",
       "min      -307.000000    -521.000000      14.000000       -307.111201   \n",
       "25%        24.000000      74.000000      59.940000         17.253116   \n",
       "50%        26.000000      78.530000      78.000000         20.932030   \n",
       "75%        30.000000      86.000000      88.000000         22.620397   \n",
       "max       180.000000     355.000000     121.000000        176.094879   \n",
       "\n",
       "       dewpoint_farenheit       pressure           wind     visibility  \n",
       "count       125956.000000  125956.000000  125956.000000  125956.000000  \n",
       "mean            57.171157     802.154355       9.152966       9.503549  \n",
       "std             27.271507     374.900004       4.602754       1.556126  \n",
       "min           -520.800163       0.000000       0.000000       0.000000  \n",
       "25%             63.055609     973.000000       6.000000      10.000000  \n",
       "50%             69.677654     976.000000       9.000000      10.000000  \n",
       "75%             72.716714     979.000000      12.000000      10.000000  \n",
       "max            348.970782    5076.000000      30.000000      10.000000  "
      ]
     },
     "execution_count": 27,
     "metadata": {},
     "output_type": "execute_result"
    }
   ],
   "source": [
    "weather_df.describe()"
   ]
  },
  {
   "cell_type": "code",
   "execution_count": 28,
   "metadata": {},
   "outputs": [
    {
     "data": {
      "text/html": [
       "<div>\n",
       "<style scoped>\n",
       "    .dataframe tbody tr th:only-of-type {\n",
       "        vertical-align: middle;\n",
       "    }\n",
       "\n",
       "    .dataframe tbody tr th {\n",
       "        vertical-align: top;\n",
       "    }\n",
       "\n",
       "    .dataframe thead th {\n",
       "        text-align: right;\n",
       "    }\n",
       "</style>\n",
       "<table border=\"1\" class=\"dataframe\">\n",
       "  <thead>\n",
       "    <tr style=\"text-align: right;\">\n",
       "      <th></th>\n",
       "      <th>sensor_to_water_feet</th>\n",
       "      <th>sensor_to_water_meters</th>\n",
       "      <th>sensor_to_ground_feet</th>\n",
       "      <th>sensor_to_ground_meters</th>\n",
       "      <th>flood_depth_feet</th>\n",
       "      <th>flood_depth_meters</th>\n",
       "    </tr>\n",
       "  </thead>\n",
       "  <tbody>\n",
       "    <tr>\n",
       "      <th>count</th>\n",
       "      <td>27554.000000</td>\n",
       "      <td>27554.000000</td>\n",
       "      <td>27554.000000</td>\n",
       "      <td>27554.000000</td>\n",
       "      <td>27554.000000</td>\n",
       "      <td>27554.000000</td>\n",
       "    </tr>\n",
       "    <tr>\n",
       "      <th>mean</th>\n",
       "      <td>3.762779</td>\n",
       "      <td>1.146894</td>\n",
       "      <td>3.703689</td>\n",
       "      <td>1.128885</td>\n",
       "      <td>-0.059089</td>\n",
       "      <td>-0.018010</td>\n",
       "    </tr>\n",
       "    <tr>\n",
       "      <th>std</th>\n",
       "      <td>5.675450</td>\n",
       "      <td>1.729878</td>\n",
       "      <td>6.023806</td>\n",
       "      <td>1.836056</td>\n",
       "      <td>0.486085</td>\n",
       "      <td>0.148158</td>\n",
       "    </tr>\n",
       "    <tr>\n",
       "      <th>min</th>\n",
       "      <td>0.000000</td>\n",
       "      <td>0.000000</td>\n",
       "      <td>0.000000</td>\n",
       "      <td>0.000000</td>\n",
       "      <td>-6.516700</td>\n",
       "      <td>-1.986300</td>\n",
       "    </tr>\n",
       "    <tr>\n",
       "      <th>25%</th>\n",
       "      <td>0.225000</td>\n",
       "      <td>0.068600</td>\n",
       "      <td>0.000000</td>\n",
       "      <td>0.000000</td>\n",
       "      <td>-0.266700</td>\n",
       "      <td>-0.081300</td>\n",
       "    </tr>\n",
       "    <tr>\n",
       "      <th>50%</th>\n",
       "      <td>0.275000</td>\n",
       "      <td>0.083800</td>\n",
       "      <td>0.000000</td>\n",
       "      <td>0.000000</td>\n",
       "      <td>-0.216700</td>\n",
       "      <td>-0.066000</td>\n",
       "    </tr>\n",
       "    <tr>\n",
       "      <th>75%</th>\n",
       "      <td>12.860892</td>\n",
       "      <td>3.920000</td>\n",
       "      <td>13.500656</td>\n",
       "      <td>4.115000</td>\n",
       "      <td>0.344488</td>\n",
       "      <td>0.105000</td>\n",
       "    </tr>\n",
       "    <tr>\n",
       "      <th>max</th>\n",
       "      <td>13.484252</td>\n",
       "      <td>4.110000</td>\n",
       "      <td>13.500656</td>\n",
       "      <td>4.115000</td>\n",
       "      <td>13.500656</td>\n",
       "      <td>4.115000</td>\n",
       "    </tr>\n",
       "  </tbody>\n",
       "</table>\n",
       "</div>"
      ],
      "text/plain": [
       "       sensor_to_water_feet  sensor_to_water_meters  sensor_to_ground_feet  \\\n",
       "count          27554.000000            27554.000000           27554.000000   \n",
       "mean               3.762779                1.146894               3.703689   \n",
       "std                5.675450                1.729878               6.023806   \n",
       "min                0.000000                0.000000               0.000000   \n",
       "25%                0.225000                0.068600               0.000000   \n",
       "50%                0.275000                0.083800               0.000000   \n",
       "75%               12.860892                3.920000              13.500656   \n",
       "max               13.484252                4.110000              13.500656   \n",
       "\n",
       "       sensor_to_ground_meters  flood_depth_feet  flood_depth_meters  \n",
       "count             27554.000000      27554.000000        27554.000000  \n",
       "mean                  1.128885         -0.059089           -0.018010  \n",
       "std                   1.836056          0.486085            0.148158  \n",
       "min                   0.000000         -6.516700           -1.986300  \n",
       "25%                   0.000000         -0.266700           -0.081300  \n",
       "50%                   0.000000         -0.216700           -0.066000  \n",
       "75%                   4.115000          0.344488            0.105000  \n",
       "max                   4.115000         13.500656            4.115000  "
      ]
     },
     "execution_count": 28,
     "metadata": {},
     "output_type": "execute_result"
    }
   ],
   "source": [
    "flood_df.describe()"
   ]
  },
  {
   "cell_type": "code",
   "execution_count": 29,
   "metadata": {},
   "outputs": [
    {
     "data": {
      "text/html": [
       "<div>\n",
       "<style scoped>\n",
       "    .dataframe tbody tr th:only-of-type {\n",
       "        vertical-align: middle;\n",
       "    }\n",
       "\n",
       "    .dataframe tbody tr th {\n",
       "        vertical-align: top;\n",
       "    }\n",
       "\n",
       "    .dataframe thead th {\n",
       "        text-align: right;\n",
       "    }\n",
       "</style>\n",
       "<table border=\"1\" class=\"dataframe\">\n",
       "  <thead>\n",
       "    <tr style=\"text-align: right;\">\n",
       "      <th></th>\n",
       "      <th>NoiseLevel_db</th>\n",
       "    </tr>\n",
       "  </thead>\n",
       "  <tbody>\n",
       "    <tr>\n",
       "      <th>count</th>\n",
       "      <td>106287.000000</td>\n",
       "    </tr>\n",
       "    <tr>\n",
       "      <th>mean</th>\n",
       "      <td>63.731388</td>\n",
       "    </tr>\n",
       "    <tr>\n",
       "      <th>std</th>\n",
       "      <td>6.253899</td>\n",
       "    </tr>\n",
       "    <tr>\n",
       "      <th>min</th>\n",
       "      <td>49.000000</td>\n",
       "    </tr>\n",
       "    <tr>\n",
       "      <th>25%</th>\n",
       "      <td>59.000000</td>\n",
       "    </tr>\n",
       "    <tr>\n",
       "      <th>50%</th>\n",
       "      <td>64.000000</td>\n",
       "    </tr>\n",
       "    <tr>\n",
       "      <th>75%</th>\n",
       "      <td>68.000000</td>\n",
       "    </tr>\n",
       "    <tr>\n",
       "      <th>max</th>\n",
       "      <td>111.000000</td>\n",
       "    </tr>\n",
       "  </tbody>\n",
       "</table>\n",
       "</div>"
      ],
      "text/plain": [
       "       NoiseLevel_db\n",
       "count  106287.000000\n",
       "mean       63.731388\n",
       "std         6.253899\n",
       "min        49.000000\n",
       "25%        59.000000\n",
       "50%        64.000000\n",
       "75%        68.000000\n",
       "max       111.000000"
      ]
     },
     "execution_count": 29,
     "metadata": {},
     "output_type": "execute_result"
    }
   ],
   "source": [
    "sound_df.describe()"
   ]
  },
  {
   "cell_type": "code",
   "execution_count": 30,
   "metadata": {},
   "outputs": [
    {
     "data": {
      "text/html": [
       "<div>\n",
       "<style scoped>\n",
       "    .dataframe tbody tr th:only-of-type {\n",
       "        vertical-align: middle;\n",
       "    }\n",
       "\n",
       "    .dataframe tbody tr th {\n",
       "        vertical-align: top;\n",
       "    }\n",
       "\n",
       "    .dataframe thead th {\n",
       "        text-align: right;\n",
       "    }\n",
       "</style>\n",
       "<table border=\"1\" class=\"dataframe\">\n",
       "  <thead>\n",
       "    <tr style=\"text-align: right;\">\n",
       "      <th></th>\n",
       "      <th>Pm1_0</th>\n",
       "      <th>Pm2_5</th>\n",
       "      <th>Pm10</th>\n",
       "      <th>SO2</th>\n",
       "      <th>O3</th>\n",
       "      <th>CO</th>\n",
       "      <th>NO2</th>\n",
       "      <th>hour</th>\n",
       "      <th>weekday</th>\n",
       "      <th>CO_24hr</th>\n",
       "      <th>Pm_25_24hr</th>\n",
       "      <th>Pm_10_24hr</th>\n",
       "    </tr>\n",
       "  </thead>\n",
       "  <tbody>\n",
       "    <tr>\n",
       "      <th>count</th>\n",
       "      <td>106287.000000</td>\n",
       "      <td>106287.000000</td>\n",
       "      <td>106287.000000</td>\n",
       "      <td>106287.000000</td>\n",
       "      <td>106287.000000</td>\n",
       "      <td>106287.000000</td>\n",
       "      <td>106287.000000</td>\n",
       "      <td>106287.000000</td>\n",
       "      <td>106287.00000</td>\n",
       "      <td>106287.000000</td>\n",
       "      <td>106287.000000</td>\n",
       "      <td>106287.000000</td>\n",
       "    </tr>\n",
       "    <tr>\n",
       "      <th>mean</th>\n",
       "      <td>21.380564</td>\n",
       "      <td>13.072906</td>\n",
       "      <td>12.010302</td>\n",
       "      <td>0.000292</td>\n",
       "      <td>6.262544</td>\n",
       "      <td>0.179702</td>\n",
       "      <td>1.581764</td>\n",
       "      <td>11.369415</td>\n",
       "      <td>2.95737</td>\n",
       "      <td>0.179702</td>\n",
       "      <td>13.072906</td>\n",
       "      <td>12.010302</td>\n",
       "    </tr>\n",
       "    <tr>\n",
       "      <th>std</th>\n",
       "      <td>897.298097</td>\n",
       "      <td>165.756299</td>\n",
       "      <td>86.612107</td>\n",
       "      <td>0.035638</td>\n",
       "      <td>15.068418</td>\n",
       "      <td>1.102288</td>\n",
       "      <td>3.211028</td>\n",
       "      <td>6.863005</td>\n",
       "      <td>2.00543</td>\n",
       "      <td>0.178548</td>\n",
       "      <td>16.503164</td>\n",
       "      <td>8.523272</td>\n",
       "    </tr>\n",
       "    <tr>\n",
       "      <th>min</th>\n",
       "      <td>0.000000</td>\n",
       "      <td>0.000000</td>\n",
       "      <td>0.000000</td>\n",
       "      <td>0.000000</td>\n",
       "      <td>0.000000</td>\n",
       "      <td>0.000000</td>\n",
       "      <td>0.000000</td>\n",
       "      <td>0.000000</td>\n",
       "      <td>0.00000</td>\n",
       "      <td>0.000000</td>\n",
       "      <td>0.000000</td>\n",
       "      <td>0.000000</td>\n",
       "    </tr>\n",
       "    <tr>\n",
       "      <th>25%</th>\n",
       "      <td>3.000000</td>\n",
       "      <td>4.000000</td>\n",
       "      <td>4.000000</td>\n",
       "      <td>0.000000</td>\n",
       "      <td>0.000000</td>\n",
       "      <td>0.000000</td>\n",
       "      <td>0.000000</td>\n",
       "      <td>5.000000</td>\n",
       "      <td>1.00000</td>\n",
       "      <td>0.069444</td>\n",
       "      <td>5.991898</td>\n",
       "      <td>6.766204</td>\n",
       "    </tr>\n",
       "    <tr>\n",
       "      <th>50%</th>\n",
       "      <td>6.000000</td>\n",
       "      <td>7.000000</td>\n",
       "      <td>9.000000</td>\n",
       "      <td>0.000000</td>\n",
       "      <td>0.000000</td>\n",
       "      <td>0.000000</td>\n",
       "      <td>0.000000</td>\n",
       "      <td>11.000000</td>\n",
       "      <td>3.00000</td>\n",
       "      <td>0.119792</td>\n",
       "      <td>8.115741</td>\n",
       "      <td>9.270255</td>\n",
       "    </tr>\n",
       "    <tr>\n",
       "      <th>75%</th>\n",
       "      <td>12.000000</td>\n",
       "      <td>13.000000</td>\n",
       "      <td>16.000000</td>\n",
       "      <td>0.000000</td>\n",
       "      <td>0.000000</td>\n",
       "      <td>0.000000</td>\n",
       "      <td>1.000000</td>\n",
       "      <td>17.000000</td>\n",
       "      <td>5.00000</td>\n",
       "      <td>0.213889</td>\n",
       "      <td>13.141204</td>\n",
       "      <td>14.222801</td>\n",
       "    </tr>\n",
       "    <tr>\n",
       "      <th>max</th>\n",
       "      <td>65288.000000</td>\n",
       "      <td>16387.000000</td>\n",
       "      <td>16180.000000</td>\n",
       "      <td>6.000000</td>\n",
       "      <td>117.530000</td>\n",
       "      <td>129.000000</td>\n",
       "      <td>36.000000</td>\n",
       "      <td>23.000000</td>\n",
       "      <td>6.00000</td>\n",
       "      <td>0.833333</td>\n",
       "      <td>96.275942</td>\n",
       "      <td>51.232295</td>\n",
       "    </tr>\n",
       "  </tbody>\n",
       "</table>\n",
       "</div>"
      ],
      "text/plain": [
       "               Pm1_0          Pm2_5           Pm10            SO2  \\\n",
       "count  106287.000000  106287.000000  106287.000000  106287.000000   \n",
       "mean       21.380564      13.072906      12.010302       0.000292   \n",
       "std       897.298097     165.756299      86.612107       0.035638   \n",
       "min         0.000000       0.000000       0.000000       0.000000   \n",
       "25%         3.000000       4.000000       4.000000       0.000000   \n",
       "50%         6.000000       7.000000       9.000000       0.000000   \n",
       "75%        12.000000      13.000000      16.000000       0.000000   \n",
       "max     65288.000000   16387.000000   16180.000000       6.000000   \n",
       "\n",
       "                  O3             CO            NO2           hour  \\\n",
       "count  106287.000000  106287.000000  106287.000000  106287.000000   \n",
       "mean        6.262544       0.179702       1.581764      11.369415   \n",
       "std        15.068418       1.102288       3.211028       6.863005   \n",
       "min         0.000000       0.000000       0.000000       0.000000   \n",
       "25%         0.000000       0.000000       0.000000       5.000000   \n",
       "50%         0.000000       0.000000       0.000000      11.000000   \n",
       "75%         0.000000       0.000000       1.000000      17.000000   \n",
       "max       117.530000     129.000000      36.000000      23.000000   \n",
       "\n",
       "            weekday        CO_24hr     Pm_25_24hr     Pm_10_24hr  \n",
       "count  106287.00000  106287.000000  106287.000000  106287.000000  \n",
       "mean        2.95737       0.179702      13.072906      12.010302  \n",
       "std         2.00543       0.178548      16.503164       8.523272  \n",
       "min         0.00000       0.000000       0.000000       0.000000  \n",
       "25%         1.00000       0.069444       5.991898       6.766204  \n",
       "50%         3.00000       0.119792       8.115741       9.270255  \n",
       "75%         5.00000       0.213889      13.141204      14.222801  \n",
       "max         6.00000       0.833333      96.275942      51.232295  "
      ]
     },
     "execution_count": 30,
     "metadata": {},
     "output_type": "execute_result"
    }
   ],
   "source": [
    "air_df.describe()"
   ]
  },
  {
   "cell_type": "code",
   "execution_count": 31,
   "metadata": {},
   "outputs": [],
   "source": [
    "weather_day_df = weather_df.resample('D', on='datetime').mean()\n",
    "flood_day_df = flood_df.resample('D').mean()\n",
    "sound_day_df = sound_df.resample('D').mean()\n",
    "air_day_df = air_df.resample('D').mean().drop(columns = ['hour', 'weekday', 'CO_24hr', 'Pm_25_24hr', 'Pm_10_24hr', 'SO2', 'O3', 'NO2'])"
   ]
  },
  {
   "cell_type": "code",
   "execution_count": 32,
   "metadata": {},
   "outputs": [
    {
     "data": {
      "text/html": [
       "<div>\n",
       "<style scoped>\n",
       "    .dataframe tbody tr th:only-of-type {\n",
       "        vertical-align: middle;\n",
       "    }\n",
       "\n",
       "    .dataframe tbody tr th {\n",
       "        vertical-align: top;\n",
       "    }\n",
       "\n",
       "    .dataframe thead th {\n",
       "        text-align: right;\n",
       "    }\n",
       "</style>\n",
       "<table border=\"1\" class=\"dataframe\">\n",
       "  <thead>\n",
       "    <tr style=\"text-align: right;\">\n",
       "      <th></th>\n",
       "      <th>Pm1_0</th>\n",
       "      <th>Pm2_5</th>\n",
       "      <th>Pm10</th>\n",
       "      <th>CO</th>\n",
       "    </tr>\n",
       "    <tr>\n",
       "      <th>datetime</th>\n",
       "      <th></th>\n",
       "      <th></th>\n",
       "      <th></th>\n",
       "      <th></th>\n",
       "    </tr>\n",
       "  </thead>\n",
       "  <tbody>\n",
       "    <tr>\n",
       "      <th>2021-04-20</th>\n",
       "      <td>5.193732</td>\n",
       "      <td>8.022792</td>\n",
       "      <td>7.324786</td>\n",
       "      <td>0.299145</td>\n",
       "    </tr>\n",
       "    <tr>\n",
       "      <th>2021-04-21</th>\n",
       "      <td>2.968750</td>\n",
       "      <td>3.616477</td>\n",
       "      <td>4.460227</td>\n",
       "      <td>0.144886</td>\n",
       "    </tr>\n",
       "    <tr>\n",
       "      <th>2021-04-22</th>\n",
       "      <td>16.866477</td>\n",
       "      <td>18.247159</td>\n",
       "      <td>22.963068</td>\n",
       "      <td>0.056818</td>\n",
       "    </tr>\n",
       "    <tr>\n",
       "      <th>2021-04-23</th>\n",
       "      <td>18.123563</td>\n",
       "      <td>19.209770</td>\n",
       "      <td>23.916667</td>\n",
       "      <td>0.166667</td>\n",
       "    </tr>\n",
       "    <tr>\n",
       "      <th>2021-04-24</th>\n",
       "      <td>3.804533</td>\n",
       "      <td>4.458924</td>\n",
       "      <td>51.232295</td>\n",
       "      <td>0.405099</td>\n",
       "    </tr>\n",
       "    <tr>\n",
       "      <th>...</th>\n",
       "      <td>...</td>\n",
       "      <td>...</td>\n",
       "      <td>...</td>\n",
       "      <td>...</td>\n",
       "    </tr>\n",
       "    <tr>\n",
       "      <th>2021-07-04</th>\n",
       "      <td>5.982609</td>\n",
       "      <td>6.902029</td>\n",
       "      <td>8.548986</td>\n",
       "      <td>0.069565</td>\n",
       "    </tr>\n",
       "    <tr>\n",
       "      <th>2021-07-05</th>\n",
       "      <td>10.007536</td>\n",
       "      <td>10.895072</td>\n",
       "      <td>13.280580</td>\n",
       "      <td>0.069565</td>\n",
       "    </tr>\n",
       "    <tr>\n",
       "      <th>2021-07-06</th>\n",
       "      <td>9.242319</td>\n",
       "      <td>10.684638</td>\n",
       "      <td>12.732174</td>\n",
       "      <td>0.022609</td>\n",
       "    </tr>\n",
       "    <tr>\n",
       "      <th>2021-07-07</th>\n",
       "      <td>27.766204</td>\n",
       "      <td>4.502894</td>\n",
       "      <td>5.549190</td>\n",
       "      <td>0.046296</td>\n",
       "    </tr>\n",
       "    <tr>\n",
       "      <th>2021-07-08</th>\n",
       "      <td>3.528696</td>\n",
       "      <td>3.906087</td>\n",
       "      <td>4.773333</td>\n",
       "      <td>0.023188</td>\n",
       "    </tr>\n",
       "  </tbody>\n",
       "</table>\n",
       "<p>80 rows × 4 columns</p>\n",
       "</div>"
      ],
      "text/plain": [
       "                Pm1_0      Pm2_5       Pm10        CO\n",
       "datetime                                             \n",
       "2021-04-20   5.193732   8.022792   7.324786  0.299145\n",
       "2021-04-21   2.968750   3.616477   4.460227  0.144886\n",
       "2021-04-22  16.866477  18.247159  22.963068  0.056818\n",
       "2021-04-23  18.123563  19.209770  23.916667  0.166667\n",
       "2021-04-24   3.804533   4.458924  51.232295  0.405099\n",
       "...               ...        ...        ...       ...\n",
       "2021-07-04   5.982609   6.902029   8.548986  0.069565\n",
       "2021-07-05  10.007536  10.895072  13.280580  0.069565\n",
       "2021-07-06   9.242319  10.684638  12.732174  0.022609\n",
       "2021-07-07  27.766204   4.502894   5.549190  0.046296\n",
       "2021-07-08   3.528696   3.906087   4.773333  0.023188\n",
       "\n",
       "[80 rows x 4 columns]"
      ]
     },
     "execution_count": 32,
     "metadata": {},
     "output_type": "execute_result"
    }
   ],
   "source": [
    "air_day_df"
   ]
  },
  {
   "cell_type": "code",
   "execution_count": 33,
   "metadata": {},
   "outputs": [],
   "source": [
    "air2_5 = air_df.drop(air_df.columns.difference(['Pm2_5', 'AQI_pm2_5']), 1)\n",
    "air10 = air_df.drop(air_df.columns.difference(['Pm10', 'AQI_pm10']), 1)\n",
    "airCO = air_df.drop(air_df.columns.difference(['CO', 'AQI_CO']), 1)"
   ]
  },
  {
   "cell_type": "code",
   "execution_count": 34,
   "metadata": {},
   "outputs": [],
   "source": [
    "series2_5 = air2_5.resample('D').max().rename(columns = {'AQI_pm2_5': 'most_hazardous_pm2.5_level'})['most_hazardous_pm2.5_level']\n",
    "series10 = air10.resample('D').max().rename(columns = {'AQI_pm10': 'most_hazardous_pm10_level'})['most_hazardous_pm10_level']\n",
    "seriesCO = airCO.resample('D').max().rename(columns = {'AQI_CO': 'most_hazardous_CO_level'})['most_hazardous_CO_level']"
   ]
  },
  {
   "cell_type": "code",
   "execution_count": 35,
   "metadata": {},
   "outputs": [
    {
     "data": {
      "text/plain": [
       "datetime\n",
       "2021-04-20                         Hazardous\n",
       "2021-04-21                         Unhealthy\n",
       "2021-04-22    Unhealthy for Sensitive Groups\n",
       "2021-04-23    Unhealthy for Sensitive Groups\n",
       "2021-04-24                          Moderate\n",
       "                           ...              \n",
       "2021-07-04                          Moderate\n",
       "2021-07-05                          Moderate\n",
       "2021-07-06    Unhealthy for Sensitive Groups\n",
       "2021-07-07                              Good\n",
       "2021-07-08                              Good\n",
       "Freq: D, Name: most_hazardous_pm2.5_level, Length: 80, dtype: category\n",
       "Categories (6, object): ['Good' < 'Moderate' < 'Unhealthy for Sensitive Groups' < 'Unhealthy' < 'Very Unhealthy' < 'Hazardous']"
      ]
     },
     "execution_count": 35,
     "metadata": {},
     "output_type": "execute_result"
    }
   ],
   "source": [
    "series2_5"
   ]
  },
  {
   "cell_type": "code",
   "execution_count": 36,
   "metadata": {},
   "outputs": [
    {
     "data": {
      "text/plain": [
       "datetime\n",
       "2021-04-20        Good\n",
       "2021-04-21    Moderate\n",
       "2021-04-22    Moderate\n",
       "2021-04-23    Moderate\n",
       "2021-04-24        Good\n",
       "                ...   \n",
       "2021-07-04        Good\n",
       "2021-07-05        Good\n",
       "2021-07-06        Good\n",
       "2021-07-07        Good\n",
       "2021-07-08        Good\n",
       "Freq: D, Name: most_hazardous_pm10_level, Length: 80, dtype: category\n",
       "Categories (6, object): ['Good' < 'Moderate' < 'Unhealthy for Sensitive Groups' < 'Unhealthy' < 'Very Unhealthy' < 'Hazardous']"
      ]
     },
     "execution_count": 36,
     "metadata": {},
     "output_type": "execute_result"
    }
   ],
   "source": [
    "series10"
   ]
  },
  {
   "cell_type": "code",
   "execution_count": 37,
   "metadata": {},
   "outputs": [
    {
     "data": {
      "text/plain": [
       "datetime\n",
       "2021-04-20         Good\n",
       "2021-04-21         Good\n",
       "2021-04-22         Good\n",
       "2021-04-23         Good\n",
       "2021-04-24    Hazardous\n",
       "                ...    \n",
       "2021-07-04         Good\n",
       "2021-07-05         Good\n",
       "2021-07-06         Good\n",
       "2021-07-07         Good\n",
       "2021-07-08         Good\n",
       "Freq: D, Name: most_hazardous_CO_level, Length: 80, dtype: category\n",
       "Categories (6, object): ['Good' < 'Moderate' < 'Unhealthy for Sensitive Groups' < 'Unhealthy' < 'Very Unhealthy' < 'Hazardous']"
      ]
     },
     "execution_count": 37,
     "metadata": {},
     "output_type": "execute_result"
    }
   ],
   "source": [
    "seriesCO"
   ]
  },
  {
   "cell_type": "code",
   "execution_count": 38,
   "metadata": {},
   "outputs": [],
   "source": [
    "hazards = pd.DataFrame(series2_5).join(series10).join(seriesCO)"
   ]
  },
  {
   "cell_type": "code",
   "execution_count": 39,
   "metadata": {},
   "outputs": [
    {
     "data": {
      "text/html": [
       "<div>\n",
       "<style scoped>\n",
       "    .dataframe tbody tr th:only-of-type {\n",
       "        vertical-align: middle;\n",
       "    }\n",
       "\n",
       "    .dataframe tbody tr th {\n",
       "        vertical-align: top;\n",
       "    }\n",
       "\n",
       "    .dataframe thead th {\n",
       "        text-align: right;\n",
       "    }\n",
       "</style>\n",
       "<table border=\"1\" class=\"dataframe\">\n",
       "  <thead>\n",
       "    <tr style=\"text-align: right;\">\n",
       "      <th></th>\n",
       "      <th>most_hazardous_pm2.5_level</th>\n",
       "      <th>most_hazardous_pm10_level</th>\n",
       "      <th>most_hazardous_CO_level</th>\n",
       "    </tr>\n",
       "    <tr>\n",
       "      <th>datetime</th>\n",
       "      <th></th>\n",
       "      <th></th>\n",
       "      <th></th>\n",
       "    </tr>\n",
       "  </thead>\n",
       "  <tbody>\n",
       "    <tr>\n",
       "      <th>2021-04-20</th>\n",
       "      <td>Hazardous</td>\n",
       "      <td>Good</td>\n",
       "      <td>Good</td>\n",
       "    </tr>\n",
       "    <tr>\n",
       "      <th>2021-04-21</th>\n",
       "      <td>Unhealthy</td>\n",
       "      <td>Moderate</td>\n",
       "      <td>Good</td>\n",
       "    </tr>\n",
       "    <tr>\n",
       "      <th>2021-04-22</th>\n",
       "      <td>Unhealthy for Sensitive Groups</td>\n",
       "      <td>Moderate</td>\n",
       "      <td>Good</td>\n",
       "    </tr>\n",
       "    <tr>\n",
       "      <th>2021-04-23</th>\n",
       "      <td>Unhealthy for Sensitive Groups</td>\n",
       "      <td>Moderate</td>\n",
       "      <td>Good</td>\n",
       "    </tr>\n",
       "    <tr>\n",
       "      <th>2021-04-24</th>\n",
       "      <td>Moderate</td>\n",
       "      <td>Good</td>\n",
       "      <td>Hazardous</td>\n",
       "    </tr>\n",
       "    <tr>\n",
       "      <th>...</th>\n",
       "      <td>...</td>\n",
       "      <td>...</td>\n",
       "      <td>...</td>\n",
       "    </tr>\n",
       "    <tr>\n",
       "      <th>2021-07-04</th>\n",
       "      <td>Moderate</td>\n",
       "      <td>Good</td>\n",
       "      <td>Good</td>\n",
       "    </tr>\n",
       "    <tr>\n",
       "      <th>2021-07-05</th>\n",
       "      <td>Moderate</td>\n",
       "      <td>Good</td>\n",
       "      <td>Good</td>\n",
       "    </tr>\n",
       "    <tr>\n",
       "      <th>2021-07-06</th>\n",
       "      <td>Unhealthy for Sensitive Groups</td>\n",
       "      <td>Good</td>\n",
       "      <td>Good</td>\n",
       "    </tr>\n",
       "    <tr>\n",
       "      <th>2021-07-07</th>\n",
       "      <td>Good</td>\n",
       "      <td>Good</td>\n",
       "      <td>Good</td>\n",
       "    </tr>\n",
       "    <tr>\n",
       "      <th>2021-07-08</th>\n",
       "      <td>Good</td>\n",
       "      <td>Good</td>\n",
       "      <td>Good</td>\n",
       "    </tr>\n",
       "  </tbody>\n",
       "</table>\n",
       "<p>80 rows × 3 columns</p>\n",
       "</div>"
      ],
      "text/plain": [
       "                most_hazardous_pm2.5_level most_hazardous_pm10_level  \\\n",
       "datetime                                                               \n",
       "2021-04-20                       Hazardous                      Good   \n",
       "2021-04-21                       Unhealthy                  Moderate   \n",
       "2021-04-22  Unhealthy for Sensitive Groups                  Moderate   \n",
       "2021-04-23  Unhealthy for Sensitive Groups                  Moderate   \n",
       "2021-04-24                        Moderate                      Good   \n",
       "...                                    ...                       ...   \n",
       "2021-07-04                        Moderate                      Good   \n",
       "2021-07-05                        Moderate                      Good   \n",
       "2021-07-06  Unhealthy for Sensitive Groups                      Good   \n",
       "2021-07-07                            Good                      Good   \n",
       "2021-07-08                            Good                      Good   \n",
       "\n",
       "           most_hazardous_CO_level  \n",
       "datetime                            \n",
       "2021-04-20                    Good  \n",
       "2021-04-21                    Good  \n",
       "2021-04-22                    Good  \n",
       "2021-04-23                    Good  \n",
       "2021-04-24               Hazardous  \n",
       "...                            ...  \n",
       "2021-07-04                    Good  \n",
       "2021-07-05                    Good  \n",
       "2021-07-06                    Good  \n",
       "2021-07-07                    Good  \n",
       "2021-07-08                    Good  \n",
       "\n",
       "[80 rows x 3 columns]"
      ]
     },
     "execution_count": 39,
     "metadata": {},
     "output_type": "execute_result"
    }
   ],
   "source": [
    "hazards"
   ]
  },
  {
   "cell_type": "code",
   "execution_count": 40,
   "metadata": {},
   "outputs": [],
   "source": [
    "def full_daily_COSA_dataframe():\n",
    "    sound_df = wrangle.wrangle_sound()\n",
    "    sound_df = sound_df.set_index('DateTime')\n",
    "    sound_df = sound_df.sort_index()\n",
    "    flood_df = wrangle.clean_flood()\n",
    "    flood_df = flood_df.set_index('datetime')\n",
    "    weather_df = wrangle.wrangle_weather()\n",
    "    air_df = wrangle.clean_air()\n",
    "    air_df.datetime = pd.to_datetime(air_df.datetime)\n",
    "    air_df = air_df.set_index('datetime')\n",
    "    air_df = air_df.sort_index()\n",
    "    weather_day_df = weather_df.resample('D', on='datetime').mean()\n",
    "    flood_day_df = flood_df.resample('D').mean()\n",
    "    sound_day_df = sound_df.resample('D').mean()\n",
    "    air_day_df = air_df.resample('D').mean().drop(columns = ['hour', 'weekday', 'CO_24hr', 'Pm_25_24hr', 'Pm_10_24hr', 'SO2', 'O3', 'NO2'])\n",
    "    air2_5 = air_df.drop(air_df.columns.difference(['Pm2_5', 'AQI_pm2_5']), 1)\n",
    "    air10 = air_df.drop(air_df.columns.difference(['Pm10', 'AQI_pm10']), 1)\n",
    "    airCO = air_df.drop(air_df.columns.difference(['CO', 'AQI_CO']), 1)\n",
    "    series2_5 = air2_5.resample('D').max().rename(columns = {'AQI_pm2_5': 'most_hazardous_pm2.5_level'})['most_hazardous_pm2.5_level']\n",
    "    series10 = air10.resample('D').max().rename(columns = {'AQI_pm10': 'most_hazardous_pm10_level'})['most_hazardous_pm10_level']\n",
    "    seriesCO = airCO.resample('D').max().rename(columns = {'AQI_CO': 'most_hazardous_CO_level'})['most_hazardous_CO_level']\n",
    "    hazards = pd.DataFrame(series2_5).join(series10).join(seriesCO)\n",
    "    df = weather_day_df.join(air_day_df).join(hazards).join(sound_day_df).join(flood_day_df)\n",
    "    df = df.round({'celsius': 2, 'farenheit': 2, 'humidity': 2, 'dewpoint_celsius': 2, 'dewpoint_farenheit': 2,\n",
    "          'pressure': 2, 'NoiseLevel_db': 2, 'sensor_to_water_feet': 2, 'sensor_to_water_meters': 2,\n",
    "          'sensor_to_ground_feet': 2, 'sensor_to_ground_meters': 2, 'flood_depth_feet': 2,\n",
    "          'flood_depth_meters': 2})\n",
    "    return df"
   ]
  },
  {
   "cell_type": "code",
   "execution_count": 41,
   "metadata": {},
   "outputs": [],
   "source": [
    "df = wrangle.full_daily_COSA_dataframe()"
   ]
  },
  {
   "cell_type": "code",
   "execution_count": 42,
   "metadata": {},
   "outputs": [
    {
     "data": {
      "text/html": [
       "<div>\n",
       "<style scoped>\n",
       "    .dataframe tbody tr th:only-of-type {\n",
       "        vertical-align: middle;\n",
       "    }\n",
       "\n",
       "    .dataframe tbody tr th {\n",
       "        vertical-align: top;\n",
       "    }\n",
       "\n",
       "    .dataframe thead th {\n",
       "        text-align: right;\n",
       "    }\n",
       "</style>\n",
       "<table border=\"1\" class=\"dataframe\">\n",
       "  <thead>\n",
       "    <tr style=\"text-align: right;\">\n",
       "      <th></th>\n",
       "      <th>celsius</th>\n",
       "      <th>farenheit</th>\n",
       "      <th>humidity</th>\n",
       "      <th>dewpoint_celsius</th>\n",
       "      <th>dewpoint_farenheit</th>\n",
       "      <th>pressure</th>\n",
       "      <th>Pm1_0</th>\n",
       "      <th>Pm2_5</th>\n",
       "      <th>Pm10</th>\n",
       "      <th>CO</th>\n",
       "      <th>most_hazardous_pm2.5_level</th>\n",
       "      <th>most_hazardous_pm10_level</th>\n",
       "      <th>most_hazardous_CO_level</th>\n",
       "      <th>NoiseLevel_db</th>\n",
       "      <th>sensor_to_water_feet</th>\n",
       "      <th>sensor_to_water_meters</th>\n",
       "      <th>sensor_to_ground_feet</th>\n",
       "      <th>sensor_to_ground_meters</th>\n",
       "      <th>flood_depth_feet</th>\n",
       "      <th>flood_depth_meters</th>\n",
       "      <th>AQI_CO</th>\n",
       "      <th>AQI_pm2_5</th>\n",
       "      <th>AQI_pm10</th>\n",
       "    </tr>\n",
       "    <tr>\n",
       "      <th>datetime</th>\n",
       "      <th></th>\n",
       "      <th></th>\n",
       "      <th></th>\n",
       "      <th></th>\n",
       "      <th></th>\n",
       "      <th></th>\n",
       "      <th></th>\n",
       "      <th></th>\n",
       "      <th></th>\n",
       "      <th></th>\n",
       "      <th></th>\n",
       "      <th></th>\n",
       "      <th></th>\n",
       "      <th></th>\n",
       "      <th></th>\n",
       "      <th></th>\n",
       "      <th></th>\n",
       "      <th></th>\n",
       "      <th></th>\n",
       "      <th></th>\n",
       "      <th></th>\n",
       "      <th></th>\n",
       "      <th></th>\n",
       "    </tr>\n",
       "  </thead>\n",
       "  <tbody>\n",
       "    <tr>\n",
       "      <th>2021-04-20</th>\n",
       "      <td>20.89</td>\n",
       "      <td>69.56</td>\n",
       "      <td>45.79</td>\n",
       "      <td>7.67</td>\n",
       "      <td>45.80</td>\n",
       "      <td>988.08</td>\n",
       "      <td>5.193732</td>\n",
       "      <td>8.022792</td>\n",
       "      <td>7.324786</td>\n",
       "      <td>0.299145</td>\n",
       "      <td>Hazardous</td>\n",
       "      <td>Good</td>\n",
       "      <td>Good</td>\n",
       "      <td>66.23</td>\n",
       "      <td>13.24</td>\n",
       "      <td>4.04</td>\n",
       "      <td>13.50</td>\n",
       "      <td>4.12</td>\n",
       "      <td>0.26</td>\n",
       "      <td>0.08</td>\n",
       "      <td>Good</td>\n",
       "      <td>Good</td>\n",
       "      <td>Good</td>\n",
       "    </tr>\n",
       "    <tr>\n",
       "      <th>2021-04-21</th>\n",
       "      <td>15.32</td>\n",
       "      <td>59.60</td>\n",
       "      <td>36.49</td>\n",
       "      <td>-0.31</td>\n",
       "      <td>31.43</td>\n",
       "      <td>985.50</td>\n",
       "      <td>2.968750</td>\n",
       "      <td>3.616477</td>\n",
       "      <td>4.460227</td>\n",
       "      <td>0.144886</td>\n",
       "      <td>Unhealthy</td>\n",
       "      <td>Moderate</td>\n",
       "      <td>Good</td>\n",
       "      <td>66.66</td>\n",
       "      <td>13.34</td>\n",
       "      <td>4.07</td>\n",
       "      <td>13.50</td>\n",
       "      <td>4.12</td>\n",
       "      <td>0.16</td>\n",
       "      <td>0.05</td>\n",
       "      <td>Good</td>\n",
       "      <td>Good</td>\n",
       "      <td>Good</td>\n",
       "    </tr>\n",
       "    <tr>\n",
       "      <th>2021-04-22</th>\n",
       "      <td>16.00</td>\n",
       "      <td>60.85</td>\n",
       "      <td>67.74</td>\n",
       "      <td>9.64</td>\n",
       "      <td>49.35</td>\n",
       "      <td>979.65</td>\n",
       "      <td>16.866477</td>\n",
       "      <td>18.247159</td>\n",
       "      <td>22.963068</td>\n",
       "      <td>0.056818</td>\n",
       "      <td>Unhealthy for Sensitive Groups</td>\n",
       "      <td>Moderate</td>\n",
       "      <td>Good</td>\n",
       "      <td>66.20</td>\n",
       "      <td>13.30</td>\n",
       "      <td>4.05</td>\n",
       "      <td>13.50</td>\n",
       "      <td>4.12</td>\n",
       "      <td>0.21</td>\n",
       "      <td>0.06</td>\n",
       "      <td>Good</td>\n",
       "      <td>Moderate</td>\n",
       "      <td>Good</td>\n",
       "    </tr>\n",
       "    <tr>\n",
       "      <th>2021-04-23</th>\n",
       "      <td>22.51</td>\n",
       "      <td>72.46</td>\n",
       "      <td>85.76</td>\n",
       "      <td>19.65</td>\n",
       "      <td>67.37</td>\n",
       "      <td>971.28</td>\n",
       "      <td>18.123563</td>\n",
       "      <td>19.209770</td>\n",
       "      <td>23.916667</td>\n",
       "      <td>0.166667</td>\n",
       "      <td>Unhealthy for Sensitive Groups</td>\n",
       "      <td>Moderate</td>\n",
       "      <td>Good</td>\n",
       "      <td>66.40</td>\n",
       "      <td>13.00</td>\n",
       "      <td>3.96</td>\n",
       "      <td>13.50</td>\n",
       "      <td>4.12</td>\n",
       "      <td>0.50</td>\n",
       "      <td>0.15</td>\n",
       "      <td>Good</td>\n",
       "      <td>Moderate</td>\n",
       "      <td>Good</td>\n",
       "    </tr>\n",
       "    <tr>\n",
       "      <th>2021-04-24</th>\n",
       "      <td>24.97</td>\n",
       "      <td>76.97</td>\n",
       "      <td>50.29</td>\n",
       "      <td>10.99</td>\n",
       "      <td>51.78</td>\n",
       "      <td>974.48</td>\n",
       "      <td>3.804533</td>\n",
       "      <td>4.458924</td>\n",
       "      <td>51.232295</td>\n",
       "      <td>0.405099</td>\n",
       "      <td>Moderate</td>\n",
       "      <td>Good</td>\n",
       "      <td>Hazardous</td>\n",
       "      <td>64.81</td>\n",
       "      <td>13.13</td>\n",
       "      <td>4.00</td>\n",
       "      <td>13.50</td>\n",
       "      <td>4.12</td>\n",
       "      <td>0.37</td>\n",
       "      <td>0.11</td>\n",
       "      <td>Good</td>\n",
       "      <td>Good</td>\n",
       "      <td>Good</td>\n",
       "    </tr>\n",
       "    <tr>\n",
       "      <th>...</th>\n",
       "      <td>...</td>\n",
       "      <td>...</td>\n",
       "      <td>...</td>\n",
       "      <td>...</td>\n",
       "      <td>...</td>\n",
       "      <td>...</td>\n",
       "      <td>...</td>\n",
       "      <td>...</td>\n",
       "      <td>...</td>\n",
       "      <td>...</td>\n",
       "      <td>...</td>\n",
       "      <td>...</td>\n",
       "      <td>...</td>\n",
       "      <td>...</td>\n",
       "      <td>...</td>\n",
       "      <td>...</td>\n",
       "      <td>...</td>\n",
       "      <td>...</td>\n",
       "      <td>...</td>\n",
       "      <td>...</td>\n",
       "      <td>...</td>\n",
       "      <td>...</td>\n",
       "      <td>...</td>\n",
       "    </tr>\n",
       "    <tr>\n",
       "      <th>2021-07-04</th>\n",
       "      <td>27.62</td>\n",
       "      <td>81.82</td>\n",
       "      <td>77.85</td>\n",
       "      <td>19.10</td>\n",
       "      <td>61.03</td>\n",
       "      <td>813.44</td>\n",
       "      <td>5.982609</td>\n",
       "      <td>6.902029</td>\n",
       "      <td>8.548986</td>\n",
       "      <td>0.069565</td>\n",
       "      <td>Moderate</td>\n",
       "      <td>Good</td>\n",
       "      <td>Good</td>\n",
       "      <td>60.49</td>\n",
       "      <td>3.45</td>\n",
       "      <td>1.05</td>\n",
       "      <td>3.38</td>\n",
       "      <td>1.03</td>\n",
       "      <td>-0.08</td>\n",
       "      <td>-0.02</td>\n",
       "      <td>Good</td>\n",
       "      <td>Good</td>\n",
       "      <td>Good</td>\n",
       "    </tr>\n",
       "    <tr>\n",
       "      <th>2021-07-05</th>\n",
       "      <td>27.75</td>\n",
       "      <td>81.94</td>\n",
       "      <td>77.98</td>\n",
       "      <td>19.20</td>\n",
       "      <td>61.23</td>\n",
       "      <td>813.53</td>\n",
       "      <td>10.007536</td>\n",
       "      <td>10.895072</td>\n",
       "      <td>13.280580</td>\n",
       "      <td>0.069565</td>\n",
       "      <td>Moderate</td>\n",
       "      <td>Good</td>\n",
       "      <td>Good</td>\n",
       "      <td>61.75</td>\n",
       "      <td>3.46</td>\n",
       "      <td>1.06</td>\n",
       "      <td>3.35</td>\n",
       "      <td>1.02</td>\n",
       "      <td>-0.12</td>\n",
       "      <td>-0.04</td>\n",
       "      <td>Good</td>\n",
       "      <td>Good</td>\n",
       "      <td>Good</td>\n",
       "    </tr>\n",
       "    <tr>\n",
       "      <th>2021-07-06</th>\n",
       "      <td>25.34</td>\n",
       "      <td>77.71</td>\n",
       "      <td>88.19</td>\n",
       "      <td>19.22</td>\n",
       "      <td>61.21</td>\n",
       "      <td>811.91</td>\n",
       "      <td>9.242319</td>\n",
       "      <td>10.684638</td>\n",
       "      <td>12.732174</td>\n",
       "      <td>0.022609</td>\n",
       "      <td>Unhealthy for Sensitive Groups</td>\n",
       "      <td>Good</td>\n",
       "      <td>Good</td>\n",
       "      <td>64.71</td>\n",
       "      <td>3.82</td>\n",
       "      <td>1.16</td>\n",
       "      <td>3.38</td>\n",
       "      <td>1.03</td>\n",
       "      <td>-0.44</td>\n",
       "      <td>-0.13</td>\n",
       "      <td>Good</td>\n",
       "      <td>Good</td>\n",
       "      <td>Good</td>\n",
       "    </tr>\n",
       "    <tr>\n",
       "      <th>2021-07-07</th>\n",
       "      <td>25.84</td>\n",
       "      <td>78.53</td>\n",
       "      <td>80.76</td>\n",
       "      <td>18.35</td>\n",
       "      <td>59.68</td>\n",
       "      <td>812.89</td>\n",
       "      <td>27.766204</td>\n",
       "      <td>4.502894</td>\n",
       "      <td>5.549190</td>\n",
       "      <td>0.046296</td>\n",
       "      <td>Good</td>\n",
       "      <td>Good</td>\n",
       "      <td>Good</td>\n",
       "      <td>64.51</td>\n",
       "      <td>3.45</td>\n",
       "      <td>1.05</td>\n",
       "      <td>3.35</td>\n",
       "      <td>1.02</td>\n",
       "      <td>-0.10</td>\n",
       "      <td>-0.03</td>\n",
       "      <td>Good</td>\n",
       "      <td>Good</td>\n",
       "      <td>Good</td>\n",
       "    </tr>\n",
       "    <tr>\n",
       "      <th>2021-07-08</th>\n",
       "      <td>26.05</td>\n",
       "      <td>78.98</td>\n",
       "      <td>78.94</td>\n",
       "      <td>18.23</td>\n",
       "      <td>59.48</td>\n",
       "      <td>812.93</td>\n",
       "      <td>3.528696</td>\n",
       "      <td>3.906087</td>\n",
       "      <td>4.773333</td>\n",
       "      <td>0.023188</td>\n",
       "      <td>Good</td>\n",
       "      <td>Good</td>\n",
       "      <td>Good</td>\n",
       "      <td>64.15</td>\n",
       "      <td>3.43</td>\n",
       "      <td>1.04</td>\n",
       "      <td>3.38</td>\n",
       "      <td>1.03</td>\n",
       "      <td>-0.05</td>\n",
       "      <td>-0.02</td>\n",
       "      <td>Good</td>\n",
       "      <td>Good</td>\n",
       "      <td>Good</td>\n",
       "    </tr>\n",
       "  </tbody>\n",
       "</table>\n",
       "<p>80 rows × 23 columns</p>\n",
       "</div>"
      ],
      "text/plain": [
       "            celsius  farenheit  humidity  dewpoint_celsius  \\\n",
       "datetime                                                     \n",
       "2021-04-20    20.89      69.56     45.79              7.67   \n",
       "2021-04-21    15.32      59.60     36.49             -0.31   \n",
       "2021-04-22    16.00      60.85     67.74              9.64   \n",
       "2021-04-23    22.51      72.46     85.76             19.65   \n",
       "2021-04-24    24.97      76.97     50.29             10.99   \n",
       "...             ...        ...       ...               ...   \n",
       "2021-07-04    27.62      81.82     77.85             19.10   \n",
       "2021-07-05    27.75      81.94     77.98             19.20   \n",
       "2021-07-06    25.34      77.71     88.19             19.22   \n",
       "2021-07-07    25.84      78.53     80.76             18.35   \n",
       "2021-07-08    26.05      78.98     78.94             18.23   \n",
       "\n",
       "            dewpoint_farenheit  pressure      Pm1_0      Pm2_5       Pm10  \\\n",
       "datetime                                                                    \n",
       "2021-04-20               45.80    988.08   5.193732   8.022792   7.324786   \n",
       "2021-04-21               31.43    985.50   2.968750   3.616477   4.460227   \n",
       "2021-04-22               49.35    979.65  16.866477  18.247159  22.963068   \n",
       "2021-04-23               67.37    971.28  18.123563  19.209770  23.916667   \n",
       "2021-04-24               51.78    974.48   3.804533   4.458924  51.232295   \n",
       "...                        ...       ...        ...        ...        ...   \n",
       "2021-07-04               61.03    813.44   5.982609   6.902029   8.548986   \n",
       "2021-07-05               61.23    813.53  10.007536  10.895072  13.280580   \n",
       "2021-07-06               61.21    811.91   9.242319  10.684638  12.732174   \n",
       "2021-07-07               59.68    812.89  27.766204   4.502894   5.549190   \n",
       "2021-07-08               59.48    812.93   3.528696   3.906087   4.773333   \n",
       "\n",
       "                  CO      most_hazardous_pm2.5_level  \\\n",
       "datetime                                               \n",
       "2021-04-20  0.299145                       Hazardous   \n",
       "2021-04-21  0.144886                       Unhealthy   \n",
       "2021-04-22  0.056818  Unhealthy for Sensitive Groups   \n",
       "2021-04-23  0.166667  Unhealthy for Sensitive Groups   \n",
       "2021-04-24  0.405099                        Moderate   \n",
       "...              ...                             ...   \n",
       "2021-07-04  0.069565                        Moderate   \n",
       "2021-07-05  0.069565                        Moderate   \n",
       "2021-07-06  0.022609  Unhealthy for Sensitive Groups   \n",
       "2021-07-07  0.046296                            Good   \n",
       "2021-07-08  0.023188                            Good   \n",
       "\n",
       "           most_hazardous_pm10_level most_hazardous_CO_level  NoiseLevel_db  \\\n",
       "datetime                                                                      \n",
       "2021-04-20                      Good                    Good          66.23   \n",
       "2021-04-21                  Moderate                    Good          66.66   \n",
       "2021-04-22                  Moderate                    Good          66.20   \n",
       "2021-04-23                  Moderate                    Good          66.40   \n",
       "2021-04-24                      Good               Hazardous          64.81   \n",
       "...                              ...                     ...            ...   \n",
       "2021-07-04                      Good                    Good          60.49   \n",
       "2021-07-05                      Good                    Good          61.75   \n",
       "2021-07-06                      Good                    Good          64.71   \n",
       "2021-07-07                      Good                    Good          64.51   \n",
       "2021-07-08                      Good                    Good          64.15   \n",
       "\n",
       "            sensor_to_water_feet  sensor_to_water_meters  \\\n",
       "datetime                                                   \n",
       "2021-04-20                 13.24                    4.04   \n",
       "2021-04-21                 13.34                    4.07   \n",
       "2021-04-22                 13.30                    4.05   \n",
       "2021-04-23                 13.00                    3.96   \n",
       "2021-04-24                 13.13                    4.00   \n",
       "...                          ...                     ...   \n",
       "2021-07-04                  3.45                    1.05   \n",
       "2021-07-05                  3.46                    1.06   \n",
       "2021-07-06                  3.82                    1.16   \n",
       "2021-07-07                  3.45                    1.05   \n",
       "2021-07-08                  3.43                    1.04   \n",
       "\n",
       "            sensor_to_ground_feet  sensor_to_ground_meters  flood_depth_feet  \\\n",
       "datetime                                                                       \n",
       "2021-04-20                  13.50                     4.12              0.26   \n",
       "2021-04-21                  13.50                     4.12              0.16   \n",
       "2021-04-22                  13.50                     4.12              0.21   \n",
       "2021-04-23                  13.50                     4.12              0.50   \n",
       "2021-04-24                  13.50                     4.12              0.37   \n",
       "...                           ...                      ...               ...   \n",
       "2021-07-04                   3.38                     1.03             -0.08   \n",
       "2021-07-05                   3.35                     1.02             -0.12   \n",
       "2021-07-06                   3.38                     1.03             -0.44   \n",
       "2021-07-07                   3.35                     1.02             -0.10   \n",
       "2021-07-08                   3.38                     1.03             -0.05   \n",
       "\n",
       "            flood_depth_meters AQI_CO AQI_pm2_5 AQI_pm10  \n",
       "datetime                                                  \n",
       "2021-04-20                0.08   Good      Good     Good  \n",
       "2021-04-21                0.05   Good      Good     Good  \n",
       "2021-04-22                0.06   Good  Moderate     Good  \n",
       "2021-04-23                0.15   Good  Moderate     Good  \n",
       "2021-04-24                0.11   Good      Good     Good  \n",
       "...                        ...    ...       ...      ...  \n",
       "2021-07-04               -0.02   Good      Good     Good  \n",
       "2021-07-05               -0.04   Good      Good     Good  \n",
       "2021-07-06               -0.13   Good      Good     Good  \n",
       "2021-07-07               -0.03   Good      Good     Good  \n",
       "2021-07-08               -0.02   Good      Good     Good  \n",
       "\n",
       "[80 rows x 23 columns]"
      ]
     },
     "execution_count": 42,
     "metadata": {},
     "output_type": "execute_result"
    }
   ],
   "source": [
    "df"
   ]
  },
  {
   "cell_type": "code",
   "execution_count": 43,
   "metadata": {},
   "outputs": [
    {
     "data": {
      "text/plain": [
       "[Text(0.5, 1.0, 'Average PM 1.0 Level by Day of Week'),\n",
       " Text(0.5, 0, 'Day of Week'),\n",
       " Text(0, 0.5, 'PM 1.0 Level')]"
      ]
     },
     "execution_count": 43,
     "metadata": {},
     "output_type": "execute_result"
    },
    {
     "data": {
      "image/png": "[encoded data removed]",
      "text/plain": [
       "<Figure size 432x288 with 1 Axes>"
      ]
     },
     "metadata": {
      "needs_background": "light"
     },
     "output_type": "display_data"
    }
   ],
   "source": [
    "ax = df.Pm1_0.groupby(df.index.day_name()).mean().plot.bar(width=.9, ec='black')\n",
    "plt.xticks(rotation=0)\n",
    "ax.set(title='Average PM 1.0 Level by Day of Week', xlabel='Day of Week', ylabel='PM 1.0 Level')"
   ]
  },
  {
   "cell_type": "code",
   "execution_count": 44,
   "metadata": {},
   "outputs": [
    {
     "data": {
      "text/plain": [
       "[Text(0.5, 1.0, 'Average PM 2.5 Level by Day of Week'),\n",
       " Text(0.5, 0, 'Day of Week'),\n",
       " Text(0, 0.5, 'PM 2.5 Level')]"
      ]
     },
     "execution_count": 44,
     "metadata": {},
     "output_type": "execute_result"
    },
    {
     "data": {
      "image/png": "[encoded data removed]",
      "text/plain": [
       "<Figure size 432x288 with 1 Axes>"
      ]
     },
     "metadata": {
      "needs_background": "light"
     },
     "output_type": "display_data"
    }
   ],
   "source": [
    "ax = df.Pm2_5.groupby(df.index.day_name()).mean().plot.bar(width=.9, ec='black')\n",
    "plt.xticks(rotation=0)\n",
    "ax.set(title='Average PM 2.5 Level by Day of Week', xlabel='Day of Week', ylabel='PM 2.5 Level')"
   ]
  },
  {
   "cell_type": "code",
   "execution_count": 45,
   "metadata": {},
   "outputs": [
    {
     "data": {
      "text/plain": [
       "[Text(0.5, 1.0, 'Average PM 10 Level by Day of Week'),\n",
       " Text(0.5, 0, 'Day of Week'),\n",
       " Text(0, 0.5, 'PM 10 Level')]"
      ]
     },
     "execution_count": 45,
     "metadata": {},
     "output_type": "execute_result"
    },
    {
     "data": {
      "image/png": "[encoded data removed]",
      "text/plain": [
       "<Figure size 432x288 with 1 Axes>"
      ]
     },
     "metadata": {
      "needs_background": "light"
     },
     "output_type": "display_data"
    }
   ],
   "source": [
    "ax = df.Pm10.groupby(df.index.day_name()).mean().plot.bar(width=.9, ec='black')\n",
    "plt.xticks(rotation=0)\n",
    "ax.set(title='Average PM 10 Level by Day of Week', xlabel='Day of Week', ylabel='PM 10 Level')"
   ]
  },
  {
   "cell_type": "code",
   "execution_count": 46,
   "metadata": {},
   "outputs": [
    {
     "data": {
      "text/plain": [
       "[Text(0.5, 1.0, 'Average PM Carbon Monoxide Level by Day of Week'),\n",
       " Text(0.5, 0, 'Day of Week'),\n",
       " Text(0, 0.5, 'CO Level')]"
      ]
     },
     "execution_count": 46,
     "metadata": {},
     "output_type": "execute_result"
    },
    {
     "data": {
      "image/png": "[encoded data removed]",
      "text/plain": [
       "<Figure size 432x288 with 1 Axes>"
      ]
     },
     "metadata": {
      "needs_background": "light"
     },
     "output_type": "display_data"
    }
   ],
   "source": [
    "ax = df.CO.groupby(df.index.day_name()).mean().plot.bar(width=.9, ec='black')\n",
    "plt.xticks(rotation=0)\n",
    "ax.set(title='Average PM Carbon Monoxide Level by Day of Week', xlabel='Day of Week', ylabel='CO Level')"
   ]
  },
  {
   "cell_type": "code",
   "execution_count": null,
   "metadata": {},
   "outputs": [],
   "source": []
  }
 ],
 "metadata": {
  "kernelspec": {
   "display_name": "Python 3",
   "language": "python",
   "name": "python3"
  },
  "language_info": {
   "codemirror_mode": {
    "name": "ipython",
    "version": 3
   },
   "file_extension": ".py",
   "mimetype": "text/x-python",
   "name": "python",
   "nbconvert_exporter": "python",
   "pygments_lexer": "ipython3",
   "version": "3.8.5"
  }
 },
 "nbformat": 4,
 "nbformat_minor": 4
}
